{
 "cells": [
  {
   "cell_type": "markdown",
   "id": "5df96564",
   "metadata": {},
   "source": [
    "# Lawrence OLADEJI's  University of Ibadan MSc Project (IBEDC_OGUN), M2, Median"
   ]
  },
  {
   "cell_type": "markdown",
   "id": "a0217b54",
   "metadata": {},
   "source": [
    "# Importing Libaries"
   ]
  },
  {
   "cell_type": "code",
   "execution_count": 1,
   "id": "bb82ec38",
   "metadata": {},
   "outputs": [
    {
     "name": "stderr",
     "output_type": "stream",
     "text": [
      "C:\\Users\\USER\\anaconda3\\envs\\Tensor\\lib\\site-packages\\numpy\\_distributor_init.py:32: UserWarning: loaded more than 1 DLL from .libs:\n",
      "C:\\Users\\USER\\anaconda3\\envs\\Tensor\\lib\\site-packages\\numpy\\.libs\\libopenblas.PYQHXLVVQ7VESDPUVUADXEVJOBGHJPAY.gfortran-win_amd64.dll\n",
      "C:\\Users\\USER\\anaconda3\\envs\\Tensor\\lib\\site-packages\\numpy\\.libs\\libopenblas.WCDJNK7YVMPZQ2ME2ZZHJJRJ3JIKNDB7.gfortran-win_amd64.dll\n",
      "  stacklevel=1)\n"
     ]
    }
   ],
   "source": [
    "import pandas as pd\n",
    "import numpy as np\n",
    "import seaborn as sns\n",
    "import matplotlib.pyplot as plt\n",
    "%timeit\n",
    "%matplotlib inline\n",
    "sns.set()"
   ]
  },
  {
   "cell_type": "markdown",
   "id": "29eca499",
   "metadata": {},
   "source": [
    "# Loading structured datasets"
   ]
  },
  {
   "cell_type": "code",
   "execution_count": 2,
   "id": "8599bdfd",
   "metadata": {},
   "outputs": [],
   "source": [
    "data=pd.read_csv(\"C:/Users/USER/Desktop/Lawrence/UI Msc/Project folder/ibedcogun/data.csv\", parse_dates= {\"date\" : [\"year\",\"month\",\"dow\"]})"
   ]
  },
  {
   "cell_type": "markdown",
   "id": "e3cdc637",
   "metadata": {},
   "source": [
    "# Exploratory Data Analysis."
   ]
  },
  {
   "cell_type": "code",
   "execution_count": 3,
   "id": "5a6ecc2b",
   "metadata": {
    "scrolled": true
   },
   "outputs": [
    {
     "data": {
      "text/plain": [
       "Index(['date', 'ld', 'sd', 'time', 'dom', 'weekend', 'ALLSKY_SFC_SW_DWN',\n",
       "       'CLRSKY_SFC_SW_DWN', 'TOA_SW_DWN', 'ALLSKY_SFC_PAR_TOT',\n",
       "       'CLRSKY_SFC_PAR_TOT', 'ALLSKY_SFC_UVA', 'ALLSKY_SFC_UVB',\n",
       "       'ALLSKY_SFC_UV_INDEX', 'T2M', 'T2MDEW', 'T2MWET', 'QV2M', 'RH2M',\n",
       "       'PRECTOTCORR', 'WS10M', 'WS2M', 'SP', 'Power Supplied (MW)'],\n",
       "      dtype='object')"
      ]
     },
     "execution_count": 3,
     "metadata": {},
     "output_type": "execute_result"
    }
   ],
   "source": [
    "data.columns"
   ]
  },
  {
   "cell_type": "code",
   "execution_count": 4,
   "id": "8d489eba",
   "metadata": {},
   "outputs": [
    {
     "data": {
      "text/plain": [
       "(48936, 24)"
      ]
     },
     "execution_count": 4,
     "metadata": {},
     "output_type": "execute_result"
    }
   ],
   "source": [
    "data.shape"
   ]
  },
  {
   "cell_type": "code",
   "execution_count": 5,
   "id": "45da7db0",
   "metadata": {},
   "outputs": [
    {
     "data": {
      "text/html": [
       "<div>\n",
       "<style scoped>\n",
       "    .dataframe tbody tr th:only-of-type {\n",
       "        vertical-align: middle;\n",
       "    }\n",
       "\n",
       "    .dataframe tbody tr th {\n",
       "        vertical-align: top;\n",
       "    }\n",
       "\n",
       "    .dataframe thead th {\n",
       "        text-align: right;\n",
       "    }\n",
       "</style>\n",
       "<table border=\"1\" class=\"dataframe\">\n",
       "  <thead>\n",
       "    <tr style=\"text-align: right;\">\n",
       "      <th></th>\n",
       "      <th>date</th>\n",
       "      <th>ld</th>\n",
       "      <th>sd</th>\n",
       "      <th>time</th>\n",
       "      <th>dom</th>\n",
       "      <th>weekend</th>\n",
       "      <th>ALLSKY_SFC_SW_DWN</th>\n",
       "      <th>CLRSKY_SFC_SW_DWN</th>\n",
       "      <th>TOA_SW_DWN</th>\n",
       "      <th>ALLSKY_SFC_PAR_TOT</th>\n",
       "      <th>...</th>\n",
       "      <th>T2M</th>\n",
       "      <th>T2MDEW</th>\n",
       "      <th>T2MWET</th>\n",
       "      <th>QV2M</th>\n",
       "      <th>RH2M</th>\n",
       "      <th>PRECTOTCORR</th>\n",
       "      <th>WS10M</th>\n",
       "      <th>WS2M</th>\n",
       "      <th>SP</th>\n",
       "      <th>Power Supplied (MW)</th>\n",
       "    </tr>\n",
       "  </thead>\n",
       "  <tbody>\n",
       "    <tr>\n",
       "      <th>0</th>\n",
       "      <td>2015-11-01</td>\n",
       "      <td>11/1/2015</td>\n",
       "      <td>Sunday, November 1, 2015</td>\n",
       "      <td>12:00:00 AM</td>\n",
       "      <td>1</td>\n",
       "      <td>True</td>\n",
       "      <td>0.0</td>\n",
       "      <td>0.0</td>\n",
       "      <td>0.0</td>\n",
       "      <td>0.0</td>\n",
       "      <td>...</td>\n",
       "      <td>24.05</td>\n",
       "      <td>23.81</td>\n",
       "      <td>23.93</td>\n",
       "      <td>18.49</td>\n",
       "      <td>98.38</td>\n",
       "      <td>0.21</td>\n",
       "      <td>1.40</td>\n",
       "      <td>0.59</td>\n",
       "      <td>100.12</td>\n",
       "      <td>68.1</td>\n",
       "    </tr>\n",
       "    <tr>\n",
       "      <th>1</th>\n",
       "      <td>2015-11-01</td>\n",
       "      <td>11/1/2015</td>\n",
       "      <td>Sunday, November 1, 2015</td>\n",
       "      <td>1:00:00 AM</td>\n",
       "      <td>1</td>\n",
       "      <td>True</td>\n",
       "      <td>0.0</td>\n",
       "      <td>0.0</td>\n",
       "      <td>0.0</td>\n",
       "      <td>0.0</td>\n",
       "      <td>...</td>\n",
       "      <td>23.98</td>\n",
       "      <td>23.74</td>\n",
       "      <td>23.87</td>\n",
       "      <td>18.43</td>\n",
       "      <td>98.38</td>\n",
       "      <td>0.22</td>\n",
       "      <td>1.37</td>\n",
       "      <td>0.58</td>\n",
       "      <td>100.06</td>\n",
       "      <td>65.2</td>\n",
       "    </tr>\n",
       "    <tr>\n",
       "      <th>2</th>\n",
       "      <td>2015-11-01</td>\n",
       "      <td>11/1/2015</td>\n",
       "      <td>Sunday, November 1, 2015</td>\n",
       "      <td>2:00:00 AM</td>\n",
       "      <td>1</td>\n",
       "      <td>True</td>\n",
       "      <td>0.0</td>\n",
       "      <td>0.0</td>\n",
       "      <td>0.0</td>\n",
       "      <td>0.0</td>\n",
       "      <td>...</td>\n",
       "      <td>23.90</td>\n",
       "      <td>23.65</td>\n",
       "      <td>23.77</td>\n",
       "      <td>18.37</td>\n",
       "      <td>98.25</td>\n",
       "      <td>0.22</td>\n",
       "      <td>1.36</td>\n",
       "      <td>0.57</td>\n",
       "      <td>100.02</td>\n",
       "      <td>60.1</td>\n",
       "    </tr>\n",
       "    <tr>\n",
       "      <th>3</th>\n",
       "      <td>2015-11-01</td>\n",
       "      <td>11/1/2015</td>\n",
       "      <td>Sunday, November 1, 2015</td>\n",
       "      <td>3:00:00 AM</td>\n",
       "      <td>1</td>\n",
       "      <td>True</td>\n",
       "      <td>0.0</td>\n",
       "      <td>0.0</td>\n",
       "      <td>0.0</td>\n",
       "      <td>0.0</td>\n",
       "      <td>...</td>\n",
       "      <td>23.76</td>\n",
       "      <td>23.52</td>\n",
       "      <td>23.64</td>\n",
       "      <td>18.19</td>\n",
       "      <td>98.38</td>\n",
       "      <td>0.21</td>\n",
       "      <td>1.38</td>\n",
       "      <td>0.58</td>\n",
       "      <td>100.00</td>\n",
       "      <td>58.2</td>\n",
       "    </tr>\n",
       "    <tr>\n",
       "      <th>4</th>\n",
       "      <td>2015-11-01</td>\n",
       "      <td>11/1/2015</td>\n",
       "      <td>Sunday, November 1, 2015</td>\n",
       "      <td>4:00:00 AM</td>\n",
       "      <td>1</td>\n",
       "      <td>True</td>\n",
       "      <td>0.0</td>\n",
       "      <td>0.0</td>\n",
       "      <td>0.0</td>\n",
       "      <td>0.0</td>\n",
       "      <td>...</td>\n",
       "      <td>23.65</td>\n",
       "      <td>23.41</td>\n",
       "      <td>23.53</td>\n",
       "      <td>18.13</td>\n",
       "      <td>98.50</td>\n",
       "      <td>0.20</td>\n",
       "      <td>1.41</td>\n",
       "      <td>0.61</td>\n",
       "      <td>100.02</td>\n",
       "      <td>56.7</td>\n",
       "    </tr>\n",
       "  </tbody>\n",
       "</table>\n",
       "<p>5 rows × 24 columns</p>\n",
       "</div>"
      ],
      "text/plain": [
       "        date         ld                        sd         time  dom  weekend  \\\n",
       "0 2015-11-01  11/1/2015  Sunday, November 1, 2015  12:00:00 AM    1     True   \n",
       "1 2015-11-01  11/1/2015  Sunday, November 1, 2015   1:00:00 AM    1     True   \n",
       "2 2015-11-01  11/1/2015  Sunday, November 1, 2015   2:00:00 AM    1     True   \n",
       "3 2015-11-01  11/1/2015  Sunday, November 1, 2015   3:00:00 AM    1     True   \n",
       "4 2015-11-01  11/1/2015  Sunday, November 1, 2015   4:00:00 AM    1     True   \n",
       "\n",
       "   ALLSKY_SFC_SW_DWN  CLRSKY_SFC_SW_DWN  TOA_SW_DWN  ALLSKY_SFC_PAR_TOT  ...  \\\n",
       "0                0.0                0.0         0.0                 0.0  ...   \n",
       "1                0.0                0.0         0.0                 0.0  ...   \n",
       "2                0.0                0.0         0.0                 0.0  ...   \n",
       "3                0.0                0.0         0.0                 0.0  ...   \n",
       "4                0.0                0.0         0.0                 0.0  ...   \n",
       "\n",
       "     T2M  T2MDEW  T2MWET   QV2M   RH2M  PRECTOTCORR  WS10M  WS2M      SP  \\\n",
       "0  24.05   23.81   23.93  18.49  98.38         0.21   1.40  0.59  100.12   \n",
       "1  23.98   23.74   23.87  18.43  98.38         0.22   1.37  0.58  100.06   \n",
       "2  23.90   23.65   23.77  18.37  98.25         0.22   1.36  0.57  100.02   \n",
       "3  23.76   23.52   23.64  18.19  98.38         0.21   1.38  0.58  100.00   \n",
       "4  23.65   23.41   23.53  18.13  98.50         0.20   1.41  0.61  100.02   \n",
       "\n",
       "   Power Supplied (MW)  \n",
       "0                 68.1  \n",
       "1                 65.2  \n",
       "2                 60.1  \n",
       "3                 58.2  \n",
       "4                 56.7  \n",
       "\n",
       "[5 rows x 24 columns]"
      ]
     },
     "execution_count": 5,
     "metadata": {},
     "output_type": "execute_result"
    }
   ],
   "source": [
    "data.head(5)"
   ]
  },
  {
   "cell_type": "code",
   "execution_count": 6,
   "id": "9f935196",
   "metadata": {},
   "outputs": [],
   "source": [
    "data.reset_index(drop=True, inplace=True)"
   ]
  },
  {
   "cell_type": "code",
   "execution_count": 7,
   "id": "2992a62a",
   "metadata": {
    "scrolled": true
   },
   "outputs": [
    {
     "data": {
      "text/html": [
       "<div>\n",
       "<style scoped>\n",
       "    .dataframe tbody tr th:only-of-type {\n",
       "        vertical-align: middle;\n",
       "    }\n",
       "\n",
       "    .dataframe tbody tr th {\n",
       "        vertical-align: top;\n",
       "    }\n",
       "\n",
       "    .dataframe thead th {\n",
       "        text-align: right;\n",
       "    }\n",
       "</style>\n",
       "<table border=\"1\" class=\"dataframe\">\n",
       "  <thead>\n",
       "    <tr style=\"text-align: right;\">\n",
       "      <th></th>\n",
       "      <th>date</th>\n",
       "      <th>ld</th>\n",
       "      <th>sd</th>\n",
       "      <th>time</th>\n",
       "      <th>dom</th>\n",
       "      <th>weekend</th>\n",
       "      <th>ALLSKY_SFC_SW_DWN</th>\n",
       "      <th>CLRSKY_SFC_SW_DWN</th>\n",
       "      <th>TOA_SW_DWN</th>\n",
       "      <th>ALLSKY_SFC_PAR_TOT</th>\n",
       "      <th>...</th>\n",
       "      <th>T2M</th>\n",
       "      <th>T2MDEW</th>\n",
       "      <th>T2MWET</th>\n",
       "      <th>QV2M</th>\n",
       "      <th>RH2M</th>\n",
       "      <th>PRECTOTCORR</th>\n",
       "      <th>WS10M</th>\n",
       "      <th>WS2M</th>\n",
       "      <th>SP</th>\n",
       "      <th>Power Supplied (MW)</th>\n",
       "    </tr>\n",
       "  </thead>\n",
       "  <tbody>\n",
       "    <tr>\n",
       "      <th>0</th>\n",
       "      <td>2015-11-01</td>\n",
       "      <td>11/1/2015</td>\n",
       "      <td>Sunday, November 1, 2015</td>\n",
       "      <td>12:00:00 AM</td>\n",
       "      <td>1</td>\n",
       "      <td>True</td>\n",
       "      <td>0.0</td>\n",
       "      <td>0.0</td>\n",
       "      <td>0.0</td>\n",
       "      <td>0.0</td>\n",
       "      <td>...</td>\n",
       "      <td>24.05</td>\n",
       "      <td>23.81</td>\n",
       "      <td>23.93</td>\n",
       "      <td>18.49</td>\n",
       "      <td>98.38</td>\n",
       "      <td>0.21</td>\n",
       "      <td>1.40</td>\n",
       "      <td>0.59</td>\n",
       "      <td>100.12</td>\n",
       "      <td>68.1</td>\n",
       "    </tr>\n",
       "    <tr>\n",
       "      <th>1</th>\n",
       "      <td>2015-11-01</td>\n",
       "      <td>11/1/2015</td>\n",
       "      <td>Sunday, November 1, 2015</td>\n",
       "      <td>1:00:00 AM</td>\n",
       "      <td>1</td>\n",
       "      <td>True</td>\n",
       "      <td>0.0</td>\n",
       "      <td>0.0</td>\n",
       "      <td>0.0</td>\n",
       "      <td>0.0</td>\n",
       "      <td>...</td>\n",
       "      <td>23.98</td>\n",
       "      <td>23.74</td>\n",
       "      <td>23.87</td>\n",
       "      <td>18.43</td>\n",
       "      <td>98.38</td>\n",
       "      <td>0.22</td>\n",
       "      <td>1.37</td>\n",
       "      <td>0.58</td>\n",
       "      <td>100.06</td>\n",
       "      <td>65.2</td>\n",
       "    </tr>\n",
       "    <tr>\n",
       "      <th>2</th>\n",
       "      <td>2015-11-01</td>\n",
       "      <td>11/1/2015</td>\n",
       "      <td>Sunday, November 1, 2015</td>\n",
       "      <td>2:00:00 AM</td>\n",
       "      <td>1</td>\n",
       "      <td>True</td>\n",
       "      <td>0.0</td>\n",
       "      <td>0.0</td>\n",
       "      <td>0.0</td>\n",
       "      <td>0.0</td>\n",
       "      <td>...</td>\n",
       "      <td>23.90</td>\n",
       "      <td>23.65</td>\n",
       "      <td>23.77</td>\n",
       "      <td>18.37</td>\n",
       "      <td>98.25</td>\n",
       "      <td>0.22</td>\n",
       "      <td>1.36</td>\n",
       "      <td>0.57</td>\n",
       "      <td>100.02</td>\n",
       "      <td>60.1</td>\n",
       "    </tr>\n",
       "    <tr>\n",
       "      <th>3</th>\n",
       "      <td>2015-11-01</td>\n",
       "      <td>11/1/2015</td>\n",
       "      <td>Sunday, November 1, 2015</td>\n",
       "      <td>3:00:00 AM</td>\n",
       "      <td>1</td>\n",
       "      <td>True</td>\n",
       "      <td>0.0</td>\n",
       "      <td>0.0</td>\n",
       "      <td>0.0</td>\n",
       "      <td>0.0</td>\n",
       "      <td>...</td>\n",
       "      <td>23.76</td>\n",
       "      <td>23.52</td>\n",
       "      <td>23.64</td>\n",
       "      <td>18.19</td>\n",
       "      <td>98.38</td>\n",
       "      <td>0.21</td>\n",
       "      <td>1.38</td>\n",
       "      <td>0.58</td>\n",
       "      <td>100.00</td>\n",
       "      <td>58.2</td>\n",
       "    </tr>\n",
       "    <tr>\n",
       "      <th>4</th>\n",
       "      <td>2015-11-01</td>\n",
       "      <td>11/1/2015</td>\n",
       "      <td>Sunday, November 1, 2015</td>\n",
       "      <td>4:00:00 AM</td>\n",
       "      <td>1</td>\n",
       "      <td>True</td>\n",
       "      <td>0.0</td>\n",
       "      <td>0.0</td>\n",
       "      <td>0.0</td>\n",
       "      <td>0.0</td>\n",
       "      <td>...</td>\n",
       "      <td>23.65</td>\n",
       "      <td>23.41</td>\n",
       "      <td>23.53</td>\n",
       "      <td>18.13</td>\n",
       "      <td>98.50</td>\n",
       "      <td>0.20</td>\n",
       "      <td>1.41</td>\n",
       "      <td>0.61</td>\n",
       "      <td>100.02</td>\n",
       "      <td>56.7</td>\n",
       "    </tr>\n",
       "  </tbody>\n",
       "</table>\n",
       "<p>5 rows × 24 columns</p>\n",
       "</div>"
      ],
      "text/plain": [
       "        date         ld                        sd         time  dom  weekend  \\\n",
       "0 2015-11-01  11/1/2015  Sunday, November 1, 2015  12:00:00 AM    1     True   \n",
       "1 2015-11-01  11/1/2015  Sunday, November 1, 2015   1:00:00 AM    1     True   \n",
       "2 2015-11-01  11/1/2015  Sunday, November 1, 2015   2:00:00 AM    1     True   \n",
       "3 2015-11-01  11/1/2015  Sunday, November 1, 2015   3:00:00 AM    1     True   \n",
       "4 2015-11-01  11/1/2015  Sunday, November 1, 2015   4:00:00 AM    1     True   \n",
       "\n",
       "   ALLSKY_SFC_SW_DWN  CLRSKY_SFC_SW_DWN  TOA_SW_DWN  ALLSKY_SFC_PAR_TOT  ...  \\\n",
       "0                0.0                0.0         0.0                 0.0  ...   \n",
       "1                0.0                0.0         0.0                 0.0  ...   \n",
       "2                0.0                0.0         0.0                 0.0  ...   \n",
       "3                0.0                0.0         0.0                 0.0  ...   \n",
       "4                0.0                0.0         0.0                 0.0  ...   \n",
       "\n",
       "     T2M  T2MDEW  T2MWET   QV2M   RH2M  PRECTOTCORR  WS10M  WS2M      SP  \\\n",
       "0  24.05   23.81   23.93  18.49  98.38         0.21   1.40  0.59  100.12   \n",
       "1  23.98   23.74   23.87  18.43  98.38         0.22   1.37  0.58  100.06   \n",
       "2  23.90   23.65   23.77  18.37  98.25         0.22   1.36  0.57  100.02   \n",
       "3  23.76   23.52   23.64  18.19  98.38         0.21   1.38  0.58  100.00   \n",
       "4  23.65   23.41   23.53  18.13  98.50         0.20   1.41  0.61  100.02   \n",
       "\n",
       "   Power Supplied (MW)  \n",
       "0                 68.1  \n",
       "1                 65.2  \n",
       "2                 60.1  \n",
       "3                 58.2  \n",
       "4                 56.7  \n",
       "\n",
       "[5 rows x 24 columns]"
      ]
     },
     "execution_count": 7,
     "metadata": {},
     "output_type": "execute_result"
    }
   ],
   "source": [
    "data.head()"
   ]
  },
  {
   "cell_type": "code",
   "execution_count": 8,
   "id": "75d6c723",
   "metadata": {
    "scrolled": false
   },
   "outputs": [
    {
     "data": {
      "text/html": [
       "<div>\n",
       "<style scoped>\n",
       "    .dataframe tbody tr th:only-of-type {\n",
       "        vertical-align: middle;\n",
       "    }\n",
       "\n",
       "    .dataframe tbody tr th {\n",
       "        vertical-align: top;\n",
       "    }\n",
       "\n",
       "    .dataframe thead th {\n",
       "        text-align: right;\n",
       "    }\n",
       "</style>\n",
       "<table border=\"1\" class=\"dataframe\">\n",
       "  <thead>\n",
       "    <tr style=\"text-align: right;\">\n",
       "      <th></th>\n",
       "      <th>dom</th>\n",
       "      <th>ALLSKY_SFC_SW_DWN</th>\n",
       "      <th>CLRSKY_SFC_SW_DWN</th>\n",
       "      <th>TOA_SW_DWN</th>\n",
       "      <th>ALLSKY_SFC_PAR_TOT</th>\n",
       "      <th>CLRSKY_SFC_PAR_TOT</th>\n",
       "      <th>ALLSKY_SFC_UVA</th>\n",
       "      <th>ALLSKY_SFC_UVB</th>\n",
       "      <th>ALLSKY_SFC_UV_INDEX</th>\n",
       "      <th>T2M</th>\n",
       "      <th>T2MDEW</th>\n",
       "      <th>T2MWET</th>\n",
       "      <th>QV2M</th>\n",
       "      <th>RH2M</th>\n",
       "      <th>PRECTOTCORR</th>\n",
       "      <th>WS10M</th>\n",
       "      <th>WS2M</th>\n",
       "      <th>SP</th>\n",
       "      <th>Power Supplied (MW)</th>\n",
       "    </tr>\n",
       "  </thead>\n",
       "  <tbody>\n",
       "    <tr>\n",
       "      <th>count</th>\n",
       "      <td>48936.000000</td>\n",
       "      <td>48936.000000</td>\n",
       "      <td>48936.000000</td>\n",
       "      <td>48936.000000</td>\n",
       "      <td>48936.000000</td>\n",
       "      <td>48936.000000</td>\n",
       "      <td>48936.000000</td>\n",
       "      <td>48936.000000</td>\n",
       "      <td>48936.000000</td>\n",
       "      <td>48936.000000</td>\n",
       "      <td>48936.000000</td>\n",
       "      <td>48936.000000</td>\n",
       "      <td>48936.000000</td>\n",
       "      <td>48936.000000</td>\n",
       "      <td>48936.000000</td>\n",
       "      <td>48936.000000</td>\n",
       "      <td>48936.000000</td>\n",
       "      <td>48936.000000</td>\n",
       "      <td>48934.000000</td>\n",
       "    </tr>\n",
       "    <tr>\n",
       "      <th>mean</th>\n",
       "      <td>15.727317</td>\n",
       "      <td>0.702348</td>\n",
       "      <td>0.918382</td>\n",
       "      <td>1.482005</td>\n",
       "      <td>89.392322</td>\n",
       "      <td>116.072979</td>\n",
       "      <td>11.210191</td>\n",
       "      <td>0.320013</td>\n",
       "      <td>1.207998</td>\n",
       "      <td>25.760204</td>\n",
       "      <td>23.266925</td>\n",
       "      <td>24.513579</td>\n",
       "      <td>18.061904</td>\n",
       "      <td>87.158187</td>\n",
       "      <td>0.197009</td>\n",
       "      <td>1.939812</td>\n",
       "      <td>1.124765</td>\n",
       "      <td>100.072701</td>\n",
       "      <td>86.209200</td>\n",
       "    </tr>\n",
       "    <tr>\n",
       "      <th>std</th>\n",
       "      <td>8.798870</td>\n",
       "      <td>0.939882</td>\n",
       "      <td>1.192880</td>\n",
       "      <td>1.789757</td>\n",
       "      <td>120.574739</td>\n",
       "      <td>151.629733</td>\n",
       "      <td>15.275517</td>\n",
       "      <td>0.497703</td>\n",
       "      <td>21.371786</td>\n",
       "      <td>2.687356</td>\n",
       "      <td>2.131188</td>\n",
       "      <td>1.993872</td>\n",
       "      <td>2.046118</td>\n",
       "      <td>12.607574</td>\n",
       "      <td>0.439348</td>\n",
       "      <td>0.736856</td>\n",
       "      <td>0.541947</td>\n",
       "      <td>0.806128</td>\n",
       "      <td>46.735541</td>\n",
       "    </tr>\n",
       "    <tr>\n",
       "      <th>min</th>\n",
       "      <td>1.000000</td>\n",
       "      <td>0.000000</td>\n",
       "      <td>0.000000</td>\n",
       "      <td>0.000000</td>\n",
       "      <td>0.000000</td>\n",
       "      <td>0.000000</td>\n",
       "      <td>0.000000</td>\n",
       "      <td>0.000000</td>\n",
       "      <td>-999.000000</td>\n",
       "      <td>13.220000</td>\n",
       "      <td>8.940000</td>\n",
       "      <td>11.800000</td>\n",
       "      <td>7.140000</td>\n",
       "      <td>28.250000</td>\n",
       "      <td>0.000000</td>\n",
       "      <td>0.020000</td>\n",
       "      <td>0.010000</td>\n",
       "      <td>12.100000</td>\n",
       "      <td>0.000000</td>\n",
       "    </tr>\n",
       "    <tr>\n",
       "      <th>25%</th>\n",
       "      <td>8.000000</td>\n",
       "      <td>0.000000</td>\n",
       "      <td>0.000000</td>\n",
       "      <td>0.000000</td>\n",
       "      <td>0.000000</td>\n",
       "      <td>0.000000</td>\n",
       "      <td>0.000000</td>\n",
       "      <td>0.000000</td>\n",
       "      <td>0.000000</td>\n",
       "      <td>23.890000</td>\n",
       "      <td>22.900000</td>\n",
       "      <td>23.510000</td>\n",
       "      <td>17.520000</td>\n",
       "      <td>78.690000</td>\n",
       "      <td>0.010000</td>\n",
       "      <td>1.520000</td>\n",
       "      <td>0.730000</td>\n",
       "      <td>99.940000</td>\n",
       "      <td>61.600000</td>\n",
       "    </tr>\n",
       "    <tr>\n",
       "      <th>50%</th>\n",
       "      <td>16.000000</td>\n",
       "      <td>0.030000</td>\n",
       "      <td>0.020000</td>\n",
       "      <td>0.110000</td>\n",
       "      <td>2.380000</td>\n",
       "      <td>2.730000</td>\n",
       "      <td>0.310000</td>\n",
       "      <td>0.000000</td>\n",
       "      <td>0.000000</td>\n",
       "      <td>25.330000</td>\n",
       "      <td>23.780000</td>\n",
       "      <td>24.680000</td>\n",
       "      <td>18.490000</td>\n",
       "      <td>92.440000</td>\n",
       "      <td>0.060000</td>\n",
       "      <td>1.810000</td>\n",
       "      <td>0.960000</td>\n",
       "      <td>100.070000</td>\n",
       "      <td>95.200000</td>\n",
       "    </tr>\n",
       "    <tr>\n",
       "      <th>75%</th>\n",
       "      <td>23.000000</td>\n",
       "      <td>1.390000</td>\n",
       "      <td>2.000000</td>\n",
       "      <td>3.220000</td>\n",
       "      <td>177.800000</td>\n",
       "      <td>251.620000</td>\n",
       "      <td>22.300000</td>\n",
       "      <td>0.560000</td>\n",
       "      <td>2.880000</td>\n",
       "      <td>27.800000</td>\n",
       "      <td>24.500000</td>\n",
       "      <td>25.890000</td>\n",
       "      <td>19.350000</td>\n",
       "      <td>97.440000</td>\n",
       "      <td>0.210000</td>\n",
       "      <td>2.290000</td>\n",
       "      <td>1.420000</td>\n",
       "      <td>100.210000</td>\n",
       "      <td>117.200000</td>\n",
       "    </tr>\n",
       "    <tr>\n",
       "      <th>max</th>\n",
       "      <td>31.000000</td>\n",
       "      <td>3.440000</td>\n",
       "      <td>3.580000</td>\n",
       "      <td>4.870000</td>\n",
       "      <td>462.620000</td>\n",
       "      <td>462.900000</td>\n",
       "      <td>62.480000</td>\n",
       "      <td>2.330000</td>\n",
       "      <td>13.020000</td>\n",
       "      <td>34.100000</td>\n",
       "      <td>26.760000</td>\n",
       "      <td>28.790000</td>\n",
       "      <td>22.220000</td>\n",
       "      <td>100.000000</td>\n",
       "      <td>14.550000</td>\n",
       "      <td>5.820000</td>\n",
       "      <td>3.740000</td>\n",
       "      <td>153.800000</td>\n",
       "      <td>226.500000</td>\n",
       "    </tr>\n",
       "  </tbody>\n",
       "</table>\n",
       "</div>"
      ],
      "text/plain": [
       "                dom  ALLSKY_SFC_SW_DWN  CLRSKY_SFC_SW_DWN    TOA_SW_DWN  \\\n",
       "count  48936.000000       48936.000000       48936.000000  48936.000000   \n",
       "mean      15.727317           0.702348           0.918382      1.482005   \n",
       "std        8.798870           0.939882           1.192880      1.789757   \n",
       "min        1.000000           0.000000           0.000000      0.000000   \n",
       "25%        8.000000           0.000000           0.000000      0.000000   \n",
       "50%       16.000000           0.030000           0.020000      0.110000   \n",
       "75%       23.000000           1.390000           2.000000      3.220000   \n",
       "max       31.000000           3.440000           3.580000      4.870000   \n",
       "\n",
       "       ALLSKY_SFC_PAR_TOT  CLRSKY_SFC_PAR_TOT  ALLSKY_SFC_UVA  ALLSKY_SFC_UVB  \\\n",
       "count        48936.000000        48936.000000    48936.000000    48936.000000   \n",
       "mean            89.392322          116.072979       11.210191        0.320013   \n",
       "std            120.574739          151.629733       15.275517        0.497703   \n",
       "min              0.000000            0.000000        0.000000        0.000000   \n",
       "25%              0.000000            0.000000        0.000000        0.000000   \n",
       "50%              2.380000            2.730000        0.310000        0.000000   \n",
       "75%            177.800000          251.620000       22.300000        0.560000   \n",
       "max            462.620000          462.900000       62.480000        2.330000   \n",
       "\n",
       "       ALLSKY_SFC_UV_INDEX           T2M        T2MDEW        T2MWET  \\\n",
       "count         48936.000000  48936.000000  48936.000000  48936.000000   \n",
       "mean              1.207998     25.760204     23.266925     24.513579   \n",
       "std              21.371786      2.687356      2.131188      1.993872   \n",
       "min            -999.000000     13.220000      8.940000     11.800000   \n",
       "25%               0.000000     23.890000     22.900000     23.510000   \n",
       "50%               0.000000     25.330000     23.780000     24.680000   \n",
       "75%               2.880000     27.800000     24.500000     25.890000   \n",
       "max              13.020000     34.100000     26.760000     28.790000   \n",
       "\n",
       "               QV2M          RH2M   PRECTOTCORR         WS10M          WS2M  \\\n",
       "count  48936.000000  48936.000000  48936.000000  48936.000000  48936.000000   \n",
       "mean      18.061904     87.158187      0.197009      1.939812      1.124765   \n",
       "std        2.046118     12.607574      0.439348      0.736856      0.541947   \n",
       "min        7.140000     28.250000      0.000000      0.020000      0.010000   \n",
       "25%       17.520000     78.690000      0.010000      1.520000      0.730000   \n",
       "50%       18.490000     92.440000      0.060000      1.810000      0.960000   \n",
       "75%       19.350000     97.440000      0.210000      2.290000      1.420000   \n",
       "max       22.220000    100.000000     14.550000      5.820000      3.740000   \n",
       "\n",
       "                 SP  Power Supplied (MW)  \n",
       "count  48936.000000         48934.000000  \n",
       "mean     100.072701            86.209200  \n",
       "std        0.806128            46.735541  \n",
       "min       12.100000             0.000000  \n",
       "25%       99.940000            61.600000  \n",
       "50%      100.070000            95.200000  \n",
       "75%      100.210000           117.200000  \n",
       "max      153.800000           226.500000  "
      ]
     },
     "execution_count": 8,
     "metadata": {},
     "output_type": "execute_result"
    }
   ],
   "source": [
    "data.describe()"
   ]
  },
  {
   "cell_type": "code",
   "execution_count": 10,
   "id": "abdd58e5",
   "metadata": {},
   "outputs": [],
   "source": [
    "# feature importance using tree based classifiers\n",
    "X = data.drop('Power Supplied (MW)', axis =1) # independent columns\n",
    "y = data['Power Supplied (MW)'] # dependent/target column"
   ]
  },
  {
   "cell_type": "code",
   "execution_count": 12,
   "id": "8a579b04",
   "metadata": {},
   "outputs": [],
   "source": [
    "from sklearn.model_selection import train_test_split\n",
    "X_train, X_test, y_train, y_test = train_test_split(X, y, test_size=0.33, random_state=42)"
   ]
  },
  {
   "cell_type": "code",
   "execution_count": 13,
   "id": "cb1d0973",
   "metadata": {},
   "outputs": [],
   "source": [
    "data.drop(data.columns[[0,1,2,3,4,5]], axis=1, inplace=True)"
   ]
  },
  {
   "cell_type": "code",
   "execution_count": 14,
   "id": "c085434b",
   "metadata": {},
   "outputs": [
    {
     "data": {
      "text/html": [
       "<div>\n",
       "<style scoped>\n",
       "    .dataframe tbody tr th:only-of-type {\n",
       "        vertical-align: middle;\n",
       "    }\n",
       "\n",
       "    .dataframe tbody tr th {\n",
       "        vertical-align: top;\n",
       "    }\n",
       "\n",
       "    .dataframe thead th {\n",
       "        text-align: right;\n",
       "    }\n",
       "</style>\n",
       "<table border=\"1\" class=\"dataframe\">\n",
       "  <thead>\n",
       "    <tr style=\"text-align: right;\">\n",
       "      <th></th>\n",
       "      <th>ALLSKY_SFC_SW_DWN</th>\n",
       "      <th>CLRSKY_SFC_SW_DWN</th>\n",
       "      <th>TOA_SW_DWN</th>\n",
       "      <th>ALLSKY_SFC_PAR_TOT</th>\n",
       "      <th>CLRSKY_SFC_PAR_TOT</th>\n",
       "      <th>ALLSKY_SFC_UVA</th>\n",
       "      <th>ALLSKY_SFC_UVB</th>\n",
       "      <th>ALLSKY_SFC_UV_INDEX</th>\n",
       "      <th>T2M</th>\n",
       "      <th>T2MDEW</th>\n",
       "      <th>T2MWET</th>\n",
       "      <th>QV2M</th>\n",
       "      <th>RH2M</th>\n",
       "      <th>PRECTOTCORR</th>\n",
       "      <th>WS10M</th>\n",
       "      <th>WS2M</th>\n",
       "      <th>SP</th>\n",
       "      <th>Power Supplied (MW)</th>\n",
       "    </tr>\n",
       "  </thead>\n",
       "  <tbody>\n",
       "    <tr>\n",
       "      <th>0</th>\n",
       "      <td>0.0</td>\n",
       "      <td>0.0</td>\n",
       "      <td>0.0</td>\n",
       "      <td>0.0</td>\n",
       "      <td>0.0</td>\n",
       "      <td>0.0</td>\n",
       "      <td>0.0</td>\n",
       "      <td>0.0</td>\n",
       "      <td>24.05</td>\n",
       "      <td>23.81</td>\n",
       "      <td>23.93</td>\n",
       "      <td>18.49</td>\n",
       "      <td>98.38</td>\n",
       "      <td>0.21</td>\n",
       "      <td>1.40</td>\n",
       "      <td>0.59</td>\n",
       "      <td>100.12</td>\n",
       "      <td>68.1</td>\n",
       "    </tr>\n",
       "    <tr>\n",
       "      <th>1</th>\n",
       "      <td>0.0</td>\n",
       "      <td>0.0</td>\n",
       "      <td>0.0</td>\n",
       "      <td>0.0</td>\n",
       "      <td>0.0</td>\n",
       "      <td>0.0</td>\n",
       "      <td>0.0</td>\n",
       "      <td>0.0</td>\n",
       "      <td>23.98</td>\n",
       "      <td>23.74</td>\n",
       "      <td>23.87</td>\n",
       "      <td>18.43</td>\n",
       "      <td>98.38</td>\n",
       "      <td>0.22</td>\n",
       "      <td>1.37</td>\n",
       "      <td>0.58</td>\n",
       "      <td>100.06</td>\n",
       "      <td>65.2</td>\n",
       "    </tr>\n",
       "    <tr>\n",
       "      <th>2</th>\n",
       "      <td>0.0</td>\n",
       "      <td>0.0</td>\n",
       "      <td>0.0</td>\n",
       "      <td>0.0</td>\n",
       "      <td>0.0</td>\n",
       "      <td>0.0</td>\n",
       "      <td>0.0</td>\n",
       "      <td>0.0</td>\n",
       "      <td>23.90</td>\n",
       "      <td>23.65</td>\n",
       "      <td>23.77</td>\n",
       "      <td>18.37</td>\n",
       "      <td>98.25</td>\n",
       "      <td>0.22</td>\n",
       "      <td>1.36</td>\n",
       "      <td>0.57</td>\n",
       "      <td>100.02</td>\n",
       "      <td>60.1</td>\n",
       "    </tr>\n",
       "    <tr>\n",
       "      <th>3</th>\n",
       "      <td>0.0</td>\n",
       "      <td>0.0</td>\n",
       "      <td>0.0</td>\n",
       "      <td>0.0</td>\n",
       "      <td>0.0</td>\n",
       "      <td>0.0</td>\n",
       "      <td>0.0</td>\n",
       "      <td>0.0</td>\n",
       "      <td>23.76</td>\n",
       "      <td>23.52</td>\n",
       "      <td>23.64</td>\n",
       "      <td>18.19</td>\n",
       "      <td>98.38</td>\n",
       "      <td>0.21</td>\n",
       "      <td>1.38</td>\n",
       "      <td>0.58</td>\n",
       "      <td>100.00</td>\n",
       "      <td>58.2</td>\n",
       "    </tr>\n",
       "    <tr>\n",
       "      <th>4</th>\n",
       "      <td>0.0</td>\n",
       "      <td>0.0</td>\n",
       "      <td>0.0</td>\n",
       "      <td>0.0</td>\n",
       "      <td>0.0</td>\n",
       "      <td>0.0</td>\n",
       "      <td>0.0</td>\n",
       "      <td>0.0</td>\n",
       "      <td>23.65</td>\n",
       "      <td>23.41</td>\n",
       "      <td>23.53</td>\n",
       "      <td>18.13</td>\n",
       "      <td>98.50</td>\n",
       "      <td>0.20</td>\n",
       "      <td>1.41</td>\n",
       "      <td>0.61</td>\n",
       "      <td>100.02</td>\n",
       "      <td>56.7</td>\n",
       "    </tr>\n",
       "  </tbody>\n",
       "</table>\n",
       "</div>"
      ],
      "text/plain": [
       "   ALLSKY_SFC_SW_DWN  CLRSKY_SFC_SW_DWN  TOA_SW_DWN  ALLSKY_SFC_PAR_TOT  \\\n",
       "0                0.0                0.0         0.0                 0.0   \n",
       "1                0.0                0.0         0.0                 0.0   \n",
       "2                0.0                0.0         0.0                 0.0   \n",
       "3                0.0                0.0         0.0                 0.0   \n",
       "4                0.0                0.0         0.0                 0.0   \n",
       "\n",
       "   CLRSKY_SFC_PAR_TOT  ALLSKY_SFC_UVA  ALLSKY_SFC_UVB  ALLSKY_SFC_UV_INDEX  \\\n",
       "0                 0.0             0.0             0.0                  0.0   \n",
       "1                 0.0             0.0             0.0                  0.0   \n",
       "2                 0.0             0.0             0.0                  0.0   \n",
       "3                 0.0             0.0             0.0                  0.0   \n",
       "4                 0.0             0.0             0.0                  0.0   \n",
       "\n",
       "     T2M  T2MDEW  T2MWET   QV2M   RH2M  PRECTOTCORR  WS10M  WS2M      SP  \\\n",
       "0  24.05   23.81   23.93  18.49  98.38         0.21   1.40  0.59  100.12   \n",
       "1  23.98   23.74   23.87  18.43  98.38         0.22   1.37  0.58  100.06   \n",
       "2  23.90   23.65   23.77  18.37  98.25         0.22   1.36  0.57  100.02   \n",
       "3  23.76   23.52   23.64  18.19  98.38         0.21   1.38  0.58  100.00   \n",
       "4  23.65   23.41   23.53  18.13  98.50         0.20   1.41  0.61  100.02   \n",
       "\n",
       "   Power Supplied (MW)  \n",
       "0                 68.1  \n",
       "1                 65.2  \n",
       "2                 60.1  \n",
       "3                 58.2  \n",
       "4                 56.7  "
      ]
     },
     "execution_count": 14,
     "metadata": {},
     "output_type": "execute_result"
    }
   ],
   "source": [
    "data.head()"
   ]
  },
  {
   "cell_type": "code",
   "execution_count": 15,
   "id": "7894b7ae",
   "metadata": {
    "scrolled": true
   },
   "outputs": [
    {
     "data": {
      "text/plain": [
       "ALLSKY_SFC_SW_DWN      float64\n",
       "CLRSKY_SFC_SW_DWN      float64\n",
       "TOA_SW_DWN             float64\n",
       "ALLSKY_SFC_PAR_TOT     float64\n",
       "CLRSKY_SFC_PAR_TOT     float64\n",
       "ALLSKY_SFC_UVA         float64\n",
       "ALLSKY_SFC_UVB         float64\n",
       "ALLSKY_SFC_UV_INDEX    float64\n",
       "T2M                    float64\n",
       "T2MDEW                 float64\n",
       "T2MWET                 float64\n",
       "QV2M                   float64\n",
       "RH2M                   float64\n",
       "PRECTOTCORR            float64\n",
       "WS10M                  float64\n",
       "WS2M                   float64\n",
       "SP                     float64\n",
       "Power Supplied (MW)    float64\n",
       "dtype: object"
      ]
     },
     "execution_count": 15,
     "metadata": {},
     "output_type": "execute_result"
    }
   ],
   "source": [
    "data.dtypes"
   ]
  },
  {
   "cell_type": "code",
   "execution_count": 16,
   "id": "2dd7d19f",
   "metadata": {},
   "outputs": [],
   "source": [
    "datanew=data"
   ]
  },
  {
   "cell_type": "code",
   "execution_count": 17,
   "id": "c2a36845",
   "metadata": {},
   "outputs": [],
   "source": [
    "datamedian=datanew.mask(datanew==0).fillna(datanew.median())"
   ]
  },
  {
   "cell_type": "code",
   "execution_count": 18,
   "id": "cc1cef8f",
   "metadata": {
    "scrolled": true
   },
   "outputs": [
    {
     "data": {
      "text/html": [
       "<div>\n",
       "<style scoped>\n",
       "    .dataframe tbody tr th:only-of-type {\n",
       "        vertical-align: middle;\n",
       "    }\n",
       "\n",
       "    .dataframe tbody tr th {\n",
       "        vertical-align: top;\n",
       "    }\n",
       "\n",
       "    .dataframe thead th {\n",
       "        text-align: right;\n",
       "    }\n",
       "</style>\n",
       "<table border=\"1\" class=\"dataframe\">\n",
       "  <thead>\n",
       "    <tr style=\"text-align: right;\">\n",
       "      <th></th>\n",
       "      <th>ALLSKY_SFC_SW_DWN</th>\n",
       "      <th>CLRSKY_SFC_SW_DWN</th>\n",
       "      <th>TOA_SW_DWN</th>\n",
       "      <th>ALLSKY_SFC_PAR_TOT</th>\n",
       "      <th>CLRSKY_SFC_PAR_TOT</th>\n",
       "      <th>ALLSKY_SFC_UVA</th>\n",
       "      <th>ALLSKY_SFC_UVB</th>\n",
       "      <th>ALLSKY_SFC_UV_INDEX</th>\n",
       "      <th>T2M</th>\n",
       "      <th>T2MDEW</th>\n",
       "      <th>T2MWET</th>\n",
       "      <th>QV2M</th>\n",
       "      <th>RH2M</th>\n",
       "      <th>PRECTOTCORR</th>\n",
       "      <th>WS10M</th>\n",
       "      <th>WS2M</th>\n",
       "      <th>SP</th>\n",
       "      <th>Power Supplied (MW)</th>\n",
       "    </tr>\n",
       "  </thead>\n",
       "  <tbody>\n",
       "    <tr>\n",
       "      <th>0</th>\n",
       "      <td>0.03</td>\n",
       "      <td>0.02</td>\n",
       "      <td>0.11</td>\n",
       "      <td>2.38</td>\n",
       "      <td>2.73</td>\n",
       "      <td>0.31</td>\n",
       "      <td>0.00</td>\n",
       "      <td>0.00</td>\n",
       "      <td>24.05</td>\n",
       "      <td>23.81</td>\n",
       "      <td>23.93</td>\n",
       "      <td>18.49</td>\n",
       "      <td>98.38</td>\n",
       "      <td>0.21</td>\n",
       "      <td>1.40</td>\n",
       "      <td>0.59</td>\n",
       "      <td>100.12</td>\n",
       "      <td>68.1</td>\n",
       "    </tr>\n",
       "    <tr>\n",
       "      <th>1</th>\n",
       "      <td>0.03</td>\n",
       "      <td>0.02</td>\n",
       "      <td>0.11</td>\n",
       "      <td>2.38</td>\n",
       "      <td>2.73</td>\n",
       "      <td>0.31</td>\n",
       "      <td>0.00</td>\n",
       "      <td>0.00</td>\n",
       "      <td>23.98</td>\n",
       "      <td>23.74</td>\n",
       "      <td>23.87</td>\n",
       "      <td>18.43</td>\n",
       "      <td>98.38</td>\n",
       "      <td>0.22</td>\n",
       "      <td>1.37</td>\n",
       "      <td>0.58</td>\n",
       "      <td>100.06</td>\n",
       "      <td>65.2</td>\n",
       "    </tr>\n",
       "    <tr>\n",
       "      <th>2</th>\n",
       "      <td>0.03</td>\n",
       "      <td>0.02</td>\n",
       "      <td>0.11</td>\n",
       "      <td>2.38</td>\n",
       "      <td>2.73</td>\n",
       "      <td>0.31</td>\n",
       "      <td>0.00</td>\n",
       "      <td>0.00</td>\n",
       "      <td>23.90</td>\n",
       "      <td>23.65</td>\n",
       "      <td>23.77</td>\n",
       "      <td>18.37</td>\n",
       "      <td>98.25</td>\n",
       "      <td>0.22</td>\n",
       "      <td>1.36</td>\n",
       "      <td>0.57</td>\n",
       "      <td>100.02</td>\n",
       "      <td>60.1</td>\n",
       "    </tr>\n",
       "    <tr>\n",
       "      <th>3</th>\n",
       "      <td>0.03</td>\n",
       "      <td>0.02</td>\n",
       "      <td>0.11</td>\n",
       "      <td>2.38</td>\n",
       "      <td>2.73</td>\n",
       "      <td>0.31</td>\n",
       "      <td>0.00</td>\n",
       "      <td>0.00</td>\n",
       "      <td>23.76</td>\n",
       "      <td>23.52</td>\n",
       "      <td>23.64</td>\n",
       "      <td>18.19</td>\n",
       "      <td>98.38</td>\n",
       "      <td>0.21</td>\n",
       "      <td>1.38</td>\n",
       "      <td>0.58</td>\n",
       "      <td>100.00</td>\n",
       "      <td>58.2</td>\n",
       "    </tr>\n",
       "    <tr>\n",
       "      <th>4</th>\n",
       "      <td>0.03</td>\n",
       "      <td>0.02</td>\n",
       "      <td>0.11</td>\n",
       "      <td>2.38</td>\n",
       "      <td>2.73</td>\n",
       "      <td>0.31</td>\n",
       "      <td>0.00</td>\n",
       "      <td>0.00</td>\n",
       "      <td>23.65</td>\n",
       "      <td>23.41</td>\n",
       "      <td>23.53</td>\n",
       "      <td>18.13</td>\n",
       "      <td>98.50</td>\n",
       "      <td>0.20</td>\n",
       "      <td>1.41</td>\n",
       "      <td>0.61</td>\n",
       "      <td>100.02</td>\n",
       "      <td>56.7</td>\n",
       "    </tr>\n",
       "    <tr>\n",
       "      <th>5</th>\n",
       "      <td>0.02</td>\n",
       "      <td>0.02</td>\n",
       "      <td>0.09</td>\n",
       "      <td>1.65</td>\n",
       "      <td>2.23</td>\n",
       "      <td>0.23</td>\n",
       "      <td>0.00</td>\n",
       "      <td>0.00</td>\n",
       "      <td>23.54</td>\n",
       "      <td>23.31</td>\n",
       "      <td>23.42</td>\n",
       "      <td>17.94</td>\n",
       "      <td>98.50</td>\n",
       "      <td>0.24</td>\n",
       "      <td>1.48</td>\n",
       "      <td>0.63</td>\n",
       "      <td>100.09</td>\n",
       "      <td>59.0</td>\n",
       "    </tr>\n",
       "    <tr>\n",
       "      <th>6</th>\n",
       "      <td>0.29</td>\n",
       "      <td>0.44</td>\n",
       "      <td>1.08</td>\n",
       "      <td>34.20</td>\n",
       "      <td>53.75</td>\n",
       "      <td>4.37</td>\n",
       "      <td>0.02</td>\n",
       "      <td>0.12</td>\n",
       "      <td>24.00</td>\n",
       "      <td>23.68</td>\n",
       "      <td>23.84</td>\n",
       "      <td>18.37</td>\n",
       "      <td>97.94</td>\n",
       "      <td>0.24</td>\n",
       "      <td>1.37</td>\n",
       "      <td>0.68</td>\n",
       "      <td>100.15</td>\n",
       "      <td>62.8</td>\n",
       "    </tr>\n",
       "    <tr>\n",
       "      <th>7</th>\n",
       "      <td>0.68</td>\n",
       "      <td>1.26</td>\n",
       "      <td>2.23</td>\n",
       "      <td>85.45</td>\n",
       "      <td>160.23</td>\n",
       "      <td>11.34</td>\n",
       "      <td>0.19</td>\n",
       "      <td>0.90</td>\n",
       "      <td>24.98</td>\n",
       "      <td>24.08</td>\n",
       "      <td>24.53</td>\n",
       "      <td>18.80</td>\n",
       "      <td>94.62</td>\n",
       "      <td>0.27</td>\n",
       "      <td>1.57</td>\n",
       "      <td>1.02</td>\n",
       "      <td>100.23</td>\n",
       "      <td>75.2</td>\n",
       "    </tr>\n",
       "    <tr>\n",
       "      <th>8</th>\n",
       "      <td>1.28</td>\n",
       "      <td>2.06</td>\n",
       "      <td>3.21</td>\n",
       "      <td>165.62</td>\n",
       "      <td>265.77</td>\n",
       "      <td>22.02</td>\n",
       "      <td>0.54</td>\n",
       "      <td>2.77</td>\n",
       "      <td>25.94</td>\n",
       "      <td>24.06</td>\n",
       "      <td>25.01</td>\n",
       "      <td>18.80</td>\n",
       "      <td>89.25</td>\n",
       "      <td>0.26</td>\n",
       "      <td>1.46</td>\n",
       "      <td>0.99</td>\n",
       "      <td>100.27</td>\n",
       "      <td>75.5</td>\n",
       "    </tr>\n",
       "    <tr>\n",
       "      <th>9</th>\n",
       "      <td>1.98</td>\n",
       "      <td>2.71</td>\n",
       "      <td>3.97</td>\n",
       "      <td>259.08</td>\n",
       "      <td>349.33</td>\n",
       "      <td>34.16</td>\n",
       "      <td>1.02</td>\n",
       "      <td>5.33</td>\n",
       "      <td>27.16</td>\n",
       "      <td>23.60</td>\n",
       "      <td>25.38</td>\n",
       "      <td>18.25</td>\n",
       "      <td>80.81</td>\n",
       "      <td>0.19</td>\n",
       "      <td>1.39</td>\n",
       "      <td>0.96</td>\n",
       "      <td>100.28</td>\n",
       "      <td>66.3</td>\n",
       "    </tr>\n",
       "  </tbody>\n",
       "</table>\n",
       "</div>"
      ],
      "text/plain": [
       "   ALLSKY_SFC_SW_DWN  CLRSKY_SFC_SW_DWN  TOA_SW_DWN  ALLSKY_SFC_PAR_TOT  \\\n",
       "0               0.03               0.02        0.11                2.38   \n",
       "1               0.03               0.02        0.11                2.38   \n",
       "2               0.03               0.02        0.11                2.38   \n",
       "3               0.03               0.02        0.11                2.38   \n",
       "4               0.03               0.02        0.11                2.38   \n",
       "5               0.02               0.02        0.09                1.65   \n",
       "6               0.29               0.44        1.08               34.20   \n",
       "7               0.68               1.26        2.23               85.45   \n",
       "8               1.28               2.06        3.21              165.62   \n",
       "9               1.98               2.71        3.97              259.08   \n",
       "\n",
       "   CLRSKY_SFC_PAR_TOT  ALLSKY_SFC_UVA  ALLSKY_SFC_UVB  ALLSKY_SFC_UV_INDEX  \\\n",
       "0                2.73            0.31            0.00                 0.00   \n",
       "1                2.73            0.31            0.00                 0.00   \n",
       "2                2.73            0.31            0.00                 0.00   \n",
       "3                2.73            0.31            0.00                 0.00   \n",
       "4                2.73            0.31            0.00                 0.00   \n",
       "5                2.23            0.23            0.00                 0.00   \n",
       "6               53.75            4.37            0.02                 0.12   \n",
       "7              160.23           11.34            0.19                 0.90   \n",
       "8              265.77           22.02            0.54                 2.77   \n",
       "9              349.33           34.16            1.02                 5.33   \n",
       "\n",
       "     T2M  T2MDEW  T2MWET   QV2M   RH2M  PRECTOTCORR  WS10M  WS2M      SP  \\\n",
       "0  24.05   23.81   23.93  18.49  98.38         0.21   1.40  0.59  100.12   \n",
       "1  23.98   23.74   23.87  18.43  98.38         0.22   1.37  0.58  100.06   \n",
       "2  23.90   23.65   23.77  18.37  98.25         0.22   1.36  0.57  100.02   \n",
       "3  23.76   23.52   23.64  18.19  98.38         0.21   1.38  0.58  100.00   \n",
       "4  23.65   23.41   23.53  18.13  98.50         0.20   1.41  0.61  100.02   \n",
       "5  23.54   23.31   23.42  17.94  98.50         0.24   1.48  0.63  100.09   \n",
       "6  24.00   23.68   23.84  18.37  97.94         0.24   1.37  0.68  100.15   \n",
       "7  24.98   24.08   24.53  18.80  94.62         0.27   1.57  1.02  100.23   \n",
       "8  25.94   24.06   25.01  18.80  89.25         0.26   1.46  0.99  100.27   \n",
       "9  27.16   23.60   25.38  18.25  80.81         0.19   1.39  0.96  100.28   \n",
       "\n",
       "   Power Supplied (MW)  \n",
       "0                 68.1  \n",
       "1                 65.2  \n",
       "2                 60.1  \n",
       "3                 58.2  \n",
       "4                 56.7  \n",
       "5                 59.0  \n",
       "6                 62.8  \n",
       "7                 75.2  \n",
       "8                 75.5  \n",
       "9                 66.3  "
      ]
     },
     "execution_count": 18,
     "metadata": {},
     "output_type": "execute_result"
    }
   ],
   "source": [
    "datamedian.head(10)"
   ]
  },
  {
   "cell_type": "code",
   "execution_count": 19,
   "id": "a405f4ff",
   "metadata": {
    "scrolled": true
   },
   "outputs": [
    {
     "data": {
      "text/plain": [
       "Index(['ALLSKY_SFC_SW_DWN', 'CLRSKY_SFC_SW_DWN', 'TOA_SW_DWN',\n",
       "       'ALLSKY_SFC_PAR_TOT', 'CLRSKY_SFC_PAR_TOT', 'ALLSKY_SFC_UVA',\n",
       "       'ALLSKY_SFC_UVB', 'ALLSKY_SFC_UV_INDEX', 'T2M', 'T2MDEW', 'T2MWET',\n",
       "       'QV2M', 'RH2M', 'PRECTOTCORR', 'WS10M', 'WS2M', 'SP',\n",
       "       'Power Supplied (MW)'],\n",
       "      dtype='object')"
      ]
     },
     "execution_count": 19,
     "metadata": {},
     "output_type": "execute_result"
    }
   ],
   "source": [
    "datamedian.columns"
   ]
  },
  {
   "cell_type": "code",
   "execution_count": 20,
   "id": "49a11be1",
   "metadata": {},
   "outputs": [
    {
     "data": {
      "text/plain": [
       "(48936, 18)"
      ]
     },
     "execution_count": 20,
     "metadata": {},
     "output_type": "execute_result"
    }
   ],
   "source": [
    "datamedian.shape"
   ]
  },
  {
   "cell_type": "code",
   "execution_count": 22,
   "id": "d6310cb3",
   "metadata": {},
   "outputs": [
    {
     "ename": "NameError",
     "evalue": "name 'pyplot' is not defined",
     "output_type": "error",
     "traceback": [
      "\u001b[1;31m---------------------------------------------------------------------------\u001b[0m",
      "\u001b[1;31mNameError\u001b[0m                                 Traceback (most recent call last)",
      "\u001b[1;32m~\\AppData\\Local\\Temp\\ipykernel_5980\\360735571.py\u001b[0m in \u001b[0;36m<module>\u001b[1;34m\u001b[0m\n\u001b[0;32m      1\u001b[0m \u001b[1;31m# histograms\u001b[0m\u001b[1;33m\u001b[0m\u001b[1;33m\u001b[0m\u001b[1;33m\u001b[0m\u001b[0m\n\u001b[0;32m      2\u001b[0m \u001b[0mdata\u001b[0m\u001b[1;33m.\u001b[0m\u001b[0mhist\u001b[0m\u001b[1;33m(\u001b[0m\u001b[0msharex\u001b[0m\u001b[1;33m=\u001b[0m\u001b[1;32mFalse\u001b[0m\u001b[1;33m,\u001b[0m \u001b[0msharey\u001b[0m\u001b[1;33m=\u001b[0m\u001b[1;32mFalse\u001b[0m\u001b[1;33m,\u001b[0m \u001b[0mlayout\u001b[0m\u001b[1;33m=\u001b[0m\u001b[1;33m(\u001b[0m\u001b[1;36m5\u001b[0m\u001b[1;33m,\u001b[0m\u001b[1;36m4\u001b[0m\u001b[1;33m)\u001b[0m\u001b[1;33m,\u001b[0m \u001b[0mxlabelsize\u001b[0m\u001b[1;33m=\u001b[0m\u001b[1;36m1\u001b[0m\u001b[1;33m,\u001b[0m \u001b[0mylabelsize\u001b[0m\u001b[1;33m=\u001b[0m\u001b[1;36m1\u001b[0m\u001b[1;33m)\u001b[0m\u001b[1;33m\u001b[0m\u001b[1;33m\u001b[0m\u001b[0m\n\u001b[1;32m----> 3\u001b[1;33m \u001b[0mpyplot\u001b[0m\u001b[1;33m.\u001b[0m\u001b[0mshow\u001b[0m\u001b[1;33m(\u001b[0m\u001b[1;33m)\u001b[0m\u001b[1;33m\u001b[0m\u001b[1;33m\u001b[0m\u001b[0m\n\u001b[0m",
      "\u001b[1;31mNameError\u001b[0m: name 'pyplot' is not defined"
     ]
    },
    {
     "data": {
      "image/png": "[encoded data removed]",
      "text/plain": [
       "<Figure size 432x288 with 20 Axes>"
      ]
     },
     "metadata": {},
     "output_type": "display_data"
    }
   ],
   "source": [
    "# histograms\n",
    "data.hist(sharex=False, sharey=False, layout=(5,4), xlabelsize=1, ylabelsize=1)\n",
    "pyplot.show()"
   ]
  },
  {
   "cell_type": "code",
   "execution_count": 23,
   "id": "54d206d5",
   "metadata": {},
   "outputs": [
    {
     "ename": "NameError",
     "evalue": "name 'pyplot' is not defined",
     "output_type": "error",
     "traceback": [
      "\u001b[1;31m---------------------------------------------------------------------------\u001b[0m",
      "\u001b[1;31mNameError\u001b[0m                                 Traceback (most recent call last)",
      "\u001b[1;32m~\\AppData\\Local\\Temp\\ipykernel_5980\\3048401772.py\u001b[0m in \u001b[0;36m<module>\u001b[1;34m\u001b[0m\n\u001b[0;32m      1\u001b[0m \u001b[1;31m#density\u001b[0m\u001b[1;33m\u001b[0m\u001b[1;33m\u001b[0m\u001b[1;33m\u001b[0m\u001b[0m\n\u001b[0;32m      2\u001b[0m \u001b[0mdata\u001b[0m\u001b[1;33m.\u001b[0m\u001b[0mplot\u001b[0m\u001b[1;33m(\u001b[0m\u001b[0mkind\u001b[0m\u001b[1;33m=\u001b[0m\u001b[1;34m'density'\u001b[0m\u001b[1;33m,\u001b[0m \u001b[0msubplots\u001b[0m\u001b[1;33m=\u001b[0m\u001b[1;32mTrue\u001b[0m\u001b[1;33m,\u001b[0m\u001b[0mlayout\u001b[0m\u001b[1;33m=\u001b[0m\u001b[1;33m(\u001b[0m\u001b[1;36m4\u001b[0m\u001b[1;33m,\u001b[0m\u001b[1;36m5\u001b[0m\u001b[1;33m)\u001b[0m\u001b[1;33m,\u001b[0m \u001b[0msharex\u001b[0m\u001b[1;33m=\u001b[0m\u001b[1;32mFalse\u001b[0m\u001b[1;33m,\u001b[0m \u001b[0mlegend\u001b[0m\u001b[1;33m=\u001b[0m\u001b[1;32mTrue\u001b[0m\u001b[1;33m,\u001b[0m\u001b[0mfontsize\u001b[0m\u001b[1;33m=\u001b[0m\u001b[1;36m1\u001b[0m\u001b[1;33m)\u001b[0m\u001b[1;33m\u001b[0m\u001b[1;33m\u001b[0m\u001b[0m\n\u001b[1;32m----> 3\u001b[1;33m \u001b[0mpyplot\u001b[0m\u001b[1;33m.\u001b[0m\u001b[0mshow\u001b[0m\u001b[1;33m(\u001b[0m\u001b[1;33m)\u001b[0m\u001b[1;33m\u001b[0m\u001b[1;33m\u001b[0m\u001b[0m\n\u001b[0m",
      "\u001b[1;31mNameError\u001b[0m: name 'pyplot' is not defined"
     ]
    },
    {
     "data": {
      "image/png": "[encoded data removed]",
      "text/plain": [
       "<Figure size 432x288 with 20 Axes>"
      ]
     },
     "metadata": {},
     "output_type": "display_data"
    }
   ],
   "source": [
    "#density\n",
    "data.plot(kind='density', subplots=True,layout=(4,5), sharex=False, legend=True,fontsize=1)\n",
    "pyplot.show()"
   ]
  },
  {
   "cell_type": "code",
   "execution_count": 24,
   "id": "324b6c72",
   "metadata": {},
   "outputs": [
    {
     "ename": "NameError",
     "evalue": "name 'pyplot' is not defined",
     "output_type": "error",
     "traceback": [
      "\u001b[1;31m---------------------------------------------------------------------------\u001b[0m",
      "\u001b[1;31mNameError\u001b[0m                                 Traceback (most recent call last)",
      "\u001b[1;32m~\\AppData\\Local\\Temp\\ipykernel_5980\\1287636216.py\u001b[0m in \u001b[0;36m<module>\u001b[1;34m\u001b[0m\n\u001b[0;32m      2\u001b[0m datamedian.plot(kind='box', subplots=True,layout=(5,4), sharex=False, sharey=False,\n\u001b[0;32m      3\u001b[0m fontsize=8)\n\u001b[1;32m----> 4\u001b[1;33m \u001b[0mpyplot\u001b[0m\u001b[1;33m.\u001b[0m\u001b[0mshow\u001b[0m\u001b[1;33m(\u001b[0m\u001b[1;33m)\u001b[0m\u001b[1;33m\u001b[0m\u001b[1;33m\u001b[0m\u001b[0m\n\u001b[0m",
      "\u001b[1;31mNameError\u001b[0m: name 'pyplot' is not defined"
     ]
    },
    {
     "data": {
      "image/png": "[encoded data removed]",
      "text/plain": [
       "<Figure size 432x288 with 20 Axes>"
      ]
     },
     "metadata": {},
     "output_type": "display_data"
    }
   ],
   "source": [
    "# box and whisker plots\n",
    "datamedian.plot(kind='box', subplots=True,layout=(5,4), sharex=False, sharey=False,\n",
    "fontsize=8)\n",
    "pyplot.show()"
   ]
  },
  {
   "cell_type": "markdown",
   "id": "64849dbc",
   "metadata": {},
   "source": [
    "# Seperating input features and target."
   ]
  },
  {
   "cell_type": "code",
   "execution_count": 48,
   "id": "4c1b9b8c",
   "metadata": {},
   "outputs": [],
   "source": [
    "# feature importance using tree based classifiers\n",
    "X = datamedian.drop('Power Supplied (MW)', axis =1) # independent columns\n",
    "y = datamedian['Power Supplied (MW)'] # dependent/target column"
   ]
  },
  {
   "cell_type": "code",
   "execution_count": 49,
   "id": "d860227b",
   "metadata": {
    "scrolled": true
   },
   "outputs": [
    {
     "data": {
      "text/plain": [
       "Index(['ALLSKY_SFC_SW_DWN', 'CLRSKY_SFC_SW_DWN', 'TOA_SW_DWN',\n",
       "       'ALLSKY_SFC_PAR_TOT', 'CLRSKY_SFC_PAR_TOT', 'ALLSKY_SFC_UVA',\n",
       "       'ALLSKY_SFC_UVB', 'ALLSKY_SFC_UV_INDEX', 'T2M', 'T2MDEW', 'T2MWET',\n",
       "       'QV2M', 'RH2M', 'PRECTOTCORR', 'WS10M', 'WS2M', 'SP'],\n",
       "      dtype='object')"
      ]
     },
     "execution_count": 49,
     "metadata": {},
     "output_type": "execute_result"
    }
   ],
   "source": [
    "X.columns"
   ]
  },
  {
   "cell_type": "markdown",
   "id": "bea52095",
   "metadata": {},
   "source": [
    "# Feature Selection\n",
    "In any good model training pipeline, a critical component is deciding which features will be used as inputs to the model. For many models, a small subset of the input variables provide the lion's share of predictive ability. It is important to lower the amount of input variables for many reasons such as ;\n",
    "\n",
    "reducung multi collinearity\n",
    "reducing time to run the model and storage space\n",
    "easy understanding of important points\n",
    "to reduce the curse of dimensionality."
   ]
  },
  {
   "cell_type": "code",
   "execution_count": 50,
   "id": "ed3d66a2",
   "metadata": {},
   "outputs": [],
   "source": [
    "from sklearn.model_selection import train_test_split"
   ]
  },
  {
   "cell_type": "code",
   "execution_count": 51,
   "id": "387c8be6",
   "metadata": {},
   "outputs": [],
   "source": [
    "validation_size=0.2\n",
    "X_train, X_test, y_train, y_test = train_test_split(X, y, test_size=validation_size,  random_state=None)"
   ]
  },
  {
   "cell_type": "code",
   "execution_count": 52,
   "id": "8409d230",
   "metadata": {},
   "outputs": [
    {
     "data": {
      "text/plain": [
       "(39148, 17)"
      ]
     },
     "execution_count": 52,
     "metadata": {},
     "output_type": "execute_result"
    }
   ],
   "source": [
    "X_train.shape\n"
   ]
  },
  {
   "cell_type": "code",
   "execution_count": 53,
   "id": "003a0450",
   "metadata": {},
   "outputs": [
    {
     "data": {
      "text/plain": [
       "(9788, 17)"
      ]
     },
     "execution_count": 53,
     "metadata": {},
     "output_type": "execute_result"
    }
   ],
   "source": [
    "X_test.shape\n"
   ]
  },
  {
   "cell_type": "code",
   "execution_count": 54,
   "id": "f9878dbc",
   "metadata": {},
   "outputs": [
    {
     "data": {
      "text/plain": [
       "(39148,)"
      ]
     },
     "execution_count": 54,
     "metadata": {},
     "output_type": "execute_result"
    }
   ],
   "source": [
    "y_train.shape\n"
   ]
  },
  {
   "cell_type": "code",
   "execution_count": 55,
   "id": "274b4bb3",
   "metadata": {
    "scrolled": true
   },
   "outputs": [
    {
     "data": {
      "text/plain": [
       "(9788,)"
      ]
     },
     "execution_count": 55,
     "metadata": {},
     "output_type": "execute_result"
    }
   ],
   "source": [
    "y_test.shape"
   ]
  },
  {
   "cell_type": "code",
   "execution_count": 56,
   "id": "2a654021",
   "metadata": {},
   "outputs": [],
   "source": [
    "from sklearn.ensemble import RandomForestRegressor\n",
    "from sklearn.model_selection import train_test_split\n",
    "from sklearn.preprocessing import StandardScaler\n",
    "\n",
    "# Train/test set generation\n",
    "X_train, X_test, y_train, y_test = train_test_split( X, y, test_size=0.2, random_state= None)\n",
    "\n",
    "# Scale train and test sets with StandardScaler\n",
    "X_train_std = StandardScaler().fit_transform(X_train)\n",
    "X_test_std = StandardScaler().fit_transform(X_test)\n",
    "\n",
    "# Fix the dimensions of the target array\n",
    "y_train_std = y_train.values.reshape(-1, 1)\n",
    "y_test_std = y_test.values.reshape(-1, 1)"
   ]
  },
  {
   "cell_type": "code",
   "execution_count": 57,
   "id": "bd8e2106",
   "metadata": {
    "scrolled": true
   },
   "outputs": [
    {
     "name": "stdout",
     "output_type": "stream",
     "text": [
      "44.3 s ± 1.13 s per loop (mean ± std. dev. of 7 runs, 1 loop each)\n"
     ]
    }
   ],
   "source": [
    "%%timeit\n",
    "# Init, fit, test Random Forest Regressor\n",
    "forest = RandomForestRegressor()\n",
    "_ = forest.fit(X_train_std, y_train)\n",
    "forest.score(X_test_std, y_test)"
   ]
  },
  {
   "cell_type": "code",
   "execution_count": 58,
   "id": "8f7c6a9d",
   "metadata": {},
   "outputs": [
    {
     "data": {
      "text/plain": [
       "0.0840180478608411"
      ]
     },
     "execution_count": 58,
     "metadata": {},
     "output_type": "execute_result"
    }
   ],
   "source": [
    "# Init, fit, test Random Forest Regressor\n",
    "forest = RandomForestRegressor()\n",
    "_ = forest.fit(X_train_std, y_train)\n",
    "forest.score(X_test_std, y_test)"
   ]
  },
  {
   "cell_type": "code",
   "execution_count": 59,
   "id": "e3ef9812",
   "metadata": {},
   "outputs": [
    {
     "data": {
      "text/html": [
       "<div>\n",
       "<style scoped>\n",
       "    .dataframe tbody tr th:only-of-type {\n",
       "        vertical-align: middle;\n",
       "    }\n",
       "\n",
       "    .dataframe tbody tr th {\n",
       "        vertical-align: top;\n",
       "    }\n",
       "\n",
       "    .dataframe thead th {\n",
       "        text-align: right;\n",
       "    }\n",
       "</style>\n",
       "<table border=\"1\" class=\"dataframe\">\n",
       "  <thead>\n",
       "    <tr style=\"text-align: right;\">\n",
       "      <th></th>\n",
       "      <th>feature</th>\n",
       "      <th>weight</th>\n",
       "    </tr>\n",
       "  </thead>\n",
       "  <tbody>\n",
       "    <tr>\n",
       "      <th>0</th>\n",
       "      <td>ALLSKY_SFC_UVB</td>\n",
       "      <td>0.011615</td>\n",
       "    </tr>\n",
       "    <tr>\n",
       "      <th>1</th>\n",
       "      <td>ALLSKY_SFC_UV_INDEX</td>\n",
       "      <td>0.016388</td>\n",
       "    </tr>\n",
       "    <tr>\n",
       "      <th>2</th>\n",
       "      <td>CLRSKY_SFC_SW_DWN</td>\n",
       "      <td>0.017214</td>\n",
       "    </tr>\n",
       "    <tr>\n",
       "      <th>3</th>\n",
       "      <td>ALLSKY_SFC_SW_DWN</td>\n",
       "      <td>0.019761</td>\n",
       "    </tr>\n",
       "    <tr>\n",
       "      <th>4</th>\n",
       "      <td>ALLSKY_SFC_PAR_TOT</td>\n",
       "      <td>0.021995</td>\n",
       "    </tr>\n",
       "    <tr>\n",
       "      <th>5</th>\n",
       "      <td>ALLSKY_SFC_UVA</td>\n",
       "      <td>0.023079</td>\n",
       "    </tr>\n",
       "    <tr>\n",
       "      <th>6</th>\n",
       "      <td>CLRSKY_SFC_PAR_TOT</td>\n",
       "      <td>0.027537</td>\n",
       "    </tr>\n",
       "    <tr>\n",
       "      <th>7</th>\n",
       "      <td>TOA_SW_DWN</td>\n",
       "      <td>0.033003</td>\n",
       "    </tr>\n",
       "    <tr>\n",
       "      <th>8</th>\n",
       "      <td>QV2M</td>\n",
       "      <td>0.045825</td>\n",
       "    </tr>\n",
       "    <tr>\n",
       "      <th>9</th>\n",
       "      <td>T2MWET</td>\n",
       "      <td>0.079256</td>\n",
       "    </tr>\n",
       "    <tr>\n",
       "      <th>10</th>\n",
       "      <td>T2M</td>\n",
       "      <td>0.081972</td>\n",
       "    </tr>\n",
       "    <tr>\n",
       "      <th>11</th>\n",
       "      <td>T2MDEW</td>\n",
       "      <td>0.087767</td>\n",
       "    </tr>\n",
       "    <tr>\n",
       "      <th>12</th>\n",
       "      <td>PRECTOTCORR</td>\n",
       "      <td>0.092887</td>\n",
       "    </tr>\n",
       "    <tr>\n",
       "      <th>13</th>\n",
       "      <td>WS2M</td>\n",
       "      <td>0.099642</td>\n",
       "    </tr>\n",
       "    <tr>\n",
       "      <th>14</th>\n",
       "      <td>RH2M</td>\n",
       "      <td>0.103823</td>\n",
       "    </tr>\n",
       "    <tr>\n",
       "      <th>15</th>\n",
       "      <td>WS10M</td>\n",
       "      <td>0.112086</td>\n",
       "    </tr>\n",
       "    <tr>\n",
       "      <th>16</th>\n",
       "      <td>SP</td>\n",
       "      <td>0.126152</td>\n",
       "    </tr>\n",
       "  </tbody>\n",
       "</table>\n",
       "</div>"
      ],
      "text/plain": [
       "                feature    weight\n",
       "0        ALLSKY_SFC_UVB  0.011615\n",
       "1   ALLSKY_SFC_UV_INDEX  0.016388\n",
       "2     CLRSKY_SFC_SW_DWN  0.017214\n",
       "3     ALLSKY_SFC_SW_DWN  0.019761\n",
       "4    ALLSKY_SFC_PAR_TOT  0.021995\n",
       "5        ALLSKY_SFC_UVA  0.023079\n",
       "6    CLRSKY_SFC_PAR_TOT  0.027537\n",
       "7            TOA_SW_DWN  0.033003\n",
       "8                  QV2M  0.045825\n",
       "9                T2MWET  0.079256\n",
       "10                  T2M  0.081972\n",
       "11               T2MDEW  0.087767\n",
       "12          PRECTOTCORR  0.092887\n",
       "13                 WS2M  0.099642\n",
       "14                 RH2M  0.103823\n",
       "15                WS10M  0.112086\n",
       "16                   SP  0.126152"
      ]
     },
     "execution_count": 59,
     "metadata": {},
     "output_type": "execute_result"
    }
   ],
   "source": [
    "pd.DataFrame(\n",
    "    zip(X_train.columns, abs(forest.feature_importances_)),\n",
    "    columns=[\"feature\", \"weight\"],\n",
    ").sort_values(\"weight\").reset_index(drop=True)"
   ]
  },
  {
   "cell_type": "code",
   "execution_count": 60,
   "id": "6388f01e",
   "metadata": {},
   "outputs": [],
   "source": [
    "import sklearn\n",
    "from sklearn.model_selection import train_test_split\n",
    "from sklearn.feature_selection import SelectKBest\n",
    "from sklearn.feature_selection import f_regression\n",
    "import matplotlib.pyplot as plt\n",
    "from sklearn.feature_selection import mutual_info_regression"
   ]
  },
  {
   "cell_type": "code",
   "execution_count": 61,
   "id": "92372bd7",
   "metadata": {
    "scrolled": false
   },
   "outputs": [
    {
     "data": {
      "image/png": "[encoded data removed]",
      "text/plain": [
       "<Figure size 432x288 with 1 Axes>"
      ]
     },
     "metadata": {},
     "output_type": "display_data"
    }
   ],
   "source": [
    "# feature selection\n",
    "f_selector = SelectKBest(score_func=f_regression, k='all')\n",
    "# learn relationship from training data\n",
    "f_selector.fit(X_train, y_train)\n",
    "# transform train input data\n",
    "X_train_fs = f_selector.transform(X_train)\n",
    "# transform test input data\n",
    "X_test_fs = f_selector.transform(X_test)\n",
    "# Plot the scores for the features\n",
    "plt.bar([i for i in range(len(f_selector.scores_))], f_selector.scores_)\n",
    "plt.xlabel(\"feature index\")\n",
    "plt.ylabel(\"F-value (transformed from the correlation values)\")\n",
    "plt.show()"
   ]
  },
  {
   "cell_type": "code",
   "execution_count": 62,
   "id": "444fb7e8",
   "metadata": {},
   "outputs": [
    {
     "data": {
      "text/plain": [
       "Index(['ALLSKY_SFC_SW_DWN', 'CLRSKY_SFC_SW_DWN', 'TOA_SW_DWN',\n",
       "       'ALLSKY_SFC_PAR_TOT', 'CLRSKY_SFC_PAR_TOT', 'ALLSKY_SFC_UVA',\n",
       "       'ALLSKY_SFC_UVB', 'ALLSKY_SFC_UV_INDEX', 'T2M', 'T2MDEW', 'T2MWET',\n",
       "       'QV2M', 'RH2M', 'PRECTOTCORR', 'WS10M', 'WS2M', 'SP',\n",
       "       'Power Supplied (MW)'],\n",
       "      dtype='object')"
      ]
     },
     "execution_count": 62,
     "metadata": {},
     "output_type": "execute_result"
    }
   ],
   "source": [
    "datamedian.columns"
   ]
  },
  {
   "cell_type": "code",
   "execution_count": 63,
   "id": "b90798ac",
   "metadata": {},
   "outputs": [
    {
     "name": "stderr",
     "output_type": "stream",
     "text": [
      "C:\\Users\\USER\\anaconda3\\envs\\Tensor\\lib\\site-packages\\sklearn\\utils\\validation.py:993: DataConversionWarning: A column-vector y was passed when a 1d array was expected. Please change the shape of y to (n_samples, ), for example using ravel().\n",
      "  y = column_or_1d(y, warn=True)\n"
     ]
    },
    {
     "data": {
      "image/png": "[encoded data removed]",
      "text/plain": [
       "<Figure size 432x288 with 1 Axes>"
      ]
     },
     "metadata": {},
     "output_type": "display_data"
    },
    {
     "name": "stderr",
     "output_type": "stream",
     "text": [
      "C:\\Users\\USER\\anaconda3\\envs\\Tensor\\lib\\site-packages\\sklearn\\utils\\validation.py:993: DataConversionWarning: A column-vector y was passed when a 1d array was expected. Please change the shape of y to (n_samples, ), for example using ravel().\n",
      "  y = column_or_1d(y, warn=True)\n"
     ]
    },
    {
     "data": {
      "image/png": "[encoded data removed]",
      "text/plain": [
       "<Figure size 432x288 with 1 Axes>"
      ]
     },
     "metadata": {},
     "output_type": "display_data"
    },
    {
     "name": "stderr",
     "output_type": "stream",
     "text": [
      "C:\\Users\\USER\\anaconda3\\envs\\Tensor\\lib\\site-packages\\sklearn\\utils\\validation.py:993: DataConversionWarning: A column-vector y was passed when a 1d array was expected. Please change the shape of y to (n_samples, ), for example using ravel().\n",
      "  y = column_or_1d(y, warn=True)\n"
     ]
    },
    {
     "data": {
      "image/png": "[encoded data removed]",
      "text/plain": [
       "<Figure size 432x288 with 1 Axes>"
      ]
     },
     "metadata": {},
     "output_type": "display_data"
    },
    {
     "name": "stderr",
     "output_type": "stream",
     "text": [
      "C:\\Users\\USER\\anaconda3\\envs\\Tensor\\lib\\site-packages\\sklearn\\utils\\validation.py:993: DataConversionWarning: A column-vector y was passed when a 1d array was expected. Please change the shape of y to (n_samples, ), for example using ravel().\n",
      "  y = column_or_1d(y, warn=True)\n"
     ]
    },
    {
     "data": {
      "image/png": "[encoded data removed]",
      "text/plain": [
       "<Figure size 432x288 with 1 Axes>"
      ]
     },
     "metadata": {},
     "output_type": "display_data"
    },
    {
     "name": "stderr",
     "output_type": "stream",
     "text": [
      "C:\\Users\\USER\\anaconda3\\envs\\Tensor\\lib\\site-packages\\sklearn\\utils\\validation.py:993: DataConversionWarning: A column-vector y was passed when a 1d array was expected. Please change the shape of y to (n_samples, ), for example using ravel().\n",
      "  y = column_or_1d(y, warn=True)\n"
     ]
    },
    {
     "data": {
      "image/png": "[encoded data removed]",
      "text/plain": [
       "<Figure size 432x288 with 1 Axes>"
      ]
     },
     "metadata": {},
     "output_type": "display_data"
    },
    {
     "name": "stderr",
     "output_type": "stream",
     "text": [
      "C:\\Users\\USER\\anaconda3\\envs\\Tensor\\lib\\site-packages\\sklearn\\utils\\validation.py:993: DataConversionWarning: A column-vector y was passed when a 1d array was expected. Please change the shape of y to (n_samples, ), for example using ravel().\n",
      "  y = column_or_1d(y, warn=True)\n"
     ]
    },
    {
     "data": {
      "image/png": "[encoded data removed]",
      "text/plain": [
       "<Figure size 432x288 with 1 Axes>"
      ]
     },
     "metadata": {},
     "output_type": "display_data"
    },
    {
     "name": "stderr",
     "output_type": "stream",
     "text": [
      "C:\\Users\\USER\\anaconda3\\envs\\Tensor\\lib\\site-packages\\sklearn\\utils\\validation.py:993: DataConversionWarning: A column-vector y was passed when a 1d array was expected. Please change the shape of y to (n_samples, ), for example using ravel().\n",
      "  y = column_or_1d(y, warn=True)\n"
     ]
    },
    {
     "data": {
      "image/png": "[encoded data removed]",
      "text/plain": [
       "<Figure size 432x288 with 1 Axes>"
      ]
     },
     "metadata": {},
     "output_type": "display_data"
    },
    {
     "name": "stderr",
     "output_type": "stream",
     "text": [
      "C:\\Users\\USER\\anaconda3\\envs\\Tensor\\lib\\site-packages\\sklearn\\utils\\validation.py:993: DataConversionWarning: A column-vector y was passed when a 1d array was expected. Please change the shape of y to (n_samples, ), for example using ravel().\n",
      "  y = column_or_1d(y, warn=True)\n"
     ]
    },
    {
     "data": {
      "image/png": "[encoded data removed]",
      "text/plain": [
       "<Figure size 432x288 with 1 Axes>"
      ]
     },
     "metadata": {},
     "output_type": "display_data"
    },
    {
     "name": "stdout",
     "output_type": "stream",
     "text": [
      "7.27 s ± 250 ms per loop (mean ± std. dev. of 7 runs, 1 loop each)\n"
     ]
    }
   ],
   "source": [
    "%%timeit\n",
    "# feature selection\n",
    "f_selector = SelectKBest(score_func=mutual_info_regression, k='all')\n",
    "# learn relationship from training data\n",
    "f_selector.fit(X_train_std, y_train_std)\n",
    "# transform train input data\n",
    "X_train_fs = f_selector.transform(X_train_std)\n",
    "# transform test input data\n",
    "X_test_fs = f_selector.transform(X_test_std)\n",
    "# Plot the scores for the features\n",
    "plt.bar([i for i in range(len(f_selector.scores_))], f_selector.scores_)\n",
    "plt.xlabel(\"feature index\")\n",
    "plt.ylabel(\"Estimated MI value\")\n",
    "plt.show()"
   ]
  }
 ],
 "metadata": {
  "kernelspec": {
   "display_name": "Tensor",
   "language": "python",
   "name": "tensor"
  },
  "language_info": {
   "codemirror_mode": {
    "name": "ipython",
    "version": 3
   },
   "file_extension": ".py",
   "mimetype": "text/x-python",
   "name": "python",
   "nbconvert_exporter": "python",
   "pygments_lexer": "ipython3",
   "version": "3.7.13"
  }
 },
 "nbformat": 4,
 "nbformat_minor": 5
}
