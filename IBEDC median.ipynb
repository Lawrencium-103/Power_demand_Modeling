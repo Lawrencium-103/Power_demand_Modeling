{
 "cells": [
  {
   "cell_type": "markdown",
   "id": "d2f36cda",
   "metadata": {},
   "source": [
    "# Lawrence OLADEJI's University of Ibadan MSc Project (IBEDC_OGUN): Median\n",
    "Presentation of LSTM"
   ]
  },
  {
   "cell_type": "code",
   "execution_count": 1,
   "id": "1919e092",
   "metadata": {},
   "outputs": [
    {
     "name": "stderr",
     "output_type": "stream",
     "text": [
      "C:\\Users\\USER\\anaconda3\\envs\\Tensor\\lib\\site-packages\\numpy\\_distributor_init.py:32: UserWarning: loaded more than 1 DLL from .libs:\n",
      "C:\\Users\\USER\\anaconda3\\envs\\Tensor\\lib\\site-packages\\numpy\\.libs\\libopenblas.PYQHXLVVQ7VESDPUVUADXEVJOBGHJPAY.gfortran-win_amd64.dll\n",
      "C:\\Users\\USER\\anaconda3\\envs\\Tensor\\lib\\site-packages\\numpy\\.libs\\libopenblas.WCDJNK7YVMPZQ2ME2ZZHJJRJ3JIKNDB7.gfortran-win_amd64.dll\n",
      "  stacklevel=1)\n"
     ]
    }
   ],
   "source": [
    "import pandas as pd\n",
    "import numpy as np\n",
    "import seaborn as sns\n",
    "import matplotlib.pyplot as plt\n",
    "%timeit\n",
    "%matplotlib inline\n",
    "sns.set()"
   ]
  },
  {
   "cell_type": "code",
   "execution_count": 2,
   "id": "c6fbd96d",
   "metadata": {},
   "outputs": [],
   "source": [
    "import seaborn as sns\n",
    "from sklearn.model_selection import train_test_split\n",
    "from sklearn.linear_model import LinearRegression\n",
    "from sklearn.tree import DecisionTreeRegressor\n",
    "from sklearn.ensemble import RandomForestRegressor\n",
    "from sklearn.metrics import explained_variance_score\n",
    "from sklearn.metrics import confusion_matrix\n",
    "\n",
    "import os\n",
    "import warnings  \n",
    "warnings.filterwarnings('ignore')"
   ]
  },
  {
   "cell_type": "code",
   "execution_count": 3,
   "id": "07632db4",
   "metadata": {},
   "outputs": [],
   "source": [
    "from sklearn.model_selection import cross_val_score\n",
    "from sklearn.model_selection import KFold\n",
    "from sklearn.pipeline import Pipeline\n",
    "from sklearn.linear_model import HuberRegressor\n",
    "from sklearn.preprocessing import PowerTransformer\n",
    "from sklearn.compose import TransformedTargetRegressor"
   ]
  },
  {
   "cell_type": "code",
   "execution_count": 4,
   "id": "5c0d7455",
   "metadata": {},
   "outputs": [],
   "source": [
    "data=pd.read_csv(\"C:/Users/USER/Desktop/Lawrence/UI Msc/Project folder/ibedcogun/datafeatures.csv\", parse_dates= {\"date\" : [\"year\",\"month\",\"dow\"]})"
   ]
  },
  {
   "cell_type": "code",
   "execution_count": 7,
   "id": "3439bcf2",
   "metadata": {
    "scrolled": true
   },
   "outputs": [
    {
     "data": {
      "text/html": [
       "<div>\n",
       "<style scoped>\n",
       "    .dataframe tbody tr th:only-of-type {\n",
       "        vertical-align: middle;\n",
       "    }\n",
       "\n",
       "    .dataframe tbody tr th {\n",
       "        vertical-align: top;\n",
       "    }\n",
       "\n",
       "    .dataframe thead th {\n",
       "        text-align: right;\n",
       "    }\n",
       "</style>\n",
       "<table border=\"1\" class=\"dataframe\">\n",
       "  <thead>\n",
       "    <tr style=\"text-align: right;\">\n",
       "      <th></th>\n",
       "      <th>date</th>\n",
       "      <th>T2M</th>\n",
       "      <th>T2MDEW</th>\n",
       "      <th>T2MWET</th>\n",
       "      <th>QV2M</th>\n",
       "      <th>RH2M</th>\n",
       "      <th>PRECTOTCORR</th>\n",
       "      <th>WS10M</th>\n",
       "      <th>WS2M</th>\n",
       "      <th>SP</th>\n",
       "      <th>PowerSuMW</th>\n",
       "    </tr>\n",
       "    <tr>\n",
       "      <th>date</th>\n",
       "      <th></th>\n",
       "      <th></th>\n",
       "      <th></th>\n",
       "      <th></th>\n",
       "      <th></th>\n",
       "      <th></th>\n",
       "      <th></th>\n",
       "      <th></th>\n",
       "      <th></th>\n",
       "      <th></th>\n",
       "      <th></th>\n",
       "    </tr>\n",
       "  </thead>\n",
       "  <tbody>\n",
       "    <tr>\n",
       "      <th>2015-11-01</th>\n",
       "      <td>2015-11-01</td>\n",
       "      <td>24.05</td>\n",
       "      <td>23.81</td>\n",
       "      <td>23.93</td>\n",
       "      <td>18.49</td>\n",
       "      <td>98.38</td>\n",
       "      <td>0.21</td>\n",
       "      <td>1.40</td>\n",
       "      <td>0.59</td>\n",
       "      <td>100.12</td>\n",
       "      <td>68.1</td>\n",
       "    </tr>\n",
       "    <tr>\n",
       "      <th>2015-11-01</th>\n",
       "      <td>2015-11-01</td>\n",
       "      <td>23.98</td>\n",
       "      <td>23.74</td>\n",
       "      <td>23.87</td>\n",
       "      <td>18.43</td>\n",
       "      <td>98.38</td>\n",
       "      <td>0.22</td>\n",
       "      <td>1.37</td>\n",
       "      <td>0.58</td>\n",
       "      <td>100.06</td>\n",
       "      <td>65.2</td>\n",
       "    </tr>\n",
       "    <tr>\n",
       "      <th>2015-11-01</th>\n",
       "      <td>2015-11-01</td>\n",
       "      <td>23.90</td>\n",
       "      <td>23.65</td>\n",
       "      <td>23.77</td>\n",
       "      <td>18.37</td>\n",
       "      <td>98.25</td>\n",
       "      <td>0.22</td>\n",
       "      <td>1.36</td>\n",
       "      <td>0.57</td>\n",
       "      <td>100.02</td>\n",
       "      <td>60.1</td>\n",
       "    </tr>\n",
       "    <tr>\n",
       "      <th>2015-11-01</th>\n",
       "      <td>2015-11-01</td>\n",
       "      <td>23.76</td>\n",
       "      <td>23.52</td>\n",
       "      <td>23.64</td>\n",
       "      <td>18.19</td>\n",
       "      <td>98.38</td>\n",
       "      <td>0.21</td>\n",
       "      <td>1.38</td>\n",
       "      <td>0.58</td>\n",
       "      <td>100.00</td>\n",
       "      <td>58.2</td>\n",
       "    </tr>\n",
       "    <tr>\n",
       "      <th>2015-11-01</th>\n",
       "      <td>2015-11-01</td>\n",
       "      <td>23.65</td>\n",
       "      <td>23.41</td>\n",
       "      <td>23.53</td>\n",
       "      <td>18.13</td>\n",
       "      <td>98.50</td>\n",
       "      <td>0.20</td>\n",
       "      <td>1.41</td>\n",
       "      <td>0.61</td>\n",
       "      <td>100.02</td>\n",
       "      <td>56.7</td>\n",
       "    </tr>\n",
       "  </tbody>\n",
       "</table>\n",
       "</div>"
      ],
      "text/plain": [
       "                 date    T2M  T2MDEW  T2MWET   QV2M   RH2M  PRECTOTCORR  \\\n",
       "date                                                                      \n",
       "2015-11-01 2015-11-01  24.05   23.81   23.93  18.49  98.38         0.21   \n",
       "2015-11-01 2015-11-01  23.98   23.74   23.87  18.43  98.38         0.22   \n",
       "2015-11-01 2015-11-01  23.90   23.65   23.77  18.37  98.25         0.22   \n",
       "2015-11-01 2015-11-01  23.76   23.52   23.64  18.19  98.38         0.21   \n",
       "2015-11-01 2015-11-01  23.65   23.41   23.53  18.13  98.50         0.20   \n",
       "\n",
       "            WS10M  WS2M      SP  PowerSuMW  \n",
       "date                                        \n",
       "2015-11-01   1.40  0.59  100.12       68.1  \n",
       "2015-11-01   1.37  0.58  100.06       65.2  \n",
       "2015-11-01   1.36  0.57  100.02       60.1  \n",
       "2015-11-01   1.38  0.58  100.00       58.2  \n",
       "2015-11-01   1.41  0.61  100.02       56.7  "
      ]
     },
     "execution_count": 7,
     "metadata": {},
     "output_type": "execute_result"
    }
   ],
   "source": [
    "data.head()"
   ]
  },
  {
   "cell_type": "code",
   "execution_count": 8,
   "id": "1c3fc993",
   "metadata": {},
   "outputs": [],
   "source": [
    "data = data.set_index(pd.DatetimeIndex(data['date']))"
   ]
  },
  {
   "cell_type": "code",
   "execution_count": 9,
   "id": "c1c20d6c",
   "metadata": {},
   "outputs": [],
   "source": [
    "data=data.drop('date',axis=1)"
   ]
  },
  {
   "cell_type": "code",
   "execution_count": 10,
   "id": "089e58f6",
   "metadata": {},
   "outputs": [
    {
     "name": "stdout",
     "output_type": "stream",
     "text": [
      "<class 'pandas.core.frame.DataFrame'>\n",
      "DatetimeIndex: 48936 entries, 2015-11-01 to 2021-05-02\n",
      "Data columns (total 10 columns):\n",
      " #   Column       Non-Null Count  Dtype  \n",
      "---  ------       --------------  -----  \n",
      " 0   T2M          48936 non-null  float64\n",
      " 1   T2MDEW       48936 non-null  float64\n",
      " 2   T2MWET       48936 non-null  float64\n",
      " 3   QV2M         48936 non-null  float64\n",
      " 4   RH2M         48936 non-null  float64\n",
      " 5   PRECTOTCORR  48936 non-null  float64\n",
      " 6   WS10M        48936 non-null  float64\n",
      " 7   WS2M         48936 non-null  float64\n",
      " 8   SP           48936 non-null  float64\n",
      " 9   PowerSuMW    48934 non-null  float64\n",
      "dtypes: float64(10)\n",
      "memory usage: 4.1 MB\n"
     ]
    }
   ],
   "source": [
    "#Check whether there is any null values\n",
    "data.info()"
   ]
  },
  {
   "cell_type": "code",
   "execution_count": 11,
   "id": "922bea91",
   "metadata": {},
   "outputs": [
    {
     "name": "stdout",
     "output_type": "stream",
     "text": [
      "For T2M,1665 unique values present\n",
      "For T2MDEW,1445 unique values present\n",
      "For T2MWET,1398 unique values present\n",
      "For QV2M,245 unique values present\n",
      "For RH2M,1007 unique values present\n",
      "For PRECTOTCORR,445 unique values present\n",
      "For WS10M,514 unique values present\n",
      "For WS2M,338 unique values present\n",
      "For SP,151 unique values present\n",
      "For PowerSuMW,2756 unique values present\n"
     ]
    }
   ],
   "source": [
    "#Lets find out how many unique values are present in each column\n",
    "\n",
    "for value in data:\n",
    "    print('For {},{} unique values present'.format(value,data[value].nunique()))"
   ]
  },
  {
   "cell_type": "code",
   "execution_count": 12,
   "id": "4649eac0",
   "metadata": {
    "scrolled": false
   },
   "outputs": [
    {
     "data": {
      "text/html": [
       "<div>\n",
       "<style scoped>\n",
       "    .dataframe tbody tr th:only-of-type {\n",
       "        vertical-align: middle;\n",
       "    }\n",
       "\n",
       "    .dataframe tbody tr th {\n",
       "        vertical-align: top;\n",
       "    }\n",
       "\n",
       "    .dataframe thead th {\n",
       "        text-align: right;\n",
       "    }\n",
       "</style>\n",
       "<table border=\"1\" class=\"dataframe\">\n",
       "  <thead>\n",
       "    <tr style=\"text-align: right;\">\n",
       "      <th></th>\n",
       "      <th>T2M</th>\n",
       "      <th>T2MDEW</th>\n",
       "      <th>T2MWET</th>\n",
       "      <th>QV2M</th>\n",
       "      <th>RH2M</th>\n",
       "      <th>PRECTOTCORR</th>\n",
       "      <th>WS10M</th>\n",
       "      <th>WS2M</th>\n",
       "      <th>SP</th>\n",
       "      <th>PowerSuMW</th>\n",
       "    </tr>\n",
       "    <tr>\n",
       "      <th>date</th>\n",
       "      <th></th>\n",
       "      <th></th>\n",
       "      <th></th>\n",
       "      <th></th>\n",
       "      <th></th>\n",
       "      <th></th>\n",
       "      <th></th>\n",
       "      <th></th>\n",
       "      <th></th>\n",
       "      <th></th>\n",
       "    </tr>\n",
       "  </thead>\n",
       "  <tbody>\n",
       "    <tr>\n",
       "      <th>2015-11-01</th>\n",
       "      <td>24.05</td>\n",
       "      <td>23.81</td>\n",
       "      <td>23.93</td>\n",
       "      <td>18.49</td>\n",
       "      <td>98.38</td>\n",
       "      <td>0.21</td>\n",
       "      <td>1.40</td>\n",
       "      <td>0.59</td>\n",
       "      <td>100.12</td>\n",
       "      <td>68.1</td>\n",
       "    </tr>\n",
       "    <tr>\n",
       "      <th>2015-11-01</th>\n",
       "      <td>23.98</td>\n",
       "      <td>23.74</td>\n",
       "      <td>23.87</td>\n",
       "      <td>18.43</td>\n",
       "      <td>98.38</td>\n",
       "      <td>0.22</td>\n",
       "      <td>1.37</td>\n",
       "      <td>0.58</td>\n",
       "      <td>100.06</td>\n",
       "      <td>65.2</td>\n",
       "    </tr>\n",
       "    <tr>\n",
       "      <th>2015-11-01</th>\n",
       "      <td>23.90</td>\n",
       "      <td>23.65</td>\n",
       "      <td>23.77</td>\n",
       "      <td>18.37</td>\n",
       "      <td>98.25</td>\n",
       "      <td>0.22</td>\n",
       "      <td>1.36</td>\n",
       "      <td>0.57</td>\n",
       "      <td>100.02</td>\n",
       "      <td>60.1</td>\n",
       "    </tr>\n",
       "    <tr>\n",
       "      <th>2015-11-01</th>\n",
       "      <td>23.76</td>\n",
       "      <td>23.52</td>\n",
       "      <td>23.64</td>\n",
       "      <td>18.19</td>\n",
       "      <td>98.38</td>\n",
       "      <td>0.21</td>\n",
       "      <td>1.38</td>\n",
       "      <td>0.58</td>\n",
       "      <td>100.00</td>\n",
       "      <td>58.2</td>\n",
       "    </tr>\n",
       "    <tr>\n",
       "      <th>2015-11-01</th>\n",
       "      <td>23.65</td>\n",
       "      <td>23.41</td>\n",
       "      <td>23.53</td>\n",
       "      <td>18.13</td>\n",
       "      <td>98.50</td>\n",
       "      <td>0.20</td>\n",
       "      <td>1.41</td>\n",
       "      <td>0.61</td>\n",
       "      <td>100.02</td>\n",
       "      <td>56.7</td>\n",
       "    </tr>\n",
       "  </tbody>\n",
       "</table>\n",
       "</div>"
      ],
      "text/plain": [
       "              T2M  T2MDEW  T2MWET   QV2M   RH2M  PRECTOTCORR  WS10M  WS2M  \\\n",
       "date                                                                        \n",
       "2015-11-01  24.05   23.81   23.93  18.49  98.38         0.21   1.40  0.59   \n",
       "2015-11-01  23.98   23.74   23.87  18.43  98.38         0.22   1.37  0.58   \n",
       "2015-11-01  23.90   23.65   23.77  18.37  98.25         0.22   1.36  0.57   \n",
       "2015-11-01  23.76   23.52   23.64  18.19  98.38         0.21   1.38  0.58   \n",
       "2015-11-01  23.65   23.41   23.53  18.13  98.50         0.20   1.41  0.61   \n",
       "\n",
       "                SP  PowerSuMW  \n",
       "date                           \n",
       "2015-11-01  100.12       68.1  \n",
       "2015-11-01  100.06       65.2  \n",
       "2015-11-01  100.02       60.1  \n",
       "2015-11-01  100.00       58.2  \n",
       "2015-11-01  100.02       56.7  "
      ]
     },
     "execution_count": 12,
     "metadata": {},
     "output_type": "execute_result"
    }
   ],
   "source": [
    "data.head()"
   ]
  },
  {
   "cell_type": "code",
   "execution_count": 13,
   "id": "81a83eb3",
   "metadata": {},
   "outputs": [
    {
     "data": {
      "text/plain": [
       "(48936, 10)"
      ]
     },
     "execution_count": 13,
     "metadata": {},
     "output_type": "execute_result"
    }
   ],
   "source": [
    "data.shape"
   ]
  },
  {
   "cell_type": "code",
   "execution_count": 14,
   "id": "89017d97",
   "metadata": {},
   "outputs": [],
   "source": [
    "datamedian=data.mask(data==0).fillna(data.median())"
   ]
  },
  {
   "cell_type": "code",
   "execution_count": 15,
   "id": "91beca15",
   "metadata": {},
   "outputs": [
    {
     "data": {
      "text/html": [
       "<div>\n",
       "<style scoped>\n",
       "    .dataframe tbody tr th:only-of-type {\n",
       "        vertical-align: middle;\n",
       "    }\n",
       "\n",
       "    .dataframe tbody tr th {\n",
       "        vertical-align: top;\n",
       "    }\n",
       "\n",
       "    .dataframe thead th {\n",
       "        text-align: right;\n",
       "    }\n",
       "</style>\n",
       "<table border=\"1\" class=\"dataframe\">\n",
       "  <thead>\n",
       "    <tr style=\"text-align: right;\">\n",
       "      <th></th>\n",
       "      <th>T2M</th>\n",
       "      <th>T2MDEW</th>\n",
       "      <th>T2MWET</th>\n",
       "      <th>QV2M</th>\n",
       "      <th>RH2M</th>\n",
       "      <th>PRECTOTCORR</th>\n",
       "      <th>WS10M</th>\n",
       "      <th>WS2M</th>\n",
       "      <th>SP</th>\n",
       "      <th>PowerSuMW</th>\n",
       "    </tr>\n",
       "  </thead>\n",
       "  <tbody>\n",
       "    <tr>\n",
       "      <th>count</th>\n",
       "      <td>48936.000000</td>\n",
       "      <td>48936.000000</td>\n",
       "      <td>48936.000000</td>\n",
       "      <td>48936.000000</td>\n",
       "      <td>48936.000000</td>\n",
       "      <td>48936.000000</td>\n",
       "      <td>48936.000000</td>\n",
       "      <td>48936.000000</td>\n",
       "      <td>48936.000000</td>\n",
       "      <td>48936.000000</td>\n",
       "    </tr>\n",
       "    <tr>\n",
       "      <th>mean</th>\n",
       "      <td>25.760204</td>\n",
       "      <td>23.266925</td>\n",
       "      <td>24.513579</td>\n",
       "      <td>18.061904</td>\n",
       "      <td>87.158187</td>\n",
       "      <td>0.211102</td>\n",
       "      <td>1.939812</td>\n",
       "      <td>1.124765</td>\n",
       "      <td>100.072701</td>\n",
       "      <td>98.440285</td>\n",
       "    </tr>\n",
       "    <tr>\n",
       "      <th>std</th>\n",
       "      <td>2.687356</td>\n",
       "      <td>2.131188</td>\n",
       "      <td>1.993872</td>\n",
       "      <td>2.046118</td>\n",
       "      <td>12.607574</td>\n",
       "      <td>0.433729</td>\n",
       "      <td>0.736856</td>\n",
       "      <td>0.541947</td>\n",
       "      <td>0.806128</td>\n",
       "      <td>33.016156</td>\n",
       "    </tr>\n",
       "    <tr>\n",
       "      <th>min</th>\n",
       "      <td>13.220000</td>\n",
       "      <td>8.940000</td>\n",
       "      <td>11.800000</td>\n",
       "      <td>7.140000</td>\n",
       "      <td>28.250000</td>\n",
       "      <td>0.010000</td>\n",
       "      <td>0.020000</td>\n",
       "      <td>0.010000</td>\n",
       "      <td>12.100000</td>\n",
       "      <td>0.100000</td>\n",
       "    </tr>\n",
       "    <tr>\n",
       "      <th>25%</th>\n",
       "      <td>23.890000</td>\n",
       "      <td>22.900000</td>\n",
       "      <td>23.510000</td>\n",
       "      <td>17.520000</td>\n",
       "      <td>78.690000</td>\n",
       "      <td>0.060000</td>\n",
       "      <td>1.520000</td>\n",
       "      <td>0.730000</td>\n",
       "      <td>99.940000</td>\n",
       "      <td>82.900000</td>\n",
       "    </tr>\n",
       "    <tr>\n",
       "      <th>50%</th>\n",
       "      <td>25.330000</td>\n",
       "      <td>23.780000</td>\n",
       "      <td>24.680000</td>\n",
       "      <td>18.490000</td>\n",
       "      <td>92.440000</td>\n",
       "      <td>0.060000</td>\n",
       "      <td>1.810000</td>\n",
       "      <td>0.960000</td>\n",
       "      <td>100.070000</td>\n",
       "      <td>95.200000</td>\n",
       "    </tr>\n",
       "    <tr>\n",
       "      <th>75%</th>\n",
       "      <td>27.800000</td>\n",
       "      <td>24.500000</td>\n",
       "      <td>25.890000</td>\n",
       "      <td>19.350000</td>\n",
       "      <td>97.440000</td>\n",
       "      <td>0.210000</td>\n",
       "      <td>2.290000</td>\n",
       "      <td>1.420000</td>\n",
       "      <td>100.210000</td>\n",
       "      <td>117.200000</td>\n",
       "    </tr>\n",
       "    <tr>\n",
       "      <th>max</th>\n",
       "      <td>34.100000</td>\n",
       "      <td>26.760000</td>\n",
       "      <td>28.790000</td>\n",
       "      <td>22.220000</td>\n",
       "      <td>100.000000</td>\n",
       "      <td>14.550000</td>\n",
       "      <td>5.820000</td>\n",
       "      <td>3.740000</td>\n",
       "      <td>153.800000</td>\n",
       "      <td>226.500000</td>\n",
       "    </tr>\n",
       "  </tbody>\n",
       "</table>\n",
       "</div>"
      ],
      "text/plain": [
       "                T2M        T2MDEW        T2MWET          QV2M          RH2M  \\\n",
       "count  48936.000000  48936.000000  48936.000000  48936.000000  48936.000000   \n",
       "mean      25.760204     23.266925     24.513579     18.061904     87.158187   \n",
       "std        2.687356      2.131188      1.993872      2.046118     12.607574   \n",
       "min       13.220000      8.940000     11.800000      7.140000     28.250000   \n",
       "25%       23.890000     22.900000     23.510000     17.520000     78.690000   \n",
       "50%       25.330000     23.780000     24.680000     18.490000     92.440000   \n",
       "75%       27.800000     24.500000     25.890000     19.350000     97.440000   \n",
       "max       34.100000     26.760000     28.790000     22.220000    100.000000   \n",
       "\n",
       "        PRECTOTCORR         WS10M          WS2M            SP     PowerSuMW  \n",
       "count  48936.000000  48936.000000  48936.000000  48936.000000  48936.000000  \n",
       "mean       0.211102      1.939812      1.124765    100.072701     98.440285  \n",
       "std        0.433729      0.736856      0.541947      0.806128     33.016156  \n",
       "min        0.010000      0.020000      0.010000     12.100000      0.100000  \n",
       "25%        0.060000      1.520000      0.730000     99.940000     82.900000  \n",
       "50%        0.060000      1.810000      0.960000    100.070000     95.200000  \n",
       "75%        0.210000      2.290000      1.420000    100.210000    117.200000  \n",
       "max       14.550000      5.820000      3.740000    153.800000    226.500000  "
      ]
     },
     "execution_count": 15,
     "metadata": {},
     "output_type": "execute_result"
    }
   ],
   "source": [
    "datamedian.describe()"
   ]
  },
  {
   "cell_type": "code",
   "execution_count": 16,
   "id": "a23205e5",
   "metadata": {},
   "outputs": [],
   "source": [
    "# X(Independent variables) and y(target variables) \n",
    "X = datamedian.iloc[:,0:8].values\n",
    "y = datamedian.iloc[:,9].values"
   ]
  },
  {
   "cell_type": "code",
   "execution_count": 17,
   "id": "4f6b82cd",
   "metadata": {},
   "outputs": [],
   "source": [
    "#Splitting the data into train,test data \n",
    "X_train,X_test,y_train,y_test=train_test_split(X,y,test_size=0.3,random_state=42)"
   ]
  },
  {
   "cell_type": "code",
   "execution_count": 18,
   "id": "c2b11d74",
   "metadata": {},
   "outputs": [],
   "source": [
    "# Load libraries\n",
    "import numpy\n",
    "from numpy import arange\n",
    "from matplotlib import pyplot\n",
    "from pandas import read_csv\n",
    "from pandas import set_option\n",
    "from sklearn.preprocessing import StandardScaler\n",
    "from sklearn.model_selection import train_test_split\n",
    "from sklearn.model_selection import KFold\n",
    "from sklearn.model_selection import cross_val_score\n",
    "from sklearn.model_selection import GridSearchCV\n",
    "from sklearn.linear_model import LinearRegression\n",
    "from sklearn.linear_model import Lasso\n",
    "from sklearn.linear_model import ElasticNet\n",
    "from sklearn.tree import DecisionTreeRegressor\n",
    "from sklearn.discriminant_analysis import LinearDiscriminantAnalysis\n",
    "from sklearn.naive_bayes import GaussianNB\n",
    "from sklearn.neighbors import KNeighborsRegressor\n",
    "from sklearn.svm import SVR\n",
    "\n",
    "# example of power transform input and output variables for regression.\n",
    "from numpy import mean\n",
    "from numpy import absolute\n",
    "from numpy import loadtxt\n",
    "from sklearn.model_selection import cross_val_score\n",
    "from sklearn.model_selection import KFold\n",
    "from sklearn.pipeline import Pipeline\n",
    "from sklearn.linear_model import HuberRegressor\n",
    "from sklearn.preprocessing import PowerTransformer\n",
    "from sklearn.compose import TransformedTargetRegressor"
   ]
  },
  {
   "cell_type": "code",
   "execution_count": 19,
   "id": "02d22d6c",
   "metadata": {},
   "outputs": [],
   "source": [
    "from sklearn.preprocessing import StandardScaler\n",
    "#scaling\n",
    "sc = StandardScaler()\n",
    "X_train=sc.fit_transform(X_train)\n",
    "X_test=sc.fit_transform(X_test)"
   ]
  },
  {
   "cell_type": "code",
   "execution_count": 20,
   "id": "9148e669",
   "metadata": {
    "scrolled": true
   },
   "outputs": [
    {
     "name": "stdout",
     "output_type": "stream",
     "text": [
      "Mean MAE: 23.982\n"
     ]
    }
   ],
   "source": [
    "# prepare the model with input scaling\n",
    "pipeline = Pipeline(steps=[('power', PowerTransformer()), ('model', HuberRegressor())])\n",
    "# prepare the model with target scaling\n",
    "model = TransformedTargetRegressor(regressor=pipeline, transformer=PowerTransformer())\n",
    "# evaluate model\n",
    "cv = KFold(n_splits=10, shuffle=True, random_state=1)\n",
    "scores = cross_val_score(model, X, y, scoring='neg_mean_absolute_error', cv=cv, n_jobs=-1)\n",
    "# convert scores to positive\n",
    "scores = absolute(scores)\n",
    "# summarize the result\n",
    "s_mean = mean(scores)\n",
    "print('Mean MAE: %.3f' % (s_mean))"
   ]
  },
  {
   "cell_type": "markdown",
   "id": "9faa4a30",
   "metadata": {},
   "source": [
    "# Multiple  Linear Regression"
   ]
  },
  {
   "cell_type": "code",
   "execution_count": 21,
   "id": "ed65168d",
   "metadata": {},
   "outputs": [],
   "source": [
    "from sklearn.linear_model import LinearRegression"
   ]
  },
  {
   "cell_type": "code",
   "execution_count": 22,
   "id": "2a865ddc",
   "metadata": {
    "scrolled": true
   },
   "outputs": [],
   "source": [
    "mlr = LinearRegression()\n",
    "mlr.fit(X_train,y_train)\n",
    "mlr_score = mlr.score(X_test,y_test)\n",
    "pred_mlr = mlr.predict(X_test)\n",
    "expl_mlr = explained_variance_score(pred_mlr,y_test)"
   ]
  },
  {
   "cell_type": "code",
   "execution_count": 23,
   "id": "a9887119",
   "metadata": {
    "scrolled": true
   },
   "outputs": [],
   "source": [
    "tr_regressor = DecisionTreeRegressor(random_state=0)\n",
    "tr_regressor.fit(X_train,y_train)\n",
    "tr_regressor.score(X_test,y_test)\n",
    "pred_tr = tr_regressor.predict(X_test)\n",
    "decision_score=tr_regressor.score(X_test,y_test)\n",
    "expl_tr = explained_variance_score(pred_tr,y_test)"
   ]
  },
  {
   "cell_type": "code",
   "execution_count": 24,
   "id": "43b3ed7c",
   "metadata": {
    "scrolled": true
   },
   "outputs": [],
   "source": [
    "rf_regressor = RandomForestRegressor(n_estimators=28,random_state=0)\n",
    "rf_regressor.fit(X_train,y_train)\n",
    "rf_regressor.score(X_test,y_test)\n",
    "rf_pred =rf_regressor.predict(X_test)\n",
    "rf_score=rf_regressor.score(X_test,y_test)\n",
    "expl_rf = explained_variance_score(rf_pred,y_test)"
   ]
  },
  {
   "cell_type": "code",
   "execution_count": 25,
   "id": "632c902b",
   "metadata": {
    "scrolled": true
   },
   "outputs": [
    {
     "name": "stdout",
     "output_type": "stream",
     "text": [
      "Multiple Linear Regression Model Score is  2.0\n",
      "Decision tree  Regression Model Score is  -84.0\n",
      "Random Forest Regression Model Score is  3.0\n"
     ]
    },
    {
     "data": {
      "text/html": [
       "<div>\n",
       "<style scoped>\n",
       "    .dataframe tbody tr th:only-of-type {\n",
       "        vertical-align: middle;\n",
       "    }\n",
       "\n",
       "    .dataframe tbody tr th {\n",
       "        vertical-align: top;\n",
       "    }\n",
       "\n",
       "    .dataframe thead th {\n",
       "        text-align: right;\n",
       "    }\n",
       "</style>\n",
       "<table border=\"1\" class=\"dataframe\">\n",
       "  <thead>\n",
       "    <tr style=\"text-align: right;\">\n",
       "      <th></th>\n",
       "      <th>Model</th>\n",
       "      <th>Score</th>\n",
       "      <th>Explained Variance Score</th>\n",
       "    </tr>\n",
       "  </thead>\n",
       "  <tbody>\n",
       "    <tr>\n",
       "      <th>2</th>\n",
       "      <td>Random forest Regression</td>\n",
       "      <td>0.029262</td>\n",
       "      <td>-4.908328</td>\n",
       "    </tr>\n",
       "    <tr>\n",
       "      <th>0</th>\n",
       "      <td>Multiple Linear Regression</td>\n",
       "      <td>0.021501</td>\n",
       "      <td>-43.118799</td>\n",
       "    </tr>\n",
       "    <tr>\n",
       "      <th>1</th>\n",
       "      <td>Decision Tree</td>\n",
       "      <td>-0.841156</td>\n",
       "      <td>-0.715576</td>\n",
       "    </tr>\n",
       "  </tbody>\n",
       "</table>\n",
       "</div>"
      ],
      "text/plain": [
       "                        Model     Score  Explained Variance Score\n",
       "2    Random forest Regression  0.029262                 -4.908328\n",
       "0  Multiple Linear Regression  0.021501                -43.118799\n",
       "1               Decision Tree -0.841156                 -0.715576"
      ]
     },
     "execution_count": 25,
     "metadata": {},
     "output_type": "execute_result"
    }
   ],
   "source": [
    "print(\"Multiple Linear Regression Model Score is \",round(mlr.score(X_test,y_test)*100))\n",
    "print(\"Decision tree  Regression Model Score is \",round(tr_regressor.score(X_test,y_test)*100))\n",
    "print(\"Random Forest Regression Model Score is \",round(rf_regressor.score(X_test,y_test)*100))\n",
    "\n",
    "#Let's have a tabular pandas data frame, for a clear comparison\n",
    "models_score =pd.DataFrame({'Model':['Multiple Linear Regression','Decision Tree','Random forest Regression'],\n",
    "                            'Score':[mlr_score,decision_score,rf_score],\n",
    "                            'Explained Variance Score':[expl_mlr,expl_tr,expl_rf]})\n",
    "models_score.sort_values(by='Score',ascending=False)"
   ]
  },
  {
   "cell_type": "markdown",
   "id": "95247203",
   "metadata": {},
   "source": [
    "# Linear Regression"
   ]
  },
  {
   "cell_type": "code",
   "execution_count": 26,
   "id": "aaf0f32a",
   "metadata": {},
   "outputs": [],
   "source": [
    "# Test options and evaluation metric\n",
    "num_folds = 10\n",
    "seed = 7\n",
    "scoring = 'neg_mean_squared_error'\n",
    "#scoring = 'accuracy"
   ]
  },
  {
   "cell_type": "markdown",
   "id": "b189585d",
   "metadata": {},
   "source": [
    "# Multiple Linear Regression."
   ]
  },
  {
   "cell_type": "code",
   "execution_count": 27,
   "id": "9015e6fd",
   "metadata": {},
   "outputs": [],
   "source": [
    "# Spot-Check Algorithms\n",
    "models = []\n",
    "models.append(('LR', LinearRegression()))"
   ]
  },
  {
   "cell_type": "code",
   "execution_count": 28,
   "id": "7a0b8500",
   "metadata": {},
   "outputs": [
    {
     "name": "stdout",
     "output_type": "stream",
     "text": [
      "LR: -1054.137456 (21.304666)\n"
     ]
    }
   ],
   "source": [
    "# evaluate each model in turn\n",
    "results = []\n",
    "names = []\n",
    "for name, model in models:\n",
    "    kfold = KFold(n_splits=num_folds, random_state=None)\n",
    "    cv_results = cross_val_score(model, X_train, y_train, cv=kfold, scoring=scoring)\n",
    "    results.append(cv_results)\n",
    "    names.append(name)\n",
    "    msg = \"%s: %f (%f)\" % (name, cv_results.mean(), cv_results.std())\n",
    "    print(msg)"
   ]
  },
  {
   "cell_type": "markdown",
   "id": "c6edcb85",
   "metadata": {},
   "source": [
    "# LASSO Regression"
   ]
  },
  {
   "cell_type": "code",
   "execution_count": 29,
   "id": "68af5187",
   "metadata": {},
   "outputs": [],
   "source": [
    "# Spot-Check Algorithms\n",
    "models = []\n",
    "models.append(('LASSO', Lasso()))"
   ]
  },
  {
   "cell_type": "code",
   "execution_count": 30,
   "id": "32d835c8",
   "metadata": {
    "scrolled": true
   },
   "outputs": [
    {
     "name": "stdout",
     "output_type": "stream",
     "text": [
      "LASSO: -1069.217889 (20.435057)\n"
     ]
    }
   ],
   "source": [
    "# evaluate each model in turn\n",
    "results = []\n",
    "names = []\n",
    "for name, model in models:\n",
    "    kfold = KFold(n_splits=num_folds, random_state=None)\n",
    "    cv_results = cross_val_score(model, X_train, y_train, cv=kfold, scoring=scoring)\n",
    "    results.append(cv_results)\n",
    "    names.append(name)\n",
    "    msg = \"%s: %f (%f)\" % (name, cv_results.mean(), cv_results.std())\n",
    "    print(msg)"
   ]
  },
  {
   "cell_type": "markdown",
   "id": "bb19f677",
   "metadata": {},
   "source": [
    "# Elastic Net linear Regression"
   ]
  },
  {
   "cell_type": "code",
   "execution_count": 31,
   "id": "07a01bd5",
   "metadata": {},
   "outputs": [],
   "source": [
    "# Spot-Check Algorithms\n",
    "models = []\n",
    "models.append(('EN', ElasticNet()))"
   ]
  },
  {
   "cell_type": "code",
   "execution_count": 32,
   "id": "09060498",
   "metadata": {},
   "outputs": [
    {
     "name": "stdout",
     "output_type": "stream",
     "text": [
      "EN: -1068.763762 (20.584060)\n"
     ]
    }
   ],
   "source": [
    "# evaluate each model in turn\n",
    "results = []\n",
    "names = []\n",
    "for name, model in models:\n",
    "    kfold = KFold(n_splits=num_folds, random_state=None)\n",
    "    cv_results = cross_val_score(model, X_train, y_train, cv=kfold, scoring=scoring)\n",
    "    results.append(cv_results)\n",
    "    names.append(name)\n",
    "    msg = \"%s: %f (%f)\" % (name, cv_results.mean(), cv_results.std())\n",
    "    print(msg)"
   ]
  },
  {
   "cell_type": "markdown",
   "id": "3d67e53e",
   "metadata": {},
   "source": [
    "\n",
    "# Non Linear Regression#"
   ]
  },
  {
   "cell_type": "markdown",
   "id": "ae635871",
   "metadata": {},
   "source": [
    "# KNeighbors Regressor"
   ]
  },
  {
   "cell_type": "code",
   "execution_count": 33,
   "id": "c00728fd",
   "metadata": {},
   "outputs": [],
   "source": [
    "# Spot-Check Algorithms\n",
    "models = []\n",
    "models.append(('KNN', KNeighborsRegressor()))"
   ]
  },
  {
   "cell_type": "code",
   "execution_count": 34,
   "id": "27c269d3",
   "metadata": {},
   "outputs": [
    {
     "name": "stdout",
     "output_type": "stream",
     "text": [
      "KNN: -1154.570513 (21.566611)\n"
     ]
    }
   ],
   "source": [
    "# evaluate each model in turn\n",
    "results = []\n",
    "names = []\n",
    "for name, model in models:\n",
    "    kfold = KFold(n_splits=num_folds, random_state=None)\n",
    "    cv_results = cross_val_score(model, X_train, y_train, cv=kfold, scoring=scoring)\n",
    "    results.append(cv_results)\n",
    "    names.append(name)\n",
    "    msg = \"%s: %f (%f)\" % (name, cv_results.mean(), cv_results.std())\n",
    "    print(msg)"
   ]
  },
  {
   "cell_type": "markdown",
   "id": "4fbb6669",
   "metadata": {},
   "source": [
    "# Decision Tree Regressor"
   ]
  },
  {
   "cell_type": "code",
   "execution_count": 35,
   "id": "af9693df",
   "metadata": {},
   "outputs": [],
   "source": [
    "# Spot-Check Algorithms\n",
    "models = []\n",
    "models.append(('DECTR', DecisionTreeRegressor()))"
   ]
  },
  {
   "cell_type": "code",
   "execution_count": 36,
   "id": "185de11e",
   "metadata": {
    "scrolled": true
   },
   "outputs": [
    {
     "name": "stdout",
     "output_type": "stream",
     "text": [
      "DECTR: -2036.821781 (42.129676)\n"
     ]
    }
   ],
   "source": [
    "# evaluate each model in turn\n",
    "results = []\n",
    "names = []\n",
    "for name, model in models:\n",
    "    kfold = KFold(n_splits=num_folds, random_state=None)\n",
    "    cv_results = cross_val_score(model, X_train, y_train, cv=kfold, scoring=scoring)\n",
    "    results.append(cv_results)\n",
    "    names.append(name)\n",
    "    msg = \"%s: %f (%f)\" % (name, cv_results.mean(), cv_results.std())\n",
    "    print(msg)"
   ]
  },
  {
   "cell_type": "markdown",
   "id": "c3549142",
   "metadata": {},
   "source": [
    "# Support Vector Regressor"
   ]
  },
  {
   "cell_type": "code",
   "execution_count": 37,
   "id": "96768d0f",
   "metadata": {},
   "outputs": [],
   "source": [
    "# Spot-Check Algorithms\n",
    "models = []\n",
    "models.append(('SVR', SVR()))"
   ]
  },
  {
   "cell_type": "code",
   "execution_count": 39,
   "id": "5525a3db",
   "metadata": {},
   "outputs": [
    {
     "name": "stdout",
     "output_type": "stream",
     "text": [
      "SVR: -1050.829835 (19.692843)\n"
     ]
    }
   ],
   "source": [
    "%timeit\n",
    "# evaluate each model in turn\n",
    "results = []\n",
    "names = []\n",
    "for name, model in models:\n",
    "    kfold = KFold(n_splits=num_folds, random_state=None)\n",
    "    cv_results = cross_val_score(model, X_train, y_train, cv=kfold, scoring=scoring)\n",
    "    results.append(cv_results)\n",
    "    names.append(name)\n",
    "    msg = \"%s: %f (%f)\" % (name, cv_results.mean(), cv_results.std())\n",
    "    print(msg)"
   ]
  },
  {
   "cell_type": "markdown",
   "id": "6c32abdf",
   "metadata": {},
   "source": [
    "# Random Forest Regressor"
   ]
  },
  {
   "cell_type": "code",
   "execution_count": 40,
   "id": "4c81ed6a",
   "metadata": {},
   "outputs": [],
   "source": [
    "# Spot-Check Algorithms\n",
    "from sklearn.ensemble import RandomForestRegressor\n",
    "models = []\n",
    "models.append(('RF', RandomForestRegressor()))"
   ]
  },
  {
   "cell_type": "code",
   "execution_count": 41,
   "id": "bc1b3113",
   "metadata": {},
   "outputs": [
    {
     "name": "stdout",
     "output_type": "stream",
     "text": [
      "RF: -1024.378595 (17.081969)\n"
     ]
    }
   ],
   "source": [
    "# evaluate each model in turn\n",
    "results = []\n",
    "names = []\n",
    "for name, model in models:\n",
    "    kfold = KFold(n_splits=num_folds, random_state=None)\n",
    "    cv_results = cross_val_score(model, X_train, y_train, cv=kfold, scoring=scoring)\n",
    "    results.append(cv_results)\n",
    "    names.append(name)\n",
    "    msg = \"%s: %f (%f)\" % (name, cv_results.mean(), cv_results.std())\n",
    "    print(msg)"
   ]
  },
  {
   "cell_type": "markdown",
   "id": "951af562",
   "metadata": {},
   "source": [
    "# Consolidating all Regressor"
   ]
  },
  {
   "cell_type": "code",
   "execution_count": 42,
   "id": "a3d2d5e3",
   "metadata": {},
   "outputs": [],
   "source": [
    "# Spot-Check Algorithms\n",
    "models = []\n",
    "models.append(('LR', LinearRegression()))\n",
    "models.append(('LASSO', Lasso()))\n",
    "models.append(('EN', ElasticNet()))\n",
    "models.append(('KNN', KNeighborsRegressor()))\n",
    "models.append(('DECTR', DecisionTreeRegressor()))\n",
    "models.append(('RF', RandomForestRegressor()))\n",
    "models.append(('SVR', SVR()))"
   ]
  },
  {
   "cell_type": "code",
   "execution_count": 43,
   "id": "06df3c6b",
   "metadata": {},
   "outputs": [
    {
     "name": "stdout",
     "output_type": "stream",
     "text": [
      "LR: -1054.137456 (21.304666)\n",
      "LASSO: -1069.217889 (20.435057)\n",
      "EN: -1068.763762 (20.584060)\n",
      "KNN: -1154.570513 (21.566611)\n",
      "DECTR: -2033.731425 (48.729158)\n",
      "RF: -1024.736404 (19.001712)\n"
     ]
    },
    {
     "ename": "KeyboardInterrupt",
     "evalue": "",
     "output_type": "error",
     "traceback": [
      "\u001b[1;31m---------------------------------------------------------------------------\u001b[0m",
      "\u001b[1;31mKeyboardInterrupt\u001b[0m                         Traceback (most recent call last)",
      "\u001b[1;32m~\\AppData\\Local\\Temp\\ipykernel_8944\\2267355916.py\u001b[0m in \u001b[0;36m<module>\u001b[1;34m\u001b[0m\n\u001b[0;32m      4\u001b[0m \u001b[1;32mfor\u001b[0m \u001b[0mname\u001b[0m\u001b[1;33m,\u001b[0m \u001b[0mmodel\u001b[0m \u001b[1;32min\u001b[0m \u001b[0mmodels\u001b[0m\u001b[1;33m:\u001b[0m\u001b[1;33m\u001b[0m\u001b[1;33m\u001b[0m\u001b[0m\n\u001b[0;32m      5\u001b[0m     \u001b[0mkfold\u001b[0m \u001b[1;33m=\u001b[0m \u001b[0mKFold\u001b[0m\u001b[1;33m(\u001b[0m\u001b[0mn_splits\u001b[0m\u001b[1;33m=\u001b[0m\u001b[0mnum_folds\u001b[0m\u001b[1;33m,\u001b[0m \u001b[0mrandom_state\u001b[0m\u001b[1;33m=\u001b[0m\u001b[1;32mNone\u001b[0m\u001b[1;33m)\u001b[0m\u001b[1;33m\u001b[0m\u001b[1;33m\u001b[0m\u001b[0m\n\u001b[1;32m----> 6\u001b[1;33m     \u001b[0mcv_results\u001b[0m \u001b[1;33m=\u001b[0m \u001b[0mcross_val_score\u001b[0m\u001b[1;33m(\u001b[0m\u001b[0mmodel\u001b[0m\u001b[1;33m,\u001b[0m \u001b[0mX_train\u001b[0m\u001b[1;33m,\u001b[0m \u001b[0my_train\u001b[0m\u001b[1;33m,\u001b[0m \u001b[0mcv\u001b[0m\u001b[1;33m=\u001b[0m\u001b[0mkfold\u001b[0m\u001b[1;33m,\u001b[0m \u001b[0mscoring\u001b[0m\u001b[1;33m=\u001b[0m\u001b[0mscoring\u001b[0m\u001b[1;33m)\u001b[0m\u001b[1;33m\u001b[0m\u001b[1;33m\u001b[0m\u001b[0m\n\u001b[0m\u001b[0;32m      7\u001b[0m     \u001b[0mresults\u001b[0m\u001b[1;33m.\u001b[0m\u001b[0mappend\u001b[0m\u001b[1;33m(\u001b[0m\u001b[0mcv_results\u001b[0m\u001b[1;33m)\u001b[0m\u001b[1;33m\u001b[0m\u001b[1;33m\u001b[0m\u001b[0m\n\u001b[0;32m      8\u001b[0m     \u001b[0mnames\u001b[0m\u001b[1;33m.\u001b[0m\u001b[0mappend\u001b[0m\u001b[1;33m(\u001b[0m\u001b[0mname\u001b[0m\u001b[1;33m)\u001b[0m\u001b[1;33m\u001b[0m\u001b[1;33m\u001b[0m\u001b[0m\n",
      "\u001b[1;32m~\\anaconda3\\envs\\Tensor\\lib\\site-packages\\sklearn\\model_selection\\_validation.py\u001b[0m in \u001b[0;36mcross_val_score\u001b[1;34m(estimator, X, y, groups, scoring, cv, n_jobs, verbose, fit_params, pre_dispatch, error_score)\u001b[0m\n\u001b[0;32m    518\u001b[0m         \u001b[0mfit_params\u001b[0m\u001b[1;33m=\u001b[0m\u001b[0mfit_params\u001b[0m\u001b[1;33m,\u001b[0m\u001b[1;33m\u001b[0m\u001b[1;33m\u001b[0m\u001b[0m\n\u001b[0;32m    519\u001b[0m         \u001b[0mpre_dispatch\u001b[0m\u001b[1;33m=\u001b[0m\u001b[0mpre_dispatch\u001b[0m\u001b[1;33m,\u001b[0m\u001b[1;33m\u001b[0m\u001b[1;33m\u001b[0m\u001b[0m\n\u001b[1;32m--> 520\u001b[1;33m         \u001b[0merror_score\u001b[0m\u001b[1;33m=\u001b[0m\u001b[0merror_score\u001b[0m\u001b[1;33m,\u001b[0m\u001b[1;33m\u001b[0m\u001b[1;33m\u001b[0m\u001b[0m\n\u001b[0m\u001b[0;32m    521\u001b[0m     )\n\u001b[0;32m    522\u001b[0m     \u001b[1;32mreturn\u001b[0m \u001b[0mcv_results\u001b[0m\u001b[1;33m[\u001b[0m\u001b[1;34m\"test_score\"\u001b[0m\u001b[1;33m]\u001b[0m\u001b[1;33m\u001b[0m\u001b[1;33m\u001b[0m\u001b[0m\n",
      "\u001b[1;32m~\\anaconda3\\envs\\Tensor\\lib\\site-packages\\sklearn\\model_selection\\_validation.py\u001b[0m in \u001b[0;36mcross_validate\u001b[1;34m(estimator, X, y, groups, scoring, cv, n_jobs, verbose, fit_params, pre_dispatch, return_train_score, return_estimator, error_score)\u001b[0m\n\u001b[0;32m    281\u001b[0m             \u001b[0merror_score\u001b[0m\u001b[1;33m=\u001b[0m\u001b[0merror_score\u001b[0m\u001b[1;33m,\u001b[0m\u001b[1;33m\u001b[0m\u001b[1;33m\u001b[0m\u001b[0m\n\u001b[0;32m    282\u001b[0m         )\n\u001b[1;32m--> 283\u001b[1;33m         \u001b[1;32mfor\u001b[0m \u001b[0mtrain\u001b[0m\u001b[1;33m,\u001b[0m \u001b[0mtest\u001b[0m \u001b[1;32min\u001b[0m \u001b[0mcv\u001b[0m\u001b[1;33m.\u001b[0m\u001b[0msplit\u001b[0m\u001b[1;33m(\u001b[0m\u001b[0mX\u001b[0m\u001b[1;33m,\u001b[0m \u001b[0my\u001b[0m\u001b[1;33m,\u001b[0m \u001b[0mgroups\u001b[0m\u001b[1;33m)\u001b[0m\u001b[1;33m\u001b[0m\u001b[1;33m\u001b[0m\u001b[0m\n\u001b[0m\u001b[0;32m    284\u001b[0m     )\n\u001b[0;32m    285\u001b[0m \u001b[1;33m\u001b[0m\u001b[0m\n",
      "\u001b[1;32m~\\anaconda3\\envs\\Tensor\\lib\\site-packages\\joblib\\parallel.py\u001b[0m in \u001b[0;36m__call__\u001b[1;34m(self, iterable)\u001b[0m\n\u001b[0;32m   1044\u001b[0m                 \u001b[0mself\u001b[0m\u001b[1;33m.\u001b[0m\u001b[0m_iterating\u001b[0m \u001b[1;33m=\u001b[0m \u001b[0mself\u001b[0m\u001b[1;33m.\u001b[0m\u001b[0m_original_iterator\u001b[0m \u001b[1;32mis\u001b[0m \u001b[1;32mnot\u001b[0m \u001b[1;32mNone\u001b[0m\u001b[1;33m\u001b[0m\u001b[1;33m\u001b[0m\u001b[0m\n\u001b[0;32m   1045\u001b[0m \u001b[1;33m\u001b[0m\u001b[0m\n\u001b[1;32m-> 1046\u001b[1;33m             \u001b[1;32mwhile\u001b[0m \u001b[0mself\u001b[0m\u001b[1;33m.\u001b[0m\u001b[0mdispatch_one_batch\u001b[0m\u001b[1;33m(\u001b[0m\u001b[0miterator\u001b[0m\u001b[1;33m)\u001b[0m\u001b[1;33m:\u001b[0m\u001b[1;33m\u001b[0m\u001b[1;33m\u001b[0m\u001b[0m\n\u001b[0m\u001b[0;32m   1047\u001b[0m                 \u001b[1;32mpass\u001b[0m\u001b[1;33m\u001b[0m\u001b[1;33m\u001b[0m\u001b[0m\n\u001b[0;32m   1048\u001b[0m \u001b[1;33m\u001b[0m\u001b[0m\n",
      "\u001b[1;32m~\\anaconda3\\envs\\Tensor\\lib\\site-packages\\joblib\\parallel.py\u001b[0m in \u001b[0;36mdispatch_one_batch\u001b[1;34m(self, iterator)\u001b[0m\n\u001b[0;32m    859\u001b[0m                 \u001b[1;32mreturn\u001b[0m \u001b[1;32mFalse\u001b[0m\u001b[1;33m\u001b[0m\u001b[1;33m\u001b[0m\u001b[0m\n\u001b[0;32m    860\u001b[0m             \u001b[1;32melse\u001b[0m\u001b[1;33m:\u001b[0m\u001b[1;33m\u001b[0m\u001b[1;33m\u001b[0m\u001b[0m\n\u001b[1;32m--> 861\u001b[1;33m                 \u001b[0mself\u001b[0m\u001b[1;33m.\u001b[0m\u001b[0m_dispatch\u001b[0m\u001b[1;33m(\u001b[0m\u001b[0mtasks\u001b[0m\u001b[1;33m)\u001b[0m\u001b[1;33m\u001b[0m\u001b[1;33m\u001b[0m\u001b[0m\n\u001b[0m\u001b[0;32m    862\u001b[0m                 \u001b[1;32mreturn\u001b[0m \u001b[1;32mTrue\u001b[0m\u001b[1;33m\u001b[0m\u001b[1;33m\u001b[0m\u001b[0m\n\u001b[0;32m    863\u001b[0m \u001b[1;33m\u001b[0m\u001b[0m\n",
      "\u001b[1;32m~\\anaconda3\\envs\\Tensor\\lib\\site-packages\\joblib\\parallel.py\u001b[0m in \u001b[0;36m_dispatch\u001b[1;34m(self, batch)\u001b[0m\n\u001b[0;32m    777\u001b[0m         \u001b[1;32mwith\u001b[0m \u001b[0mself\u001b[0m\u001b[1;33m.\u001b[0m\u001b[0m_lock\u001b[0m\u001b[1;33m:\u001b[0m\u001b[1;33m\u001b[0m\u001b[1;33m\u001b[0m\u001b[0m\n\u001b[0;32m    778\u001b[0m             \u001b[0mjob_idx\u001b[0m \u001b[1;33m=\u001b[0m \u001b[0mlen\u001b[0m\u001b[1;33m(\u001b[0m\u001b[0mself\u001b[0m\u001b[1;33m.\u001b[0m\u001b[0m_jobs\u001b[0m\u001b[1;33m)\u001b[0m\u001b[1;33m\u001b[0m\u001b[1;33m\u001b[0m\u001b[0m\n\u001b[1;32m--> 779\u001b[1;33m             \u001b[0mjob\u001b[0m \u001b[1;33m=\u001b[0m \u001b[0mself\u001b[0m\u001b[1;33m.\u001b[0m\u001b[0m_backend\u001b[0m\u001b[1;33m.\u001b[0m\u001b[0mapply_async\u001b[0m\u001b[1;33m(\u001b[0m\u001b[0mbatch\u001b[0m\u001b[1;33m,\u001b[0m \u001b[0mcallback\u001b[0m\u001b[1;33m=\u001b[0m\u001b[0mcb\u001b[0m\u001b[1;33m)\u001b[0m\u001b[1;33m\u001b[0m\u001b[1;33m\u001b[0m\u001b[0m\n\u001b[0m\u001b[0;32m    780\u001b[0m             \u001b[1;31m# A job can complete so quickly than its callback is\u001b[0m\u001b[1;33m\u001b[0m\u001b[1;33m\u001b[0m\u001b[1;33m\u001b[0m\u001b[0m\n\u001b[0;32m    781\u001b[0m             \u001b[1;31m# called before we get here, causing self._jobs to\u001b[0m\u001b[1;33m\u001b[0m\u001b[1;33m\u001b[0m\u001b[1;33m\u001b[0m\u001b[0m\n",
      "\u001b[1;32m~\\anaconda3\\envs\\Tensor\\lib\\site-packages\\joblib\\_parallel_backends.py\u001b[0m in \u001b[0;36mapply_async\u001b[1;34m(self, func, callback)\u001b[0m\n\u001b[0;32m    206\u001b[0m     \u001b[1;32mdef\u001b[0m \u001b[0mapply_async\u001b[0m\u001b[1;33m(\u001b[0m\u001b[0mself\u001b[0m\u001b[1;33m,\u001b[0m \u001b[0mfunc\u001b[0m\u001b[1;33m,\u001b[0m \u001b[0mcallback\u001b[0m\u001b[1;33m=\u001b[0m\u001b[1;32mNone\u001b[0m\u001b[1;33m)\u001b[0m\u001b[1;33m:\u001b[0m\u001b[1;33m\u001b[0m\u001b[1;33m\u001b[0m\u001b[0m\n\u001b[0;32m    207\u001b[0m         \u001b[1;34m\"\"\"Schedule a func to be run\"\"\"\u001b[0m\u001b[1;33m\u001b[0m\u001b[1;33m\u001b[0m\u001b[0m\n\u001b[1;32m--> 208\u001b[1;33m         \u001b[0mresult\u001b[0m \u001b[1;33m=\u001b[0m \u001b[0mImmediateResult\u001b[0m\u001b[1;33m(\u001b[0m\u001b[0mfunc\u001b[0m\u001b[1;33m)\u001b[0m\u001b[1;33m\u001b[0m\u001b[1;33m\u001b[0m\u001b[0m\n\u001b[0m\u001b[0;32m    209\u001b[0m         \u001b[1;32mif\u001b[0m \u001b[0mcallback\u001b[0m\u001b[1;33m:\u001b[0m\u001b[1;33m\u001b[0m\u001b[1;33m\u001b[0m\u001b[0m\n\u001b[0;32m    210\u001b[0m             \u001b[0mcallback\u001b[0m\u001b[1;33m(\u001b[0m\u001b[0mresult\u001b[0m\u001b[1;33m)\u001b[0m\u001b[1;33m\u001b[0m\u001b[1;33m\u001b[0m\u001b[0m\n",
      "\u001b[1;32m~\\anaconda3\\envs\\Tensor\\lib\\site-packages\\joblib\\_parallel_backends.py\u001b[0m in \u001b[0;36m__init__\u001b[1;34m(self, batch)\u001b[0m\n\u001b[0;32m    570\u001b[0m         \u001b[1;31m# Don't delay the application, to avoid keeping the input\u001b[0m\u001b[1;33m\u001b[0m\u001b[1;33m\u001b[0m\u001b[1;33m\u001b[0m\u001b[0m\n\u001b[0;32m    571\u001b[0m         \u001b[1;31m# arguments in memory\u001b[0m\u001b[1;33m\u001b[0m\u001b[1;33m\u001b[0m\u001b[1;33m\u001b[0m\u001b[0m\n\u001b[1;32m--> 572\u001b[1;33m         \u001b[0mself\u001b[0m\u001b[1;33m.\u001b[0m\u001b[0mresults\u001b[0m \u001b[1;33m=\u001b[0m \u001b[0mbatch\u001b[0m\u001b[1;33m(\u001b[0m\u001b[1;33m)\u001b[0m\u001b[1;33m\u001b[0m\u001b[1;33m\u001b[0m\u001b[0m\n\u001b[0m\u001b[0;32m    573\u001b[0m \u001b[1;33m\u001b[0m\u001b[0m\n\u001b[0;32m    574\u001b[0m     \u001b[1;32mdef\u001b[0m \u001b[0mget\u001b[0m\u001b[1;33m(\u001b[0m\u001b[0mself\u001b[0m\u001b[1;33m)\u001b[0m\u001b[1;33m:\u001b[0m\u001b[1;33m\u001b[0m\u001b[1;33m\u001b[0m\u001b[0m\n",
      "\u001b[1;32m~\\anaconda3\\envs\\Tensor\\lib\\site-packages\\joblib\\parallel.py\u001b[0m in \u001b[0;36m__call__\u001b[1;34m(self)\u001b[0m\n\u001b[0;32m    261\u001b[0m         \u001b[1;32mwith\u001b[0m \u001b[0mparallel_backend\u001b[0m\u001b[1;33m(\u001b[0m\u001b[0mself\u001b[0m\u001b[1;33m.\u001b[0m\u001b[0m_backend\u001b[0m\u001b[1;33m,\u001b[0m \u001b[0mn_jobs\u001b[0m\u001b[1;33m=\u001b[0m\u001b[0mself\u001b[0m\u001b[1;33m.\u001b[0m\u001b[0m_n_jobs\u001b[0m\u001b[1;33m)\u001b[0m\u001b[1;33m:\u001b[0m\u001b[1;33m\u001b[0m\u001b[1;33m\u001b[0m\u001b[0m\n\u001b[0;32m    262\u001b[0m             return [func(*args, **kwargs)\n\u001b[1;32m--> 263\u001b[1;33m                     for func, args, kwargs in self.items]\n\u001b[0m\u001b[0;32m    264\u001b[0m \u001b[1;33m\u001b[0m\u001b[0m\n\u001b[0;32m    265\u001b[0m     \u001b[1;32mdef\u001b[0m \u001b[0m__reduce__\u001b[0m\u001b[1;33m(\u001b[0m\u001b[0mself\u001b[0m\u001b[1;33m)\u001b[0m\u001b[1;33m:\u001b[0m\u001b[1;33m\u001b[0m\u001b[1;33m\u001b[0m\u001b[0m\n",
      "\u001b[1;32m~\\anaconda3\\envs\\Tensor\\lib\\site-packages\\joblib\\parallel.py\u001b[0m in \u001b[0;36m<listcomp>\u001b[1;34m(.0)\u001b[0m\n\u001b[0;32m    261\u001b[0m         \u001b[1;32mwith\u001b[0m \u001b[0mparallel_backend\u001b[0m\u001b[1;33m(\u001b[0m\u001b[0mself\u001b[0m\u001b[1;33m.\u001b[0m\u001b[0m_backend\u001b[0m\u001b[1;33m,\u001b[0m \u001b[0mn_jobs\u001b[0m\u001b[1;33m=\u001b[0m\u001b[0mself\u001b[0m\u001b[1;33m.\u001b[0m\u001b[0m_n_jobs\u001b[0m\u001b[1;33m)\u001b[0m\u001b[1;33m:\u001b[0m\u001b[1;33m\u001b[0m\u001b[1;33m\u001b[0m\u001b[0m\n\u001b[0;32m    262\u001b[0m             return [func(*args, **kwargs)\n\u001b[1;32m--> 263\u001b[1;33m                     for func, args, kwargs in self.items]\n\u001b[0m\u001b[0;32m    264\u001b[0m \u001b[1;33m\u001b[0m\u001b[0m\n\u001b[0;32m    265\u001b[0m     \u001b[1;32mdef\u001b[0m \u001b[0m__reduce__\u001b[0m\u001b[1;33m(\u001b[0m\u001b[0mself\u001b[0m\u001b[1;33m)\u001b[0m\u001b[1;33m:\u001b[0m\u001b[1;33m\u001b[0m\u001b[1;33m\u001b[0m\u001b[0m\n",
      "\u001b[1;32m~\\anaconda3\\envs\\Tensor\\lib\\site-packages\\sklearn\\utils\\fixes.py\u001b[0m in \u001b[0;36m__call__\u001b[1;34m(self, *args, **kwargs)\u001b[0m\n\u001b[0;32m    214\u001b[0m     \u001b[1;32mdef\u001b[0m \u001b[0m__call__\u001b[0m\u001b[1;33m(\u001b[0m\u001b[0mself\u001b[0m\u001b[1;33m,\u001b[0m \u001b[1;33m*\u001b[0m\u001b[0margs\u001b[0m\u001b[1;33m,\u001b[0m \u001b[1;33m**\u001b[0m\u001b[0mkwargs\u001b[0m\u001b[1;33m)\u001b[0m\u001b[1;33m:\u001b[0m\u001b[1;33m\u001b[0m\u001b[1;33m\u001b[0m\u001b[0m\n\u001b[0;32m    215\u001b[0m         \u001b[1;32mwith\u001b[0m \u001b[0mconfig_context\u001b[0m\u001b[1;33m(\u001b[0m\u001b[1;33m**\u001b[0m\u001b[0mself\u001b[0m\u001b[1;33m.\u001b[0m\u001b[0mconfig\u001b[0m\u001b[1;33m)\u001b[0m\u001b[1;33m:\u001b[0m\u001b[1;33m\u001b[0m\u001b[1;33m\u001b[0m\u001b[0m\n\u001b[1;32m--> 216\u001b[1;33m             \u001b[1;32mreturn\u001b[0m \u001b[0mself\u001b[0m\u001b[1;33m.\u001b[0m\u001b[0mfunction\u001b[0m\u001b[1;33m(\u001b[0m\u001b[1;33m*\u001b[0m\u001b[0margs\u001b[0m\u001b[1;33m,\u001b[0m \u001b[1;33m**\u001b[0m\u001b[0mkwargs\u001b[0m\u001b[1;33m)\u001b[0m\u001b[1;33m\u001b[0m\u001b[1;33m\u001b[0m\u001b[0m\n\u001b[0m\u001b[0;32m    217\u001b[0m \u001b[1;33m\u001b[0m\u001b[0m\n\u001b[0;32m    218\u001b[0m \u001b[1;33m\u001b[0m\u001b[0m\n",
      "\u001b[1;32m~\\anaconda3\\envs\\Tensor\\lib\\site-packages\\sklearn\\model_selection\\_validation.py\u001b[0m in \u001b[0;36m_fit_and_score\u001b[1;34m(estimator, X, y, scorer, train, test, verbose, parameters, fit_params, return_train_score, return_parameters, return_n_test_samples, return_times, return_estimator, split_progress, candidate_progress, error_score)\u001b[0m\n\u001b[0;32m    700\u001b[0m \u001b[1;33m\u001b[0m\u001b[0m\n\u001b[0;32m    701\u001b[0m         \u001b[0mfit_time\u001b[0m \u001b[1;33m=\u001b[0m \u001b[0mtime\u001b[0m\u001b[1;33m.\u001b[0m\u001b[0mtime\u001b[0m\u001b[1;33m(\u001b[0m\u001b[1;33m)\u001b[0m \u001b[1;33m-\u001b[0m \u001b[0mstart_time\u001b[0m\u001b[1;33m\u001b[0m\u001b[1;33m\u001b[0m\u001b[0m\n\u001b[1;32m--> 702\u001b[1;33m         \u001b[0mtest_scores\u001b[0m \u001b[1;33m=\u001b[0m \u001b[0m_score\u001b[0m\u001b[1;33m(\u001b[0m\u001b[0mestimator\u001b[0m\u001b[1;33m,\u001b[0m \u001b[0mX_test\u001b[0m\u001b[1;33m,\u001b[0m \u001b[0my_test\u001b[0m\u001b[1;33m,\u001b[0m \u001b[0mscorer\u001b[0m\u001b[1;33m,\u001b[0m \u001b[0merror_score\u001b[0m\u001b[1;33m)\u001b[0m\u001b[1;33m\u001b[0m\u001b[1;33m\u001b[0m\u001b[0m\n\u001b[0m\u001b[0;32m    703\u001b[0m         \u001b[0mscore_time\u001b[0m \u001b[1;33m=\u001b[0m \u001b[0mtime\u001b[0m\u001b[1;33m.\u001b[0m\u001b[0mtime\u001b[0m\u001b[1;33m(\u001b[0m\u001b[1;33m)\u001b[0m \u001b[1;33m-\u001b[0m \u001b[0mstart_time\u001b[0m \u001b[1;33m-\u001b[0m \u001b[0mfit_time\u001b[0m\u001b[1;33m\u001b[0m\u001b[1;33m\u001b[0m\u001b[0m\n\u001b[0;32m    704\u001b[0m         \u001b[1;32mif\u001b[0m \u001b[0mreturn_train_score\u001b[0m\u001b[1;33m:\u001b[0m\u001b[1;33m\u001b[0m\u001b[1;33m\u001b[0m\u001b[0m\n",
      "\u001b[1;32m~\\anaconda3\\envs\\Tensor\\lib\\site-packages\\sklearn\\model_selection\\_validation.py\u001b[0m in \u001b[0;36m_score\u001b[1;34m(estimator, X_test, y_test, scorer, error_score)\u001b[0m\n\u001b[0;32m    759\u001b[0m             \u001b[0mscores\u001b[0m \u001b[1;33m=\u001b[0m \u001b[0mscorer\u001b[0m\u001b[1;33m(\u001b[0m\u001b[0mestimator\u001b[0m\u001b[1;33m,\u001b[0m \u001b[0mX_test\u001b[0m\u001b[1;33m)\u001b[0m\u001b[1;33m\u001b[0m\u001b[1;33m\u001b[0m\u001b[0m\n\u001b[0;32m    760\u001b[0m         \u001b[1;32melse\u001b[0m\u001b[1;33m:\u001b[0m\u001b[1;33m\u001b[0m\u001b[1;33m\u001b[0m\u001b[0m\n\u001b[1;32m--> 761\u001b[1;33m             \u001b[0mscores\u001b[0m \u001b[1;33m=\u001b[0m \u001b[0mscorer\u001b[0m\u001b[1;33m(\u001b[0m\u001b[0mestimator\u001b[0m\u001b[1;33m,\u001b[0m \u001b[0mX_test\u001b[0m\u001b[1;33m,\u001b[0m \u001b[0my_test\u001b[0m\u001b[1;33m)\u001b[0m\u001b[1;33m\u001b[0m\u001b[1;33m\u001b[0m\u001b[0m\n\u001b[0m\u001b[0;32m    762\u001b[0m     \u001b[1;32mexcept\u001b[0m \u001b[0mException\u001b[0m\u001b[1;33m:\u001b[0m\u001b[1;33m\u001b[0m\u001b[1;33m\u001b[0m\u001b[0m\n\u001b[0;32m    763\u001b[0m         \u001b[1;32mif\u001b[0m \u001b[0merror_score\u001b[0m \u001b[1;33m==\u001b[0m \u001b[1;34m\"raise\"\u001b[0m\u001b[1;33m:\u001b[0m\u001b[1;33m\u001b[0m\u001b[1;33m\u001b[0m\u001b[0m\n",
      "\u001b[1;32m~\\anaconda3\\envs\\Tensor\\lib\\site-packages\\sklearn\\metrics\\_scorer.py\u001b[0m in \u001b[0;36m__call__\u001b[1;34m(self, estimator, *args, **kwargs)\u001b[0m\n\u001b[0;32m    101\u001b[0m         \u001b[1;32mfor\u001b[0m \u001b[0mname\u001b[0m\u001b[1;33m,\u001b[0m \u001b[0mscorer\u001b[0m \u001b[1;32min\u001b[0m \u001b[0mself\u001b[0m\u001b[1;33m.\u001b[0m\u001b[0m_scorers\u001b[0m\u001b[1;33m.\u001b[0m\u001b[0mitems\u001b[0m\u001b[1;33m(\u001b[0m\u001b[1;33m)\u001b[0m\u001b[1;33m:\u001b[0m\u001b[1;33m\u001b[0m\u001b[1;33m\u001b[0m\u001b[0m\n\u001b[0;32m    102\u001b[0m             \u001b[1;32mif\u001b[0m \u001b[0misinstance\u001b[0m\u001b[1;33m(\u001b[0m\u001b[0mscorer\u001b[0m\u001b[1;33m,\u001b[0m \u001b[0m_BaseScorer\u001b[0m\u001b[1;33m)\u001b[0m\u001b[1;33m:\u001b[0m\u001b[1;33m\u001b[0m\u001b[1;33m\u001b[0m\u001b[0m\n\u001b[1;32m--> 103\u001b[1;33m                 \u001b[0mscore\u001b[0m \u001b[1;33m=\u001b[0m \u001b[0mscorer\u001b[0m\u001b[1;33m.\u001b[0m\u001b[0m_score\u001b[0m\u001b[1;33m(\u001b[0m\u001b[0mcached_call\u001b[0m\u001b[1;33m,\u001b[0m \u001b[0mestimator\u001b[0m\u001b[1;33m,\u001b[0m \u001b[1;33m*\u001b[0m\u001b[0margs\u001b[0m\u001b[1;33m,\u001b[0m \u001b[1;33m**\u001b[0m\u001b[0mkwargs\u001b[0m\u001b[1;33m)\u001b[0m\u001b[1;33m\u001b[0m\u001b[1;33m\u001b[0m\u001b[0m\n\u001b[0m\u001b[0;32m    104\u001b[0m             \u001b[1;32melse\u001b[0m\u001b[1;33m:\u001b[0m\u001b[1;33m\u001b[0m\u001b[1;33m\u001b[0m\u001b[0m\n\u001b[0;32m    105\u001b[0m                 \u001b[0mscore\u001b[0m \u001b[1;33m=\u001b[0m \u001b[0mscorer\u001b[0m\u001b[1;33m(\u001b[0m\u001b[0mestimator\u001b[0m\u001b[1;33m,\u001b[0m \u001b[1;33m*\u001b[0m\u001b[0margs\u001b[0m\u001b[1;33m,\u001b[0m \u001b[1;33m**\u001b[0m\u001b[0mkwargs\u001b[0m\u001b[1;33m)\u001b[0m\u001b[1;33m\u001b[0m\u001b[1;33m\u001b[0m\u001b[0m\n",
      "\u001b[1;32m~\\anaconda3\\envs\\Tensor\\lib\\site-packages\\sklearn\\metrics\\_scorer.py\u001b[0m in \u001b[0;36m_score\u001b[1;34m(self, method_caller, estimator, X, y_true, sample_weight)\u001b[0m\n\u001b[0;32m    256\u001b[0m         \"\"\"\n\u001b[0;32m    257\u001b[0m \u001b[1;33m\u001b[0m\u001b[0m\n\u001b[1;32m--> 258\u001b[1;33m         \u001b[0my_pred\u001b[0m \u001b[1;33m=\u001b[0m \u001b[0mmethod_caller\u001b[0m\u001b[1;33m(\u001b[0m\u001b[0mestimator\u001b[0m\u001b[1;33m,\u001b[0m \u001b[1;34m\"predict\"\u001b[0m\u001b[1;33m,\u001b[0m \u001b[0mX\u001b[0m\u001b[1;33m)\u001b[0m\u001b[1;33m\u001b[0m\u001b[1;33m\u001b[0m\u001b[0m\n\u001b[0m\u001b[0;32m    259\u001b[0m         \u001b[1;32mif\u001b[0m \u001b[0msample_weight\u001b[0m \u001b[1;32mis\u001b[0m \u001b[1;32mnot\u001b[0m \u001b[1;32mNone\u001b[0m\u001b[1;33m:\u001b[0m\u001b[1;33m\u001b[0m\u001b[1;33m\u001b[0m\u001b[0m\n\u001b[0;32m    260\u001b[0m             return self._sign * self._score_func(\n",
      "\u001b[1;32m~\\anaconda3\\envs\\Tensor\\lib\\site-packages\\sklearn\\metrics\\_scorer.py\u001b[0m in \u001b[0;36m_cached_call\u001b[1;34m(cache, estimator, method, *args, **kwargs)\u001b[0m\n\u001b[0;32m     66\u001b[0m     \u001b[1;34m\"\"\"Call estimator with method and args and kwargs.\"\"\"\u001b[0m\u001b[1;33m\u001b[0m\u001b[1;33m\u001b[0m\u001b[0m\n\u001b[0;32m     67\u001b[0m     \u001b[1;32mif\u001b[0m \u001b[0mcache\u001b[0m \u001b[1;32mis\u001b[0m \u001b[1;32mNone\u001b[0m\u001b[1;33m:\u001b[0m\u001b[1;33m\u001b[0m\u001b[1;33m\u001b[0m\u001b[0m\n\u001b[1;32m---> 68\u001b[1;33m         \u001b[1;32mreturn\u001b[0m \u001b[0mgetattr\u001b[0m\u001b[1;33m(\u001b[0m\u001b[0mestimator\u001b[0m\u001b[1;33m,\u001b[0m \u001b[0mmethod\u001b[0m\u001b[1;33m)\u001b[0m\u001b[1;33m(\u001b[0m\u001b[1;33m*\u001b[0m\u001b[0margs\u001b[0m\u001b[1;33m,\u001b[0m \u001b[1;33m**\u001b[0m\u001b[0mkwargs\u001b[0m\u001b[1;33m)\u001b[0m\u001b[1;33m\u001b[0m\u001b[1;33m\u001b[0m\u001b[0m\n\u001b[0m\u001b[0;32m     69\u001b[0m \u001b[1;33m\u001b[0m\u001b[0m\n\u001b[0;32m     70\u001b[0m     \u001b[1;32mtry\u001b[0m\u001b[1;33m:\u001b[0m\u001b[1;33m\u001b[0m\u001b[1;33m\u001b[0m\u001b[0m\n",
      "\u001b[1;32m~\\anaconda3\\envs\\Tensor\\lib\\site-packages\\sklearn\\svm\\_base.py\u001b[0m in \u001b[0;36mpredict\u001b[1;34m(self, X)\u001b[0m\n\u001b[0;32m    414\u001b[0m         \u001b[0mX\u001b[0m \u001b[1;33m=\u001b[0m \u001b[0mself\u001b[0m\u001b[1;33m.\u001b[0m\u001b[0m_validate_for_predict\u001b[0m\u001b[1;33m(\u001b[0m\u001b[0mX\u001b[0m\u001b[1;33m)\u001b[0m\u001b[1;33m\u001b[0m\u001b[1;33m\u001b[0m\u001b[0m\n\u001b[0;32m    415\u001b[0m         \u001b[0mpredict\u001b[0m \u001b[1;33m=\u001b[0m \u001b[0mself\u001b[0m\u001b[1;33m.\u001b[0m\u001b[0m_sparse_predict\u001b[0m \u001b[1;32mif\u001b[0m \u001b[0mself\u001b[0m\u001b[1;33m.\u001b[0m\u001b[0m_sparse\u001b[0m \u001b[1;32melse\u001b[0m \u001b[0mself\u001b[0m\u001b[1;33m.\u001b[0m\u001b[0m_dense_predict\u001b[0m\u001b[1;33m\u001b[0m\u001b[1;33m\u001b[0m\u001b[0m\n\u001b[1;32m--> 416\u001b[1;33m         \u001b[1;32mreturn\u001b[0m \u001b[0mpredict\u001b[0m\u001b[1;33m(\u001b[0m\u001b[0mX\u001b[0m\u001b[1;33m)\u001b[0m\u001b[1;33m\u001b[0m\u001b[1;33m\u001b[0m\u001b[0m\n\u001b[0m\u001b[0;32m    417\u001b[0m \u001b[1;33m\u001b[0m\u001b[0m\n\u001b[0;32m    418\u001b[0m     \u001b[1;32mdef\u001b[0m \u001b[0m_dense_predict\u001b[0m\u001b[1;33m(\u001b[0m\u001b[0mself\u001b[0m\u001b[1;33m,\u001b[0m \u001b[0mX\u001b[0m\u001b[1;33m)\u001b[0m\u001b[1;33m:\u001b[0m\u001b[1;33m\u001b[0m\u001b[1;33m\u001b[0m\u001b[0m\n",
      "\u001b[1;32m~\\anaconda3\\envs\\Tensor\\lib\\site-packages\\sklearn\\svm\\_base.py\u001b[0m in \u001b[0;36m_dense_predict\u001b[1;34m(self, X)\u001b[0m\n\u001b[0;32m    447\u001b[0m             \u001b[0mcoef0\u001b[0m\u001b[1;33m=\u001b[0m\u001b[0mself\u001b[0m\u001b[1;33m.\u001b[0m\u001b[0mcoef0\u001b[0m\u001b[1;33m,\u001b[0m\u001b[1;33m\u001b[0m\u001b[1;33m\u001b[0m\u001b[0m\n\u001b[0;32m    448\u001b[0m             \u001b[0mgamma\u001b[0m\u001b[1;33m=\u001b[0m\u001b[0mself\u001b[0m\u001b[1;33m.\u001b[0m\u001b[0m_gamma\u001b[0m\u001b[1;33m,\u001b[0m\u001b[1;33m\u001b[0m\u001b[1;33m\u001b[0m\u001b[0m\n\u001b[1;32m--> 449\u001b[1;33m             \u001b[0mcache_size\u001b[0m\u001b[1;33m=\u001b[0m\u001b[0mself\u001b[0m\u001b[1;33m.\u001b[0m\u001b[0mcache_size\u001b[0m\u001b[1;33m,\u001b[0m\u001b[1;33m\u001b[0m\u001b[1;33m\u001b[0m\u001b[0m\n\u001b[0m\u001b[0;32m    450\u001b[0m         )\n\u001b[0;32m    451\u001b[0m \u001b[1;33m\u001b[0m\u001b[0m\n",
      "\u001b[1;31mKeyboardInterrupt\u001b[0m: "
     ]
    }
   ],
   "source": [
    "# evaluate each model in turn\n",
    "results = []\n",
    "names = []\n",
    "for name, model in models:\n",
    "    kfold = KFold(n_splits=num_folds, random_state=None)\n",
    "    cv_results = cross_val_score(model, X_train, y_train, cv=kfold, scoring=scoring)\n",
    "    results.append(cv_results)\n",
    "    names.append(name)\n",
    "    msg = \"%s: %f (%f)\" % (name, cv_results.mean(), cv_results.std())\n",
    "    print(msg)"
   ]
  },
  {
   "cell_type": "markdown",
   "id": "206f578f",
   "metadata": {},
   "source": [
    "# Comparison of Linear and Non Linear Machine learning Algorithm Performance"
   ]
  },
  {
   "cell_type": "code",
   "execution_count": 44,
   "id": "7c16b502",
   "metadata": {},
   "outputs": [
    {
     "data": {
      "image/png": "[encoded data removed]",
      "text/plain": [
       "<Figure size 432x288 with 1 Axes>"
      ]
     },
     "metadata": {},
     "output_type": "display_data"
    }
   ],
   "source": [
    "# Compare Algorithms\n",
    "fig = pyplot.figure()\n",
    "fig.suptitle('Algorithm Comparison')\n",
    "ax = fig.add_subplot(111)\n",
    "pyplot.boxplot(results)\n",
    "ax.set_xticklabels(names)\n",
    "pyplot.show()"
   ]
  },
  {
   "cell_type": "code",
   "execution_count": 45,
   "id": "77c98ebf",
   "metadata": {},
   "outputs": [],
   "source": [
    "# Load libraries\n",
    "import numpy\n",
    "from numpy import arange\n",
    "from matplotlib import pyplot\n",
    "from pandas import read_csv\n",
    "from pandas import set_option\n",
    "from sklearn.preprocessing import StandardScaler\n",
    "from sklearn.model_selection import train_test_split\n",
    "from sklearn.model_selection import KFold\n",
    "from sklearn.model_selection import cross_val_score\n",
    "from sklearn.model_selection import GridSearchCV\n",
    "from sklearn.linear_model import LinearRegression\n",
    "from sklearn.linear_model import Lasso\n",
    "from sklearn.linear_model import ElasticNet\n",
    "from sklearn.tree import DecisionTreeRegressor\n",
    "from sklearn.neighbors import KNeighborsRegressor\n",
    "from sklearn.svm import SVR\n",
    "from sklearn.pipeline import Pipeline\n",
    "from sklearn.ensemble import RandomForestRegressor\n",
    "from sklearn.ensemble import GradientBoostingRegressor\n",
    "from sklearn.ensemble import ExtraTreesRegressor\n",
    "from sklearn.ensemble import AdaBoostRegressor\n",
    "from sklearn.metrics import mean_squared_error"
   ]
  },
  {
   "cell_type": "code",
   "execution_count": 46,
   "id": "bede0d27",
   "metadata": {},
   "outputs": [],
   "source": [
    "# Standardize the dataset\n",
    "pipelines = []\n",
    "pipelines.append(('ScaLR', Pipeline([('Scaler', StandardScaler()),('LR',LinearRegression())])))\n",
    "pipelines.append(('ScaLASSO', Pipeline([('Scaler', StandardScaler()),('LASSO',Lasso())])))\n",
    "pipelines.append(('ScaEN', Pipeline([('Scaler', StandardScaler()),('EN',ElasticNet())])))\n",
    "pipelines.append(('ScaKNN', Pipeline([('Scaler', StandardScaler()),('KNN',KNeighborsRegressor())])))\n",
    "pipelines.append(('ScaDECTR', Pipeline([('Scaler', StandardScaler()),('DECT',DecisionTreeRegressor())])))\n",
    "pipelines.append(('ScaRF', Pipeline([('Scaler', StandardScaler()),('RF',RandomForestRegressor())])))\n",
    "pipelines.append(('ScaSVR', Pipeline([('Scaler', StandardScaler()),('SVR', SVR())])))\n"
   ]
  },
  {
   "cell_type": "code",
   "execution_count": 47,
   "id": "01b7f2f9",
   "metadata": {},
   "outputs": [
    {
     "name": "stdout",
     "output_type": "stream",
     "text": [
      "ScaLR: -1054.137456 (21.304666)\n",
      "ScaLASSO: -1069.220889 (20.445875)\n",
      "ScaEN: -1068.765161 (20.605373)\n",
      "ScaKNN: -1154.053518 (23.369102)\n",
      "ScaDECTR: -2026.899367 (49.416864)\n",
      "ScaRF: -1024.854297 (18.817851)\n",
      "ScaSVR: -1050.833087 (19.689671)\n"
     ]
    }
   ],
   "source": [
    "results = []\n",
    "names = []\n",
    "for name, model in pipelines:\n",
    "    kfold = KFold(n_splits=num_folds, random_state=None)\n",
    "    cv_results = cross_val_score(model, X_train, y_train, cv=kfold, scoring=scoring)\n",
    "    results.append(cv_results)\n",
    "    names.append(name)\n",
    "    msg = \"%s: %f (%f)\" % (name, cv_results.mean(), cv_results.std())\n",
    "    print(msg)"
   ]
  },
  {
   "cell_type": "code",
   "execution_count": 48,
   "id": "060a9119",
   "metadata": {
    "scrolled": true
   },
   "outputs": [
    {
     "data": {
      "image/png": "[encoded data removed]",
      "text/plain": [
       "<Figure size 432x288 with 1 Axes>"
      ]
     },
     "metadata": {},
     "output_type": "display_data"
    }
   ],
   "source": [
    "# Compare Algorithms\n",
    "fig = pyplot.figure()\n",
    "fig.suptitle('Scaled Algorithm Comparison')\n",
    "ax = fig.add_subplot(111)\n",
    "pyplot.boxplot(results)\n",
    "ax.set_xticklabels(names)\n",
    "pyplot.show()"
   ]
  },
  {
   "cell_type": "markdown",
   "id": "f40805e4",
   "metadata": {},
   "source": [
    "# KNN  Algorithm Tuning"
   ]
  },
  {
   "cell_type": "code",
   "execution_count": 49,
   "id": "3fec3d7b",
   "metadata": {},
   "outputs": [],
   "source": [
    "scaler = StandardScaler().fit(X_train)\n",
    "rescaledX = scaler.transform(X_train)\n",
    "k_values = numpy.array([1,3,5,7,9,11,13,15,17,19,21])\n",
    "param_grid = dict(n_neighbors=k_values)\n",
    "model = KNeighborsRegressor()\n",
    "kfold = KFold(n_splits=num_folds, random_state=None)\n",
    "grid = GridSearchCV(estimator=model, param_grid=param_grid, scoring=scoring, cv=kfold)\n",
    "grid_result = grid.fit(rescaledX, y_train)"
   ]
  },
  {
   "cell_type": "code",
   "execution_count": 50,
   "id": "2fc2d871",
   "metadata": {
    "scrolled": false
   },
   "outputs": [
    {
     "name": "stdout",
     "output_type": "stream",
     "text": [
      "Best: -1035.245891 using {'n_neighbors': 21}\n",
      "-1878.702717 (47.966685) with: {'n_neighbors': 1}\n",
      "-1270.577356 (26.085023) with: {'n_neighbors': 3}\n",
      "-1154.570513 (21.566611) with: {'n_neighbors': 5}\n",
      "-1105.671603 (23.616932) with: {'n_neighbors': 7}\n",
      "-1079.339576 (20.870546) with: {'n_neighbors': 9}\n",
      "-1065.621025 (19.801729) with: {'n_neighbors': 11}\n",
      "-1052.981048 (18.549920) with: {'n_neighbors': 13}\n",
      "-1045.746656 (19.822587) with: {'n_neighbors': 15}\n",
      "-1041.385561 (18.865930) with: {'n_neighbors': 17}\n",
      "-1037.967393 (18.303807) with: {'n_neighbors': 19}\n",
      "-1035.245891 (18.734151) with: {'n_neighbors': 21}\n"
     ]
    }
   ],
   "source": [
    "print(\"Best: %f using %s\" % (grid_result.best_score_, grid_result.best_params_))\n",
    "means = grid_result.cv_results_['mean_test_score']\n",
    "stds = grid_result.cv_results_['std_test_score']\n",
    "params = grid_result.cv_results_['params']\n",
    "for mean, stdev, param in zip(means, stds, params):\n",
    "    print(\"%f (%f) with: %r\" % (mean, stdev, param))"
   ]
  },
  {
   "cell_type": "markdown",
   "id": "8fc01027",
   "metadata": {},
   "source": [
    "# Essemble Algorithms: AdaBoost, Gradient Boosting, RF and Extra Tree Regressor"
   ]
  },
  {
   "cell_type": "code",
   "execution_count": 51,
   "id": "e2e9e839",
   "metadata": {},
   "outputs": [],
   "source": [
    "# ensembles\n",
    "ensembles = []\n",
    "ensembles.append(('ScaledAB', Pipeline([('Scaler', StandardScaler()),('AdaB',AdaBoostRegressor())])))\n",
    "ensembles.append(('ScaledGBM', Pipeline([('Scaler', StandardScaler()),('GBM',GradientBoostingRegressor())])))\n",
    "ensembles.append(('ScaledRF', Pipeline([('Scaler', StandardScaler()),('RF',RandomForestRegressor())])))\n",
    "ensembles.append(('ScaledET', Pipeline([('Scaler', StandardScaler()),('ET', ExtraTreesRegressor())])))"
   ]
  },
  {
   "cell_type": "code",
   "execution_count": 52,
   "id": "0b631cf4",
   "metadata": {
    "scrolled": false
   },
   "outputs": [
    {
     "name": "stdout",
     "output_type": "stream",
     "text": [
      "ScaledAB: -1050.833087 (19.689671)\n",
      "ScaledGBM: -1050.833087 (19.689671)\n",
      "ScaledRF: -1050.833087 (19.689671)\n",
      "ScaledET: -1050.833087 (19.689671)\n"
     ]
    }
   ],
   "source": [
    "results = []\n",
    "names = []\n",
    "for name, model in ensembles:\n",
    "    kfold = KFold(n_splits=num_folds, random_state=None)\n",
    "    cv_resultscv_results = cross_val_score(model, X_train, y_train, cv=kfold, scoring=scoring)\n",
    "    results.append(cv_results)\n",
    "    names.append(name)\n",
    "    msg = \"%s: %f (%f)\" % (name, cv_results.mean(), cv_results.std())\n",
    "    print(msg)"
   ]
  },
  {
   "cell_type": "markdown",
   "id": "c02b5d6d",
   "metadata": {},
   "source": [
    "# Compare result for Esembles Algorithms"
   ]
  },
  {
   "cell_type": "code",
   "execution_count": 53,
   "id": "53910e3a",
   "metadata": {},
   "outputs": [
    {
     "data": {
      "image/png": "[encoded data removed]",
      "text/plain": [
       "<Figure size 432x288 with 1 Axes>"
      ]
     },
     "metadata": {},
     "output_type": "display_data"
    }
   ],
   "source": [
    "fig = pyplot.figure()\n",
    "fig.suptitle('Scaled Ensemble Algorithm Comparison')\n",
    "ax = fig.add_subplot(111)\n",
    "pyplot.boxplot(results)\n",
    "ax.set_xticklabels(names)\n",
    "pyplot.show()"
   ]
  },
  {
   "cell_type": "markdown",
   "id": "d66da7dd",
   "metadata": {},
   "source": [
    "# End of ML (Linear Reg, Non-Linear Reg & Essembles) Algorithm Comparison Performance."
   ]
  },
  {
   "cell_type": "code",
   "execution_count": 54,
   "id": "77d4bd45",
   "metadata": {},
   "outputs": [],
   "source": [
    "data=pd.read_csv(\"C:/Users/USER/Desktop/Lawrence/UI Msc/Project folder/ibedcogun/datafeatures.csv\", parse_dates= {\"date\" : [\"year\",\"month\",\"dow\"]})"
   ]
  },
  {
   "cell_type": "code",
   "execution_count": 55,
   "id": "6d5087a9",
   "metadata": {},
   "outputs": [
    {
     "data": {
      "text/html": [
       "<div>\n",
       "<style scoped>\n",
       "    .dataframe tbody tr th:only-of-type {\n",
       "        vertical-align: middle;\n",
       "    }\n",
       "\n",
       "    .dataframe tbody tr th {\n",
       "        vertical-align: top;\n",
       "    }\n",
       "\n",
       "    .dataframe thead th {\n",
       "        text-align: right;\n",
       "    }\n",
       "</style>\n",
       "<table border=\"1\" class=\"dataframe\">\n",
       "  <thead>\n",
       "    <tr style=\"text-align: right;\">\n",
       "      <th></th>\n",
       "      <th>date</th>\n",
       "      <th>T2M</th>\n",
       "      <th>T2MDEW</th>\n",
       "      <th>T2MWET</th>\n",
       "      <th>QV2M</th>\n",
       "      <th>RH2M</th>\n",
       "      <th>PRECTOTCORR</th>\n",
       "      <th>WS10M</th>\n",
       "      <th>WS2M</th>\n",
       "      <th>SP</th>\n",
       "      <th>PowerSuMW</th>\n",
       "    </tr>\n",
       "  </thead>\n",
       "  <tbody>\n",
       "    <tr>\n",
       "      <th>0</th>\n",
       "      <td>2015-11-01</td>\n",
       "      <td>24.05</td>\n",
       "      <td>23.81</td>\n",
       "      <td>23.93</td>\n",
       "      <td>18.49</td>\n",
       "      <td>98.38</td>\n",
       "      <td>0.21</td>\n",
       "      <td>1.40</td>\n",
       "      <td>0.59</td>\n",
       "      <td>100.12</td>\n",
       "      <td>68.1</td>\n",
       "    </tr>\n",
       "    <tr>\n",
       "      <th>1</th>\n",
       "      <td>2015-11-01</td>\n",
       "      <td>23.98</td>\n",
       "      <td>23.74</td>\n",
       "      <td>23.87</td>\n",
       "      <td>18.43</td>\n",
       "      <td>98.38</td>\n",
       "      <td>0.22</td>\n",
       "      <td>1.37</td>\n",
       "      <td>0.58</td>\n",
       "      <td>100.06</td>\n",
       "      <td>65.2</td>\n",
       "    </tr>\n",
       "    <tr>\n",
       "      <th>2</th>\n",
       "      <td>2015-11-01</td>\n",
       "      <td>23.90</td>\n",
       "      <td>23.65</td>\n",
       "      <td>23.77</td>\n",
       "      <td>18.37</td>\n",
       "      <td>98.25</td>\n",
       "      <td>0.22</td>\n",
       "      <td>1.36</td>\n",
       "      <td>0.57</td>\n",
       "      <td>100.02</td>\n",
       "      <td>60.1</td>\n",
       "    </tr>\n",
       "    <tr>\n",
       "      <th>3</th>\n",
       "      <td>2015-11-01</td>\n",
       "      <td>23.76</td>\n",
       "      <td>23.52</td>\n",
       "      <td>23.64</td>\n",
       "      <td>18.19</td>\n",
       "      <td>98.38</td>\n",
       "      <td>0.21</td>\n",
       "      <td>1.38</td>\n",
       "      <td>0.58</td>\n",
       "      <td>100.00</td>\n",
       "      <td>58.2</td>\n",
       "    </tr>\n",
       "    <tr>\n",
       "      <th>4</th>\n",
       "      <td>2015-11-01</td>\n",
       "      <td>23.65</td>\n",
       "      <td>23.41</td>\n",
       "      <td>23.53</td>\n",
       "      <td>18.13</td>\n",
       "      <td>98.50</td>\n",
       "      <td>0.20</td>\n",
       "      <td>1.41</td>\n",
       "      <td>0.61</td>\n",
       "      <td>100.02</td>\n",
       "      <td>56.7</td>\n",
       "    </tr>\n",
       "  </tbody>\n",
       "</table>\n",
       "</div>"
      ],
      "text/plain": [
       "        date    T2M  T2MDEW  T2MWET   QV2M   RH2M  PRECTOTCORR  WS10M  WS2M  \\\n",
       "0 2015-11-01  24.05   23.81   23.93  18.49  98.38         0.21   1.40  0.59   \n",
       "1 2015-11-01  23.98   23.74   23.87  18.43  98.38         0.22   1.37  0.58   \n",
       "2 2015-11-01  23.90   23.65   23.77  18.37  98.25         0.22   1.36  0.57   \n",
       "3 2015-11-01  23.76   23.52   23.64  18.19  98.38         0.21   1.38  0.58   \n",
       "4 2015-11-01  23.65   23.41   23.53  18.13  98.50         0.20   1.41  0.61   \n",
       "\n",
       "       SP  PowerSuMW  \n",
       "0  100.12       68.1  \n",
       "1  100.06       65.2  \n",
       "2  100.02       60.1  \n",
       "3  100.00       58.2  \n",
       "4  100.02       56.7  "
      ]
     },
     "execution_count": 55,
     "metadata": {},
     "output_type": "execute_result"
    }
   ],
   "source": [
    "data.head()"
   ]
  },
  {
   "cell_type": "code",
   "execution_count": 56,
   "id": "b636872f",
   "metadata": {},
   "outputs": [],
   "source": [
    "data=pd.read_csv(\"C:/Users/USER/Desktop/Lawrence/UI Msc/Project folder/ibedcogun/datafeatures.csv\", parse_dates= {\"date\" : [\"year\",\"month\",\"dow\"]})"
   ]
  },
  {
   "cell_type": "code",
   "execution_count": 57,
   "id": "068880b7",
   "metadata": {},
   "outputs": [
    {
     "data": {
      "text/html": [
       "<div>\n",
       "<style scoped>\n",
       "    .dataframe tbody tr th:only-of-type {\n",
       "        vertical-align: middle;\n",
       "    }\n",
       "\n",
       "    .dataframe tbody tr th {\n",
       "        vertical-align: top;\n",
       "    }\n",
       "\n",
       "    .dataframe thead th {\n",
       "        text-align: right;\n",
       "    }\n",
       "</style>\n",
       "<table border=\"1\" class=\"dataframe\">\n",
       "  <thead>\n",
       "    <tr style=\"text-align: right;\">\n",
       "      <th></th>\n",
       "      <th>date</th>\n",
       "      <th>T2M</th>\n",
       "      <th>T2MDEW</th>\n",
       "      <th>T2MWET</th>\n",
       "      <th>QV2M</th>\n",
       "      <th>RH2M</th>\n",
       "      <th>PRECTOTCORR</th>\n",
       "      <th>WS10M</th>\n",
       "      <th>WS2M</th>\n",
       "      <th>SP</th>\n",
       "      <th>PowerSuMW</th>\n",
       "    </tr>\n",
       "  </thead>\n",
       "  <tbody>\n",
       "    <tr>\n",
       "      <th>0</th>\n",
       "      <td>2015-11-01</td>\n",
       "      <td>24.05</td>\n",
       "      <td>23.81</td>\n",
       "      <td>23.93</td>\n",
       "      <td>18.49</td>\n",
       "      <td>98.38</td>\n",
       "      <td>0.21</td>\n",
       "      <td>1.40</td>\n",
       "      <td>0.59</td>\n",
       "      <td>100.12</td>\n",
       "      <td>68.1</td>\n",
       "    </tr>\n",
       "    <tr>\n",
       "      <th>1</th>\n",
       "      <td>2015-11-01</td>\n",
       "      <td>23.98</td>\n",
       "      <td>23.74</td>\n",
       "      <td>23.87</td>\n",
       "      <td>18.43</td>\n",
       "      <td>98.38</td>\n",
       "      <td>0.22</td>\n",
       "      <td>1.37</td>\n",
       "      <td>0.58</td>\n",
       "      <td>100.06</td>\n",
       "      <td>65.2</td>\n",
       "    </tr>\n",
       "    <tr>\n",
       "      <th>2</th>\n",
       "      <td>2015-11-01</td>\n",
       "      <td>23.90</td>\n",
       "      <td>23.65</td>\n",
       "      <td>23.77</td>\n",
       "      <td>18.37</td>\n",
       "      <td>98.25</td>\n",
       "      <td>0.22</td>\n",
       "      <td>1.36</td>\n",
       "      <td>0.57</td>\n",
       "      <td>100.02</td>\n",
       "      <td>60.1</td>\n",
       "    </tr>\n",
       "    <tr>\n",
       "      <th>3</th>\n",
       "      <td>2015-11-01</td>\n",
       "      <td>23.76</td>\n",
       "      <td>23.52</td>\n",
       "      <td>23.64</td>\n",
       "      <td>18.19</td>\n",
       "      <td>98.38</td>\n",
       "      <td>0.21</td>\n",
       "      <td>1.38</td>\n",
       "      <td>0.58</td>\n",
       "      <td>100.00</td>\n",
       "      <td>58.2</td>\n",
       "    </tr>\n",
       "    <tr>\n",
       "      <th>4</th>\n",
       "      <td>2015-11-01</td>\n",
       "      <td>23.65</td>\n",
       "      <td>23.41</td>\n",
       "      <td>23.53</td>\n",
       "      <td>18.13</td>\n",
       "      <td>98.50</td>\n",
       "      <td>0.20</td>\n",
       "      <td>1.41</td>\n",
       "      <td>0.61</td>\n",
       "      <td>100.02</td>\n",
       "      <td>56.7</td>\n",
       "    </tr>\n",
       "  </tbody>\n",
       "</table>\n",
       "</div>"
      ],
      "text/plain": [
       "        date    T2M  T2MDEW  T2MWET   QV2M   RH2M  PRECTOTCORR  WS10M  WS2M  \\\n",
       "0 2015-11-01  24.05   23.81   23.93  18.49  98.38         0.21   1.40  0.59   \n",
       "1 2015-11-01  23.98   23.74   23.87  18.43  98.38         0.22   1.37  0.58   \n",
       "2 2015-11-01  23.90   23.65   23.77  18.37  98.25         0.22   1.36  0.57   \n",
       "3 2015-11-01  23.76   23.52   23.64  18.19  98.38         0.21   1.38  0.58   \n",
       "4 2015-11-01  23.65   23.41   23.53  18.13  98.50         0.20   1.41  0.61   \n",
       "\n",
       "       SP  PowerSuMW  \n",
       "0  100.12       68.1  \n",
       "1  100.06       65.2  \n",
       "2  100.02       60.1  \n",
       "3  100.00       58.2  \n",
       "4  100.02       56.7  "
      ]
     },
     "execution_count": 57,
     "metadata": {},
     "output_type": "execute_result"
    }
   ],
   "source": [
    "data.head()"
   ]
  },
  {
   "cell_type": "code",
   "execution_count": null,
   "id": "d0397b95",
   "metadata": {},
   "outputs": [],
   "source": [
    "datamean=data.mask(data==0).fillna(data.mean())"
   ]
  },
  {
   "cell_type": "code",
   "execution_count": null,
   "id": "5cc038be",
   "metadata": {},
   "outputs": [],
   "source": [
    "# X(Independent variables) and y(target variables) \n",
    "X = datamean.iloc[:,9:].values\n",
    "y = datamean.iloc[:,10].values"
   ]
  },
  {
   "cell_type": "code",
   "execution_count": null,
   "id": "c7eb6201",
   "metadata": {},
   "outputs": [],
   "source": [
    "X"
   ]
  },
  {
   "cell_type": "code",
   "execution_count": null,
   "id": "398de82e",
   "metadata": {},
   "outputs": [],
   "source": [
    "y"
   ]
  },
  {
   "cell_type": "code",
   "execution_count": null,
   "id": "0d86c297",
   "metadata": {},
   "outputs": [],
   "source": [
    "from sklearn.linear_model import LinearRegression"
   ]
  },
  {
   "cell_type": "code",
   "execution_count": null,
   "id": "440b9646",
   "metadata": {},
   "outputs": [],
   "source": [
    "#Splitting the data into train,test data \n",
    "X_train,X_test,y_train,y_test=train_test_split(X,y,test_size=0.3,random_state=42)"
   ]
  },
  {
   "cell_type": "code",
   "execution_count": null,
   "id": "d6473ba1",
   "metadata": {},
   "outputs": [],
   "source": [
    "mlr = LinearRegression()\n",
    "mlr.fit(X_train,y_train)\n",
    "mlr_score = mlr.score(X_test,y_test)\n",
    "pred_mlr = mlr.predict(X_test)\n",
    "expl_mlr = explained_variance_score(pred_mlr,y_test)"
   ]
  },
  {
   "cell_type": "code",
   "execution_count": null,
   "id": "f6747f33",
   "metadata": {},
   "outputs": [],
   "source": [
    "tr_regressor = DecisionTreeRegressor(random_state=0)\n",
    "tr_regressor.fit(X_train,y_train)\n",
    "tr_regressor.score(X_test,y_test)\n",
    "pred_tr = tr_regressor.predict(X_test)\n",
    "decision_score=tr_regressor.score(X_test,y_test)\n",
    "expl_tr = explained_variance_score(pred_tr,y_test)"
   ]
  },
  {
   "cell_type": "code",
   "execution_count": null,
   "id": "461d069a",
   "metadata": {},
   "outputs": [],
   "source": [
    "rf_regressor = RandomForestRegressor(n_estimators=28,random_state=0)\n",
    "rf_regressor.fit(X_train,y_train)\n",
    "rf_regressor.score(X_test,y_test)\n",
    "rf_pred =rf_regressor.predict(X_test)\n",
    "rf_score=rf_regressor.score(X_test,y_test)\n",
    "expl_rf = explained_variance_score(rf_pred,y_test)"
   ]
  },
  {
   "cell_type": "code",
   "execution_count": null,
   "id": "e46a4257",
   "metadata": {},
   "outputs": [],
   "source": [
    "SVC_regressor = SVR(kernel='rbf')\n",
    "SVC_regressor.fit(X_train,y_train)\n",
    "SVC_regressor.score(X_test,y_test)\n",
    "SVC_pred =SVC_regressor.predict(X_test)\n",
    "SVC_score=SVC_regressor.score(X_test,y_test)\n",
    "expl_SVC = explained_variance_score(SVC_pred,y_test)"
   ]
  },
  {
   "cell_type": "code",
   "execution_count": null,
   "id": "c8c65bf3",
   "metadata": {
    "scrolled": true
   },
   "outputs": [],
   "source": [
    "print(\"Multiple Linear Regression Model Score is \",round(mlr.score(X_test,y_test)*100))\n",
    "print(\"Decision tree  Regression Model Score is \",round(tr_regressor.score(X_test,y_test)*100))\n",
    "print(\"Random Forest Regression Model Score is \",round(rf_regressor.score(X_test,y_test)*100))\n",
    "print(\"Support Vector Regression Model Score is \",round(SVC_regressor.score(X_test,y_test)*100))\n",
    "\n",
    "\n",
    "#Let's have a tabular pandas data frame, for a clear comparison\n",
    "models_score =pd.DataFrame({'Model':['Multiple Linear Regression','Decision Tree','Random forest Regression', \"Support vector\"],\n",
    "                            'Score':[mlr_score,decision_score,rf_score,SVC_regressor.score],\n",
    "                            'Explained Variance Score':[expl_mlr,expl_tr,expl_rf,expl_SVC]})\n",
    "models_score.sort_values(by='Score',ascending=False)"
   ]
  }
 ],
 "metadata": {
  "kernelspec": {
   "display_name": "Tensor",
   "language": "python",
   "name": "tensor"
  },
  "language_info": {
   "codemirror_mode": {
    "name": "ipython",
    "version": 3
   },
   "file_extension": ".py",
   "mimetype": "text/x-python",
   "name": "python",
   "nbconvert_exporter": "python",
   "pygments_lexer": "ipython3",
   "version": "3.7.13"
  }
 },
 "nbformat": 4,
 "nbformat_minor": 5
}
