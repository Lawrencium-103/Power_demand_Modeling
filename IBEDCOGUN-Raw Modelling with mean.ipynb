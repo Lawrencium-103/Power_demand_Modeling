{
 "cells": [
  {
   "cell_type": "markdown",
   "id": "a3216fe2",
   "metadata": {},
   "source": [
    "# Lawrence OLADEJI's  University of Ibadan MSc Project (IBEDC_OGUN), M1, mean"
   ]
  },
  {
   "cell_type": "markdown",
   "id": "fd1be92b",
   "metadata": {},
   "source": [
    "# Importing Libaries"
   ]
  },
  {
   "cell_type": "code",
   "execution_count": 1,
   "id": "ed38668e",
   "metadata": {},
   "outputs": [],
   "source": [
    "import pandas as pd\n",
    "import numpy as np\n",
    "import seaborn as sns\n",
    "import matplotlib.pyplot as plt\n",
    "%matplotlib inline\n",
    "sns.set()"
   ]
  },
  {
   "cell_type": "code",
   "execution_count": null,
   "id": "0c613669",
   "metadata": {},
   "outputs": [],
   "source": [
    "data=pd.read_csv(\"C:/Users/USER/Desktop/Lawrence/UI Msc/Project folder/ibedcogun/data.csv\", parse_dates= {\"date\" : [\"year\",\"month\",\"dow\"]})"
   ]
  },
  {
   "cell_type": "code",
   "execution_count": null,
   "id": "dbabf2c3",
   "metadata": {},
   "outputs": [],
   "source": [
    "data.columns"
   ]
  },
  {
   "cell_type": "code",
   "execution_count": null,
   "id": "f5f29668",
   "metadata": {},
   "outputs": [],
   "source": [
    "data.shape"
   ]
  },
  {
   "cell_type": "code",
   "execution_count": null,
   "id": "9e44453c",
   "metadata": {},
   "outputs": [],
   "source": [
    "data.head(5)"
   ]
  },
  {
   "cell_type": "code",
   "execution_count": null,
   "id": "86592d36",
   "metadata": {},
   "outputs": [],
   "source": [
    "data.reset_index(drop=True, inplace=True)"
   ]
  },
  {
   "cell_type": "code",
   "execution_count": null,
   "id": "3e500a6f",
   "metadata": {
    "scrolled": true
   },
   "outputs": [],
   "source": [
    "data.head()"
   ]
  },
  {
   "cell_type": "code",
   "execution_count": null,
   "id": "71ffb72d",
   "metadata": {},
   "outputs": [],
   "source": [
    "data.describe()"
   ]
  },
  {
   "cell_type": "code",
   "execution_count": null,
   "id": "3fa0d2f1",
   "metadata": {},
   "outputs": [],
   "source": [
    "data.drop(data.columns[[0,1,2]], axis=1, inplace=True)"
   ]
  },
  {
   "cell_type": "code",
   "execution_count": null,
   "id": "ffcebecd",
   "metadata": {},
   "outputs": [],
   "source": [
    "data.head()"
   ]
  },
  {
   "cell_type": "code",
   "execution_count": null,
   "id": "ba4f4705",
   "metadata": {
    "scrolled": true
   },
   "outputs": [],
   "source": [
    "data.dtypes"
   ]
  },
  {
   "cell_type": "code",
   "execution_count": null,
   "id": "6f015c42",
   "metadata": {},
   "outputs": [],
   "source": [
    "data.groupby('time')[['Power Supplied (MW)']].mean()"
   ]
  },
  {
   "cell_type": "code",
   "execution_count": null,
   "id": "cf33a444",
   "metadata": {},
   "outputs": [],
   "source": [
    "datanew=data"
   ]
  },
  {
   "cell_type": "code",
   "execution_count": null,
   "id": "cead399c",
   "metadata": {
    "scrolled": true
   },
   "outputs": [],
   "source": [
    "datanew.head()"
   ]
  },
  {
   "cell_type": "code",
   "execution_count": null,
   "id": "2fec21fe",
   "metadata": {},
   "outputs": [],
   "source": [
    "datanew.fillna(datanew.mean().round(1), inplace=True)"
   ]
  },
  {
   "cell_type": "code",
   "execution_count": null,
   "id": "7cc19be7",
   "metadata": {},
   "outputs": [],
   "source": [
    "datanew.mean()"
   ]
  },
  {
   "cell_type": "code",
   "execution_count": null,
   "id": "67e1a692",
   "metadata": {},
   "outputs": [],
   "source": [
    "datanew.head(10)"
   ]
  },
  {
   "cell_type": "code",
   "execution_count": null,
   "id": "eb3e818c",
   "metadata": {},
   "outputs": [],
   "source": [
    "datanew.fillna(datanew.mean().round(2), inplace=True)"
   ]
  },
  {
   "cell_type": "code",
   "execution_count": null,
   "id": "490fc4ef",
   "metadata": {},
   "outputs": [],
   "source": [
    "datanew.head(10)"
   ]
  },
  {
   "cell_type": "code",
   "execution_count": null,
   "id": "269188b1",
   "metadata": {},
   "outputs": [],
   "source": [
    "#for col in datanew.columns:\n",
    "   # val= datanew[col].mean()\n",
    "    #datanew[col]=datanew.replace(0, val)"
   ]
  },
  {
   "cell_type": "code",
   "execution_count": null,
   "id": "2f06f957",
   "metadata": {},
   "outputs": [],
   "source": [
    "datamean=datanew.mask(datanew==0).fillna(datanew.mean())"
   ]
  },
  {
   "cell_type": "code",
   "execution_count": null,
   "id": "3e9faa18",
   "metadata": {},
   "outputs": [],
   "source": [
    "datamean.head(10)"
   ]
  },
  {
   "cell_type": "markdown",
   "id": "276ff05b",
   "metadata": {},
   "source": [
    "# Feature Selection\n",
    "In any good model training pipeline, a critical component is deciding which features will be used as inputs to the model. For many models, a small subset of the input variables provide the lion's share of predictive ability. It is important to lower the amount of input variables for many reasons such as ;\n",
    "\n",
    "reducung multi collinearity\n",
    "reducing time to run the model and storage space\n",
    "easy understanding of important points\n",
    "to reduce the curse of dimensionality."
   ]
  },
  {
   "cell_type": "code",
   "execution_count": null,
   "id": "a0a23fe8",
   "metadata": {},
   "outputs": [],
   "source": [
    "data.columns"
   ]
  },
  {
   "cell_type": "code",
   "execution_count": null,
   "id": "53f81aeb",
   "metadata": {},
   "outputs": [],
   "source": [
    "# feature importance using tree based classifiers\n",
    "X = datamean.drop('Power Supplied (MW)', axis =1) # independent columns\n",
    "'time',\n",
    "y = datamean['Power Supplied (MW)'] # dependent/target column"
   ]
  },
  {
   "cell_type": "code",
   "execution_count": null,
   "id": "40b531c7",
   "metadata": {},
   "outputs": [],
   "source": []
  },
  {
   "cell_type": "code",
   "execution_count": null,
   "id": "a8b07f09",
   "metadata": {
    "scrolled": false
   },
   "outputs": [],
   "source": [
    "print('Training shapes:',X_train.shape, y_train.shape)\n",
    "print('Validation shapes:',X_valid.shape, y_valid.shape)"
   ]
  },
  {
   "cell_type": "code",
   "execution_count": null,
   "id": "2dc3cda4",
   "metadata": {},
   "outputs": [],
   "source": [
    "data = data.apply (pd.to_numeric, errors='coerce')\n",
    "data = data.reset_index(drop=True)\n",
    "\n",
    "print (data)"
   ]
  },
  {
   "cell_type": "code",
   "execution_count": null,
   "id": "27d71c82",
   "metadata": {},
   "outputs": [],
   "source": [
    "#remove rows with any values that are not finite\n",
    "#df_new = data[np.isfinite(data).all(1)]"
   ]
  },
  {
   "cell_type": "code",
   "execution_count": null,
   "id": "43697898",
   "metadata": {
    "scrolled": true
   },
   "outputs": [],
   "source": [
    "data.head()"
   ]
  },
  {
   "cell_type": "code",
   "execution_count": null,
   "id": "78adb397",
   "metadata": {},
   "outputs": [],
   "source": [
    "from sklearn import datasets, linear_model, metrics"
   ]
  },
  {
   "cell_type": "code",
   "execution_count": null,
   "id": "140dfd8e",
   "metadata": {},
   "outputs": [],
   "source": [
    "# create linear regression object\n",
    "reg = linear_model.LinearRegression()\n",
    "  \n",
    "# train the model using the training sets\n",
    "reg.fit(X_train, y_train)\n",
    "  \n",
    "# regression coefficients\n",
    "print('Coefficients: ', reg.coef_)\n",
    "  \n",
    "# variance score: 1 means perfect prediction\n",
    "print('Variance score: {}'.format(reg.score(X_valid, y_valid)))\n",
    "  \n",
    "# plot for residual error\n",
    "  \n",
    "## setting plot style\n",
    "plt.style.use('fivethirtyeight')"
   ]
  },
  {
   "cell_type": "code",
   "execution_count": null,
   "id": "69b9cea0",
   "metadata": {
    "scrolled": true
   },
   "outputs": [],
   "source": [
    "## setting plot style\n",
    "plt.style.use('fivethirtyeight')\n",
    "  \n",
    "## plotting residual errors in training data\n",
    "plt.scatter(reg.predict(X_train), reg.predict(X_train) - y_train,\n",
    "            color = \"green\", s = 10, label = 'Train data')\n",
    "  \n",
    "## plotting residual errors in test data\n",
    "plt.scatter(reg.predict(X_valid), reg.predict(X_valid) - y_valid,\n",
    "            color = \"blue\", s = 10, label = 'Test data')\n",
    "  \n",
    "## plotting line for zero residual error\n",
    "plt.hlines(y = 0, xmin = 0, xmax = 50, linewidth = 2)\n",
    "  \n",
    "## plotting legend\n",
    "plt.legend(loc = 'upper right')\n",
    "  \n",
    "## plot title\n",
    "plt.title(\"Residual errors\")\n",
    "  \n",
    "## method call for showing the plot\n",
    "plt.show()"
   ]
  },
  {
   "cell_type": "code",
   "execution_count": null,
   "id": "acd7776d",
   "metadata": {},
   "outputs": [],
   "source": [
    "pip install MultiTrain"
   ]
  },
  {
   "cell_type": "code",
   "execution_count": null,
   "id": "e5fcd53a",
   "metadata": {},
   "outputs": [],
   "source": [
    "import MultiTrain"
   ]
  },
  {
   "cell_type": "code",
   "execution_count": null,
   "id": "07377219",
   "metadata": {},
   "outputs": [],
   "source": [
    "pip install MultiTrain"
   ]
  },
  {
   "cell_type": "code",
   "execution_count": null,
   "id": "8661f625",
   "metadata": {},
   "outputs": [],
   "source": []
  },
  {
   "cell_type": "code",
   "execution_count": null,
   "id": "ef443797",
   "metadata": {},
   "outputs": [],
   "source": [
    "from MultiTrain install "
   ]
  }
 ],
 "metadata": {
  "kernelspec": {
   "display_name": "Tensor",
   "language": "python",
   "name": "tensor"
  },
  "language_info": {
   "codemirror_mode": {
    "name": "ipython",
    "version": 3
   },
   "file_extension": ".py",
   "mimetype": "text/x-python",
   "name": "python",
   "nbconvert_exporter": "python",
   "pygments_lexer": "ipython3",
   "version": "3.7.13"
  }
 },
 "nbformat": 4,
 "nbformat_minor": 5
}
